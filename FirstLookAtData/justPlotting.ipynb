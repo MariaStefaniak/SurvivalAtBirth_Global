{
 "cells": [
  {
   "cell_type": "code",
   "execution_count": 31,
   "metadata": {},
   "outputs": [],
   "source": [
    "import numpy as np\n",
    "import pandas as pd\n",
    "import matplotlib.pyplot as plt"
   ]
  },
  {
   "cell_type": "code",
   "execution_count": 51,
   "metadata": {},
   "outputs": [
    {
     "data": {
      "text/html": [
       "<div>\n",
       "<style scoped>\n",
       "    .dataframe tbody tr th:only-of-type {\n",
       "        vertical-align: middle;\n",
       "    }\n",
       "\n",
       "    .dataframe tbody tr th {\n",
       "        vertical-align: top;\n",
       "    }\n",
       "\n",
       "    .dataframe thead th {\n",
       "        text-align: right;\n",
       "    }\n",
       "</style>\n",
       "<table border=\"1\" class=\"dataframe\">\n",
       "  <thead>\n",
       "    <tr style=\"text-align: right;\">\n",
       "      <th></th>\n",
       "      <th>Country</th>\n",
       "      <th>Series Name</th>\n",
       "      <th>1985</th>\n",
       "      <th>1986</th>\n",
       "      <th>1987</th>\n",
       "      <th>1988</th>\n",
       "      <th>1989</th>\n",
       "      <th>1990</th>\n",
       "      <th>1991</th>\n",
       "      <th>1992</th>\n",
       "      <th>...</th>\n",
       "      <th>2012</th>\n",
       "      <th>2013</th>\n",
       "      <th>2014</th>\n",
       "      <th>2015</th>\n",
       "      <th>2016</th>\n",
       "      <th>2017</th>\n",
       "      <th>2018</th>\n",
       "      <th>2019</th>\n",
       "      <th>2020</th>\n",
       "      <th>2021</th>\n",
       "    </tr>\n",
       "  </thead>\n",
       "  <tbody>\n",
       "    <tr>\n",
       "      <th>0</th>\n",
       "      <td>AFG</td>\n",
       "      <td>GDP per capita</td>\n",
       "      <td>3401.71</td>\n",
       "      <td>3542.89</td>\n",
       "      <td>3318.44</td>\n",
       "      <td>3024.42</td>\n",
       "      <td>2742.98</td>\n",
       "      <td>2516.71</td>\n",
       "      <td>2133.93</td>\n",
       "      <td>1931.08</td>\n",
       "      <td>...</td>\n",
       "      <td>2075.49</td>\n",
       "      <td>2116.47</td>\n",
       "      <td>2102.38</td>\n",
       "      <td>2068.27</td>\n",
       "      <td>2057.07</td>\n",
       "      <td>2058.40</td>\n",
       "      <td>2033.80</td>\n",
       "      <td>2065.04</td>\n",
       "      <td>1970.56</td>\n",
       "      <td>NaN</td>\n",
       "    </tr>\n",
       "    <tr>\n",
       "      <th>1</th>\n",
       "      <td>ALB</td>\n",
       "      <td>GDP per capita</td>\n",
       "      <td>5214.67</td>\n",
       "      <td>5403.16</td>\n",
       "      <td>5254.60</td>\n",
       "      <td>5083.17</td>\n",
       "      <td>5435.11</td>\n",
       "      <td>4827.03</td>\n",
       "      <td>3496.37</td>\n",
       "      <td>3264.83</td>\n",
       "      <td>...</td>\n",
       "      <td>11227.97</td>\n",
       "      <td>11361.27</td>\n",
       "      <td>11586.83</td>\n",
       "      <td>11878.45</td>\n",
       "      <td>12291.86</td>\n",
       "      <td>12770.96</td>\n",
       "      <td>13317.09</td>\n",
       "      <td>13653.20</td>\n",
       "      <td>13253.73</td>\n",
       "      <td>14520.11</td>\n",
       "    </tr>\n",
       "    <tr>\n",
       "      <th>2</th>\n",
       "      <td>DZA</td>\n",
       "      <td>GDP per capita</td>\n",
       "      <td>9669.76</td>\n",
       "      <td>9426.51</td>\n",
       "      <td>9095.98</td>\n",
       "      <td>8758.49</td>\n",
       "      <td>8902.50</td>\n",
       "      <td>8746.34</td>\n",
       "      <td>8431.38</td>\n",
       "      <td>8383.76</td>\n",
       "      <td>...</td>\n",
       "      <td>11233.52</td>\n",
       "      <td>11319.08</td>\n",
       "      <td>11512.69</td>\n",
       "      <td>11696.95</td>\n",
       "      <td>11826.15</td>\n",
       "      <td>11737.40</td>\n",
       "      <td>11630.68</td>\n",
       "      <td>11521.98</td>\n",
       "      <td>10735.38</td>\n",
       "      <td>10957.16</td>\n",
       "    </tr>\n",
       "    <tr>\n",
       "      <th>3</th>\n",
       "      <td>ASM</td>\n",
       "      <td>GDP per capita</td>\n",
       "      <td>NaN</td>\n",
       "      <td>NaN</td>\n",
       "      <td>NaN</td>\n",
       "      <td>NaN</td>\n",
       "      <td>NaN</td>\n",
       "      <td>NaN</td>\n",
       "      <td>NaN</td>\n",
       "      <td>NaN</td>\n",
       "      <td>...</td>\n",
       "      <td>NaN</td>\n",
       "      <td>NaN</td>\n",
       "      <td>NaN</td>\n",
       "      <td>NaN</td>\n",
       "      <td>NaN</td>\n",
       "      <td>NaN</td>\n",
       "      <td>NaN</td>\n",
       "      <td>NaN</td>\n",
       "      <td>NaN</td>\n",
       "      <td>NaN</td>\n",
       "    </tr>\n",
       "    <tr>\n",
       "      <th>4</th>\n",
       "      <td>AND</td>\n",
       "      <td>GDP per capita</td>\n",
       "      <td>NaN</td>\n",
       "      <td>NaN</td>\n",
       "      <td>NaN</td>\n",
       "      <td>NaN</td>\n",
       "      <td>NaN</td>\n",
       "      <td>NaN</td>\n",
       "      <td>NaN</td>\n",
       "      <td>NaN</td>\n",
       "      <td>...</td>\n",
       "      <td>NaN</td>\n",
       "      <td>NaN</td>\n",
       "      <td>NaN</td>\n",
       "      <td>NaN</td>\n",
       "      <td>NaN</td>\n",
       "      <td>NaN</td>\n",
       "      <td>NaN</td>\n",
       "      <td>NaN</td>\n",
       "      <td>NaN</td>\n",
       "      <td>NaN</td>\n",
       "    </tr>\n",
       "    <tr>\n",
       "      <th>...</th>\n",
       "      <td>...</td>\n",
       "      <td>...</td>\n",
       "      <td>...</td>\n",
       "      <td>...</td>\n",
       "      <td>...</td>\n",
       "      <td>...</td>\n",
       "      <td>...</td>\n",
       "      <td>...</td>\n",
       "      <td>...</td>\n",
       "      <td>...</td>\n",
       "      <td>...</td>\n",
       "      <td>...</td>\n",
       "      <td>...</td>\n",
       "      <td>...</td>\n",
       "      <td>...</td>\n",
       "      <td>...</td>\n",
       "      <td>...</td>\n",
       "      <td>...</td>\n",
       "      <td>...</td>\n",
       "      <td>...</td>\n",
       "      <td>...</td>\n",
       "    </tr>\n",
       "    <tr>\n",
       "      <th>212</th>\n",
       "      <td>VIR</td>\n",
       "      <td>GDP per capita</td>\n",
       "      <td>NaN</td>\n",
       "      <td>NaN</td>\n",
       "      <td>NaN</td>\n",
       "      <td>NaN</td>\n",
       "      <td>NaN</td>\n",
       "      <td>NaN</td>\n",
       "      <td>NaN</td>\n",
       "      <td>NaN</td>\n",
       "      <td>...</td>\n",
       "      <td>NaN</td>\n",
       "      <td>NaN</td>\n",
       "      <td>NaN</td>\n",
       "      <td>NaN</td>\n",
       "      <td>NaN</td>\n",
       "      <td>NaN</td>\n",
       "      <td>NaN</td>\n",
       "      <td>NaN</td>\n",
       "      <td>NaN</td>\n",
       "      <td>NaN</td>\n",
       "    </tr>\n",
       "    <tr>\n",
       "      <th>213</th>\n",
       "      <td>PSE</td>\n",
       "      <td>GDP per capita</td>\n",
       "      <td>3492.91</td>\n",
       "      <td>3419.94</td>\n",
       "      <td>3349.09</td>\n",
       "      <td>3274.01</td>\n",
       "      <td>3193.64</td>\n",
       "      <td>3104.81</td>\n",
       "      <td>2843.82</td>\n",
       "      <td>3368.71</td>\n",
       "      <td>...</td>\n",
       "      <td>5985.68</td>\n",
       "      <td>6118.26</td>\n",
       "      <td>5967.07</td>\n",
       "      <td>6048.98</td>\n",
       "      <td>6438.93</td>\n",
       "      <td>6401.74</td>\n",
       "      <td>6318.21</td>\n",
       "      <td>6245.45</td>\n",
       "      <td>5402.54</td>\n",
       "      <td>5643.07</td>\n",
       "    </tr>\n",
       "    <tr>\n",
       "      <th>214</th>\n",
       "      <td>YEM</td>\n",
       "      <td>GDP per capita</td>\n",
       "      <td>5611.50</td>\n",
       "      <td>5545.50</td>\n",
       "      <td>5487.36</td>\n",
       "      <td>5422.93</td>\n",
       "      <td>5341.22</td>\n",
       "      <td>6089.37</td>\n",
       "      <td>6161.06</td>\n",
       "      <td>6331.17</td>\n",
       "      <td>...</td>\n",
       "      <td>6863.33</td>\n",
       "      <td>7001.57</td>\n",
       "      <td>6805.33</td>\n",
       "      <td>4775.49</td>\n",
       "      <td>4221.00</td>\n",
       "      <td>3910.96</td>\n",
       "      <td>3848.60</td>\n",
       "      <td>3813.72</td>\n",
       "      <td>3411.87</td>\n",
       "      <td>3268.69</td>\n",
       "    </tr>\n",
       "    <tr>\n",
       "      <th>215</th>\n",
       "      <td>ZMB</td>\n",
       "      <td>GDP per capita</td>\n",
       "      <td>2348.39</td>\n",
       "      <td>2291.31</td>\n",
       "      <td>2280.55</td>\n",
       "      <td>2351.87</td>\n",
       "      <td>2261.74</td>\n",
       "      <td>2190.18</td>\n",
       "      <td>2133.69</td>\n",
       "      <td>2045.97</td>\n",
       "      <td>...</td>\n",
       "      <td>3339.27</td>\n",
       "      <td>3399.70</td>\n",
       "      <td>3450.04</td>\n",
       "      <td>3443.55</td>\n",
       "      <td>3467.89</td>\n",
       "      <td>3485.02</td>\n",
       "      <td>3521.55</td>\n",
       "      <td>3470.44</td>\n",
       "      <td>3277.82</td>\n",
       "      <td>3298.63</td>\n",
       "    </tr>\n",
       "    <tr>\n",
       "      <th>216</th>\n",
       "      <td>ZWE</td>\n",
       "      <td>GDP per capita</td>\n",
       "      <td>3916.57</td>\n",
       "      <td>3858.54</td>\n",
       "      <td>3768.96</td>\n",
       "      <td>3921.11</td>\n",
       "      <td>4001.20</td>\n",
       "      <td>4166.53</td>\n",
       "      <td>4294.67</td>\n",
       "      <td>3828.80</td>\n",
       "      <td>...</td>\n",
       "      <td>3674.87</td>\n",
       "      <td>3681.95</td>\n",
       "      <td>3703.90</td>\n",
       "      <td>3707.62</td>\n",
       "      <td>3678.22</td>\n",
       "      <td>3795.64</td>\n",
       "      <td>3923.03</td>\n",
       "      <td>3630.03</td>\n",
       "      <td>3353.41</td>\n",
       "      <td>3495.65</td>\n",
       "    </tr>\n",
       "  </tbody>\n",
       "</table>\n",
       "<p>217 rows × 39 columns</p>\n",
       "</div>"
      ],
      "text/plain": [
       "    Country     Series Name     1985     1986     1987     1988     1989  \\\n",
       "0       AFG  GDP per capita  3401.71  3542.89  3318.44  3024.42  2742.98   \n",
       "1       ALB  GDP per capita  5214.67  5403.16  5254.60  5083.17  5435.11   \n",
       "2       DZA  GDP per capita  9669.76  9426.51  9095.98  8758.49  8902.50   \n",
       "3       ASM  GDP per capita      NaN      NaN      NaN      NaN      NaN   \n",
       "4       AND  GDP per capita      NaN      NaN      NaN      NaN      NaN   \n",
       "..      ...             ...      ...      ...      ...      ...      ...   \n",
       "212     VIR  GDP per capita      NaN      NaN      NaN      NaN      NaN   \n",
       "213     PSE  GDP per capita  3492.91  3419.94  3349.09  3274.01  3193.64   \n",
       "214     YEM  GDP per capita  5611.50  5545.50  5487.36  5422.93  5341.22   \n",
       "215     ZMB  GDP per capita  2348.39  2291.31  2280.55  2351.87  2261.74   \n",
       "216     ZWE  GDP per capita  3916.57  3858.54  3768.96  3921.11  4001.20   \n",
       "\n",
       "        1990     1991     1992  ...      2012      2013      2014      2015  \\\n",
       "0    2516.71  2133.93  1931.08  ...   2075.49   2116.47   2102.38   2068.27   \n",
       "1    4827.03  3496.37  3264.83  ...  11227.97  11361.27  11586.83  11878.45   \n",
       "2    8746.34  8431.38  8383.76  ...  11233.52  11319.08  11512.69  11696.95   \n",
       "3        NaN      NaN      NaN  ...       NaN       NaN       NaN       NaN   \n",
       "4        NaN      NaN      NaN  ...       NaN       NaN       NaN       NaN   \n",
       "..       ...      ...      ...  ...       ...       ...       ...       ...   \n",
       "212      NaN      NaN      NaN  ...       NaN       NaN       NaN       NaN   \n",
       "213  3104.81  2843.82  3368.71  ...   5985.68   6118.26   5967.07   6048.98   \n",
       "214  6089.37  6161.06  6331.17  ...   6863.33   7001.57   6805.33   4775.49   \n",
       "215  2190.18  2133.69  2045.97  ...   3339.27   3399.70   3450.04   3443.55   \n",
       "216  4166.53  4294.67  3828.80  ...   3674.87   3681.95   3703.90   3707.62   \n",
       "\n",
       "         2016      2017      2018      2019      2020      2021  \n",
       "0     2057.07   2058.40   2033.80   2065.04   1970.56       NaN  \n",
       "1    12291.86  12770.96  13317.09  13653.20  13253.73  14520.11  \n",
       "2    11826.15  11737.40  11630.68  11521.98  10735.38  10957.16  \n",
       "3         NaN       NaN       NaN       NaN       NaN       NaN  \n",
       "4         NaN       NaN       NaN       NaN       NaN       NaN  \n",
       "..        ...       ...       ...       ...       ...       ...  \n",
       "212       NaN       NaN       NaN       NaN       NaN       NaN  \n",
       "213   6438.93   6401.74   6318.21   6245.45   5402.54   5643.07  \n",
       "214   4221.00   3910.96   3848.60   3813.72   3411.87   3268.69  \n",
       "215   3467.89   3485.02   3521.55   3470.44   3277.82   3298.63  \n",
       "216   3678.22   3795.64   3923.03   3630.03   3353.41   3495.65  \n",
       "\n",
       "[217 rows x 39 columns]"
      ]
     },
     "execution_count": 51,
     "metadata": {},
     "output_type": "execute_result"
    }
   ],
   "source": [
    "filePath = '/Users/stefaniak.9/Library/CloudStorage/OneDrive-TheOhioStateUniversity/ERDOS/DataScience/PROEJCT/SurvivalAtBirth_Global/Data_Organization/CSV_Uploads/Maria/'\n",
    "fileName = 'https://raw.githubusercontent.com/MariaStefaniak/SurvivalAtBirth_Global/refs/heads/main/Data_Organization/CSV_Uploads/Maria/gdp_WORLDBANK_2022.07.11.csv'#'gdp_WORLDBANK_2022.07.11.csv'\n",
    "df_GDP = pd.read_csv(fileName, index_col=0)\n",
    "df_GDP = df_GDP.reset_index()\n",
    "df_GDP = df_GDP.dropna(subset=[\"Country Code\"])\n",
    "df_GDP = df_GDP.loc[:, ~df_GDP.columns.str.contains(\"Unnamed\")]\n",
    "df_GDP = df_GDP.iloc[1:].reset_index(drop=True)\n",
    "df_GDP.rename(columns={\"Country Code\": \"Country\"}, inplace=True)\n",
    "df_GDP.columns = df_GDP.columns.str.replace(\"YR\", \"\", regex=False)\n",
    "df_GDP\n"
   ]
  },
  {
   "cell_type": "code",
   "execution_count": 48,
   "metadata": {},
   "outputs": [
    {
     "data": {
      "text/html": [
       "<div>\n",
       "<style scoped>\n",
       "    .dataframe tbody tr th:only-of-type {\n",
       "        vertical-align: middle;\n",
       "    }\n",
       "\n",
       "    .dataframe tbody tr th {\n",
       "        vertical-align: top;\n",
       "    }\n",
       "\n",
       "    .dataframe thead th {\n",
       "        text-align: right;\n",
       "    }\n",
       "</style>\n",
       "<table border=\"1\" class=\"dataframe\">\n",
       "  <thead>\n",
       "    <tr style=\"text-align: right;\">\n",
       "      <th></th>\n",
       "      <th>Country</th>\n",
       "      <th>Year</th>\n",
       "      <th>Mortality_Ratio</th>\n",
       "      <th>Population</th>\n",
       "    </tr>\n",
       "  </thead>\n",
       "  <tbody>\n",
       "    <tr>\n",
       "      <th>0</th>\n",
       "      <td>AFG</td>\n",
       "      <td>1985</td>\n",
       "      <td>1910.3416</td>\n",
       "      <td>11426855</td>\n",
       "    </tr>\n",
       "    <tr>\n",
       "      <th>1</th>\n",
       "      <td>AFG</td>\n",
       "      <td>1986</td>\n",
       "      <td>1602.9429</td>\n",
       "      <td>11420074</td>\n",
       "    </tr>\n",
       "    <tr>\n",
       "      <th>2</th>\n",
       "      <td>AFG</td>\n",
       "      <td>1987</td>\n",
       "      <td>1586.7214</td>\n",
       "      <td>11387824</td>\n",
       "    </tr>\n",
       "    <tr>\n",
       "      <th>3</th>\n",
       "      <td>AFG</td>\n",
       "      <td>1988</td>\n",
       "      <td>1413.9326</td>\n",
       "      <td>11523299</td>\n",
       "    </tr>\n",
       "    <tr>\n",
       "      <th>4</th>\n",
       "      <td>AFG</td>\n",
       "      <td>1989</td>\n",
       "      <td>1382.7299</td>\n",
       "      <td>11874088</td>\n",
       "    </tr>\n",
       "  </tbody>\n",
       "</table>\n",
       "</div>"
      ],
      "text/plain": [
       "  Country  Year  Mortality_Ratio Population\n",
       "0     AFG  1985        1910.3416   11426855\n",
       "1     AFG  1986        1602.9429   11420074\n",
       "2     AFG  1987        1586.7214   11387824\n",
       "3     AFG  1988        1413.9326   11523299\n",
       "4     AFG  1989        1382.7299   11874088"
      ]
     },
     "execution_count": 48,
     "metadata": {},
     "output_type": "execute_result"
    }
   ],
   "source": [
    "#fileName = 'HistoryMortalityPopulation.csv'\n",
    "fileName = 'https://raw.githubusercontent.com/MariaStefaniak/SurvivalAtBirth_Global/refs/heads/main/Data_Organization/CSV_Uploads/Maria/HistoryMortalityPopulation.csv'\n",
    "df_Population = pd.read_csv(fileName)\n",
    "df_Population = df_Population.iloc[1:].reset_index(drop=True)\n",
    "df_Population = df_Population.dropna(subset=[\"Estimated maternal mortality ratio\"])\n",
    "df_Population[\"Estimated maternal mortality ratio\"] = pd.to_numeric(df_Population[\"Estimated maternal mortality ratio\"], errors='coerce')\n",
    "#df_Population[\"Estimated maternal mortality ratio\"] = pd.to_numeric(df_Population[\"Estimated maternal mortality ratio\"], errors='coerce')\n",
    "df_Population.rename(columns={\"Estimated maternal mortality ratio\": \"Mortality_Ratio\"}, inplace=True)\n",
    "df_Population.rename(columns={\"Population (historical)\": \"Population\"}, inplace=True)\n",
    "df_Population.rename(columns={\"Entity\": \"Country\"}, inplace=True)\n",
    "\n",
    "df_Population.head()"
   ]
  },
  {
   "cell_type": "code",
   "execution_count": 34,
   "metadata": {},
   "outputs": [
    {
     "data": {
      "text/html": [
       "<div>\n",
       "<style scoped>\n",
       "    .dataframe tbody tr th:only-of-type {\n",
       "        vertical-align: middle;\n",
       "    }\n",
       "\n",
       "    .dataframe tbody tr th {\n",
       "        vertical-align: top;\n",
       "    }\n",
       "\n",
       "    .dataframe thead th {\n",
       "        text-align: right;\n",
       "    }\n",
       "</style>\n",
       "<table border=\"1\" class=\"dataframe\">\n",
       "  <thead>\n",
       "    <tr style=\"text-align: right;\">\n",
       "      <th>Year</th>\n",
       "      <th>Country</th>\n",
       "      <th>1985</th>\n",
       "      <th>1986</th>\n",
       "      <th>1987</th>\n",
       "      <th>1988</th>\n",
       "      <th>1989</th>\n",
       "      <th>1990</th>\n",
       "      <th>1991</th>\n",
       "      <th>1992</th>\n",
       "      <th>1993</th>\n",
       "      <th>...</th>\n",
       "      <th>2011</th>\n",
       "      <th>2012</th>\n",
       "      <th>2013</th>\n",
       "      <th>2014</th>\n",
       "      <th>2015</th>\n",
       "      <th>2016</th>\n",
       "      <th>2017</th>\n",
       "      <th>2018</th>\n",
       "      <th>2019</th>\n",
       "      <th>2020</th>\n",
       "    </tr>\n",
       "  </thead>\n",
       "  <tbody>\n",
       "    <tr>\n",
       "      <th>0</th>\n",
       "      <td>AFG</td>\n",
       "      <td>1910.341600</td>\n",
       "      <td>1602.942900</td>\n",
       "      <td>1586.721400</td>\n",
       "      <td>1413.932600</td>\n",
       "      <td>1382.729900</td>\n",
       "      <td>1377.858600</td>\n",
       "      <td>1392.785900</td>\n",
       "      <td>1451.594000</td>\n",
       "      <td>1368.816200</td>\n",
       "      <td>...</td>\n",
       "      <td>883.713900</td>\n",
       "      <td>833.477200</td>\n",
       "      <td>820.685360</td>\n",
       "      <td>785.354060</td>\n",
       "      <td>775.692700</td>\n",
       "      <td>749.815700</td>\n",
       "      <td>681.807560</td>\n",
       "      <td>663.427500</td>\n",
       "      <td>644.272600</td>\n",
       "      <td>620.407530</td>\n",
       "    </tr>\n",
       "    <tr>\n",
       "      <th>1</th>\n",
       "      <td>AGO</td>\n",
       "      <td>1097.974700</td>\n",
       "      <td>1084.063100</td>\n",
       "      <td>1015.036000</td>\n",
       "      <td>1014.127870</td>\n",
       "      <td>1099.853900</td>\n",
       "      <td>1101.505700</td>\n",
       "      <td>1057.425800</td>\n",
       "      <td>1144.283900</td>\n",
       "      <td>1096.306500</td>\n",
       "      <td>...</td>\n",
       "      <td>334.731300</td>\n",
       "      <td>304.040400</td>\n",
       "      <td>291.413970</td>\n",
       "      <td>291.747340</td>\n",
       "      <td>273.596530</td>\n",
       "      <td>269.823580</td>\n",
       "      <td>252.804860</td>\n",
       "      <td>233.096250</td>\n",
       "      <td>227.686970</td>\n",
       "      <td>221.906510</td>\n",
       "    </tr>\n",
       "    <tr>\n",
       "      <th>2</th>\n",
       "      <td>ALB</td>\n",
       "      <td>47.698692</td>\n",
       "      <td>41.964490</td>\n",
       "      <td>39.203156</td>\n",
       "      <td>36.728065</td>\n",
       "      <td>34.942030</td>\n",
       "      <td>32.874947</td>\n",
       "      <td>29.074210</td>\n",
       "      <td>27.674513</td>\n",
       "      <td>26.515451</td>\n",
       "      <td>...</td>\n",
       "      <td>8.045227</td>\n",
       "      <td>7.796703</td>\n",
       "      <td>7.215363</td>\n",
       "      <td>7.009861</td>\n",
       "      <td>6.878285</td>\n",
       "      <td>6.656085</td>\n",
       "      <td>6.689698</td>\n",
       "      <td>5.429293</td>\n",
       "      <td>5.305023</td>\n",
       "      <td>8.276446</td>\n",
       "    </tr>\n",
       "    <tr>\n",
       "      <th>3</th>\n",
       "      <td>ARE</td>\n",
       "      <td>21.615992</td>\n",
       "      <td>21.568401</td>\n",
       "      <td>20.232410</td>\n",
       "      <td>20.631084</td>\n",
       "      <td>21.127855</td>\n",
       "      <td>21.199984</td>\n",
       "      <td>21.353664</td>\n",
       "      <td>23.128319</td>\n",
       "      <td>21.835316</td>\n",
       "      <td>...</td>\n",
       "      <td>9.511198</td>\n",
       "      <td>8.604210</td>\n",
       "      <td>8.800449</td>\n",
       "      <td>9.054851</td>\n",
       "      <td>9.385999</td>\n",
       "      <td>8.338153</td>\n",
       "      <td>8.591664</td>\n",
       "      <td>9.046694</td>\n",
       "      <td>9.432062</td>\n",
       "      <td>9.340701</td>\n",
       "    </tr>\n",
       "    <tr>\n",
       "      <th>4</th>\n",
       "      <td>ARG</td>\n",
       "      <td>97.925995</td>\n",
       "      <td>95.421936</td>\n",
       "      <td>93.700874</td>\n",
       "      <td>92.160490</td>\n",
       "      <td>90.125786</td>\n",
       "      <td>87.814260</td>\n",
       "      <td>82.481020</td>\n",
       "      <td>81.170950</td>\n",
       "      <td>78.660240</td>\n",
       "      <td>...</td>\n",
       "      <td>50.251950</td>\n",
       "      <td>45.024837</td>\n",
       "      <td>43.346664</td>\n",
       "      <td>41.764570</td>\n",
       "      <td>39.335068</td>\n",
       "      <td>40.259438</td>\n",
       "      <td>38.243805</td>\n",
       "      <td>33.944830</td>\n",
       "      <td>32.602604</td>\n",
       "      <td>44.900078</td>\n",
       "    </tr>\n",
       "  </tbody>\n",
       "</table>\n",
       "<p>5 rows × 37 columns</p>\n",
       "</div>"
      ],
      "text/plain": [
       "Year Country         1985         1986         1987         1988         1989  \\\n",
       "0        AFG  1910.341600  1602.942900  1586.721400  1413.932600  1382.729900   \n",
       "1        AGO  1097.974700  1084.063100  1015.036000  1014.127870  1099.853900   \n",
       "2        ALB    47.698692    41.964490    39.203156    36.728065    34.942030   \n",
       "3        ARE    21.615992    21.568401    20.232410    20.631084    21.127855   \n",
       "4        ARG    97.925995    95.421936    93.700874    92.160490    90.125786   \n",
       "\n",
       "Year         1990         1991         1992         1993  ...        2011  \\\n",
       "0     1377.858600  1392.785900  1451.594000  1368.816200  ...  883.713900   \n",
       "1     1101.505700  1057.425800  1144.283900  1096.306500  ...  334.731300   \n",
       "2       32.874947    29.074210    27.674513    26.515451  ...    8.045227   \n",
       "3       21.199984    21.353664    23.128319    21.835316  ...    9.511198   \n",
       "4       87.814260    82.481020    81.170950    78.660240  ...   50.251950   \n",
       "\n",
       "Year        2012        2013        2014        2015        2016        2017  \\\n",
       "0     833.477200  820.685360  785.354060  775.692700  749.815700  681.807560   \n",
       "1     304.040400  291.413970  291.747340  273.596530  269.823580  252.804860   \n",
       "2       7.796703    7.215363    7.009861    6.878285    6.656085    6.689698   \n",
       "3       8.604210    8.800449    9.054851    9.385999    8.338153    8.591664   \n",
       "4      45.024837   43.346664   41.764570   39.335068   40.259438   38.243805   \n",
       "\n",
       "Year        2018        2019        2020  \n",
       "0     663.427500  644.272600  620.407530  \n",
       "1     233.096250  227.686970  221.906510  \n",
       "2       5.429293    5.305023    8.276446  \n",
       "3       9.046694    9.432062    9.340701  \n",
       "4      33.944830   32.602604   44.900078  \n",
       "\n",
       "[5 rows x 37 columns]"
      ]
     },
     "execution_count": 34,
     "metadata": {},
     "output_type": "execute_result"
    }
   ],
   "source": [
    "# change in the mortality Ratio between 1985 and 2020\n",
    "df_MortalityHistory = df_Population.pivot(index = \"Country\", columns=\"Year\", values=\"Mortality_Ratio\")\n",
    "df_MortalityHistory.reset_index(inplace=True)\n",
    "df_MortalityHistory.reset_index(drop=True)\n",
    "df_MortalityHistory.head()"
   ]
  },
  {
   "cell_type": "code",
   "execution_count": 39,
   "metadata": {},
   "outputs": [
    {
     "data": {
      "image/png": "[encoded data removed]",
      "text/plain": [
       "<Figure size 1000x600 with 1 Axes>"
      ]
     },
     "metadata": {},
     "output_type": "display_data"
    }
   ],
   "source": [
    "# Plot the data\n",
    "plt.figure(figsize=(10, 6))\n",
    "plt.scatter(df_MortalityHistory[\"1985\"], df_MortalityHistory[\"2020\"])\n",
    "\n",
    "# Add annotations\n",
    "for i, row in df_MortalityHistory.iterrows():\n",
    "    plt.text(row[\"1985\"], row[\"2020\"], row[\"Country\"], fontsize=8, alpha=0.7)\n",
    "\n",
    "# Add diagonal reference line (k = y = x)\n",
    "min_val = min(df_MortalityHistory[\"2020\"].min(), df_MortalityHistory[\"1985\"].min())\n",
    "max_val = max(df_MortalityHistory[\"2020\"].max(), df_MortalityHistory[\"1985\"].max())\n",
    "plt.plot([min_val, max_val], [min_val, max_val], color='gray', linestyle='--', linewidth=1, label='y = x')\n",
    "\n",
    "# Add labels and title\n",
    "plt.ylim(0, 1500)\n",
    "plt.xlabel(\"Mortality in 1985\")\n",
    "plt.ylabel(\"Mortality in 2020\")\n",
    "plt.title(\"1985 vs 2020 Mortality by Country\")\n",
    "plt.grid(True)\n",
    "plt.tight_layout()\n",
    "plt.show()"
   ]
  },
  {
   "cell_type": "code",
   "execution_count": 42,
   "metadata": {},
   "outputs": [
    {
     "data": {
      "image/png": "[encoded data removed]",
      "text/plain": [
       "<Figure size 1000x600 with 1 Axes>"
      ]
     },
     "metadata": {},
     "output_type": "display_data"
    }
   ],
   "source": [
    "plt.figure(figsize=(10, 6))\n",
    "plt.scatter(df_MortalityHistory[\"2020\"], df_MortalityHistory[\"1985\"])\n",
    "\n",
    "# Add annotations\n",
    "for i, row in df_MortalityHistory.iterrows():\n",
    "    if row[\"2020\"] < 500 and row[\"1985\"] < 500:  # Only annotate visible points\n",
    "        plt.text(row[\"2020\"], row[\"1985\"], row[\"Country\"], fontsize=8, alpha=0.7)\n",
    "\n",
    "# Add diagonal reference line\n",
    "plt.plot([0, 500], [0, 500], color='gray', linestyle='--', linewidth=1, label='y = x')\n",
    "\n",
    "# Set axis limits\n",
    "plt.xlim(0, 500)\n",
    "plt.ylim(0, 500)\n",
    "\n",
    "# Add labels and title\n",
    "plt.xlabel(\"Mortality in 2020\")\n",
    "plt.ylabel(\"Mortality in 1985\")\n",
    "plt.title(\"2020 vs 1985 Mortality by Country (Zoomed < 500)\")\n",
    "plt.grid(True)\n",
    "plt.legend()\n",
    "plt.tight_layout()\n",
    "plt.show()"
   ]
  },
  {
   "cell_type": "code",
   "execution_count": 43,
   "metadata": {},
   "outputs": [
    {
     "data": {
      "image/png": "[encoded data removed]",
      "text/plain": [
       "<Figure size 1400x600 with 2 Axes>"
      ]
     },
     "metadata": {},
     "output_type": "display_data"
    }
   ],
   "source": [
    "# Compute the difference\n",
    "df_MortalityHistory[\"Difference\"] = df_MortalityHistory[\"1985\"] - df_MortalityHistory[\"2020\"]\n",
    "df_MortalityHistory[\"Diff_vs_1985\"] = df_MortalityHistory[\"Difference\"] / df_MortalityHistory[\"1985\"]\n",
    "df_MortalityHistory[\"Diff_vs_2020\"] = df_MortalityHistory[\"Difference\"] / df_MortalityHistory[\"2020\"]\n",
    "\n",
    "# Sort by difference vs 1985 for a clean bar order\n",
    "df_sorted = df_MortalityHistory.sort_values(\"Diff_vs_1985\", ascending=False)\n",
    "\n",
    "# Plot\n",
    "plt.figure(figsize=(14, 6))\n",
    "\n",
    "# First subplot: Difference relative to 1985\n",
    "plt.subplot(1, 2, 1)\n",
    "plt.bar(df_sorted[\"Country\"], df_sorted[\"Diff_vs_1985\"])\n",
    "plt.xticks(rotation=90)\n",
    "plt.ylabel(\"Relative Change (Δ / 1985)\")\n",
    "plt.title(\"Relative Mortality Change vs 1985\")\n",
    "plt.axhline(0, color='gray', linewidth=1)\n",
    "\n",
    "# Second subplot: Difference relative to 2020\n",
    "plt.subplot(1, 2, 2)\n",
    "plt.bar(df_sorted[\"Country\"], df_sorted[\"Diff_vs_2020\"])\n",
    "plt.xticks(rotation=90)\n",
    "plt.ylabel(\"Relative Change (Δ / 2020)\")\n",
    "plt.title(\"Relative Mortality Change vs 2020\")\n",
    "plt.axhline(0, color='gray', linewidth=1)\n",
    "\n",
    "plt.tight_layout()\n",
    "plt.show()"
   ]
  },
  {
   "cell_type": "code",
   "execution_count": 44,
   "metadata": {},
   "outputs": [
    {
     "data": {
      "image/png": "[encoded data removed]",
      "text/plain": [
       "<Figure size 1400x600 with 2 Axes>"
      ]
     },
     "metadata": {},
     "output_type": "display_data"
    }
   ],
   "source": [
    "# Compute the difference if not already present\n",
    "df_MortalityHistory[\"Difference\"] = df_MortalityHistory[\"1985\"] - df_MortalityHistory[\"2020\"]\n",
    "\n",
    "plt.figure(figsize=(14, 6))\n",
    "\n",
    "# Plot 1: Difference vs 1985\n",
    "plt.subplot(1, 2, 1)\n",
    "plt.scatter(df_MortalityHistory[\"1985\"], df_MortalityHistory[\"Difference\"])\n",
    "for _, row in df_MortalityHistory.iterrows():\n",
    "    plt.text(row[\"1985\"], row[\"Difference\"], row[\"Country\"], fontsize=8, alpha=0.7)\n",
    "plt.xlabel(\"Mortality in 1985\")\n",
    "plt.ylabel(\"Difference (1985 - 2020)\")\n",
    "plt.title(\"Difference vs Mortality in 1985\")\n",
    "plt.grid(True)\n",
    "\n",
    "# Plot 2: Difference vs 2020\n",
    "plt.subplot(1, 2, 2)\n",
    "plt.scatter(df_MortalityHistory[\"2020\"], df_MortalityHistory[\"Difference\"])\n",
    "for _, row in df_MortalityHistory.iterrows():\n",
    "    plt.text(row[\"2020\"], row[\"Difference\"], row[\"Country\"], fontsize=8, alpha=0.7)\n",
    "plt.xlabel(\"Mortality in 2020\")\n",
    "plt.ylabel(\"Difference (1985 - 2020)\")\n",
    "plt.title(\"Difference vs Mortality in 2020\")\n",
    "plt.grid(True)\n",
    "\n",
    "plt.tight_layout()\n",
    "plt.show()"
   ]
  },
  {
   "cell_type": "code",
   "execution_count": 45,
   "metadata": {},
   "outputs": [
    {
     "data": {
      "application/vnd.plotly.v1+json": {
       "config": {
        "plotlyServerURL": "https://plot.ly"
       },
       "data": [
        {
         "hovertemplate": "<b>%{hovertext}</b><br><br>Country=AFG<br>Mortality in 1985=%{x}<br>Difference (1985 - 2020)=%{y}<extra></extra>",
         "hovertext": [
          "AFG"
         ],
         "legendgroup": "AFG",
         "marker": {
          "color": "#636efa",
          "symbol": "circle"
         },
         "mode": "markers",
         "name": "AFG",
         "orientation": "v",
         "showlegend": true,
         "type": "scatter",
         "x": [
          1910.3416
         ],
         "xaxis": "x",
         "y": [
          1289.93407
         ],
         "yaxis": "y"
        },
        {
         "hovertemplate": "<b>%{hovertext}</b><br><br>Country=AGO<br>Mortality in 1985=%{x}<br>Difference (1985 - 2020)=%{y}<extra></extra>",
         "hovertext": [
          "AGO"
         ],
         "legendgroup": "AGO",
         "marker": {
          "color": "#EF553B",
          "symbol": "circle"
         },
         "mode": "markers",
         "name": "AGO",
         "orientation": "v",
         "showlegend": true,
         "type": "scatter",
         "x": [
          1097.9747
         ],
         "xaxis": "x",
         "y": [
          876.06819
         ],
         "yaxis": "y"
        },
        {
         "hovertemplate": "<b>%{hovertext}</b><br><br>Country=ALB<br>Mortality in 1985=%{x}<br>Difference (1985 - 2020)=%{y}<extra></extra>",
         "hovertext": [
          "ALB"
         ],
         "legendgroup": "ALB",
         "marker": {
          "color": "#00cc96",
          "symbol": "circle"
         },
         "mode": "markers",
         "name": "ALB",
         "orientation": "v",
         "showlegend": true,
         "type": "scatter",
         "x": [
          47.698692
         ],
         "xaxis": "x",
         "y": [
          39.422246
         ],
         "yaxis": "y"
        },
        {
         "hovertemplate": "<b>%{hovertext}</b><br><br>Country=ARE<br>Mortality in 1985=%{x}<br>Difference (1985 - 2020)=%{y}<extra></extra>",
         "hovertext": [
          "ARE"
         ],
         "legendgroup": "ARE",
         "marker": {
          "color": "#ab63fa",
          "symbol": "circle"
         },
         "mode": "markers",
         "name": "ARE",
         "orientation": "v",
         "showlegend": true,
         "type": "scatter",
         "x": [
          21.615992
         ],
         "xaxis": "x",
         "y": [
          12.275291
         ],
         "yaxis": "y"
        },
        {
         "hovertemplate": "<b>%{hovertext}</b><br><br>Country=ARG<br>Mortality in 1985=%{x}<br>Difference (1985 - 2020)=%{y}<extra></extra>",
         "hovertext": [
          "ARG"
         ],
         "legendgroup": "ARG",
         "marker": {
          "color": "#FFA15A",
          "symbol": "circle"
         },
         "mode": "markers",
         "name": "ARG",
         "orientation": "v",
         "showlegend": true,
         "type": "scatter",
         "x": [
          97.925995
         ],
         "xaxis": "x",
         "y": [
          53.025917
         ],
         "yaxis": "y"
        },
        {
         "hovertemplate": "<b>%{hovertext}</b><br><br>Country=ARM<br>Mortality in 1985=%{x}<br>Difference (1985 - 2020)=%{y}<extra></extra>",
         "hovertext": [
          "ARM"
         ],
         "legendgroup": "ARM",
         "marker": {
          "color": "#19d3f3",
          "symbol": "circle"
         },
         "mode": "markers",
         "name": "ARM",
         "orientation": "v",
         "showlegend": true,
         "type": "scatter",
         "x": [
          54.027985
         ],
         "xaxis": "x",
         "y": [
          26.838265
         ],
         "yaxis": "y"
        },
        {
         "hovertemplate": "<b>%{hovertext}</b><br><br>Country=ATG<br>Mortality in 1985=%{x}<br>Difference (1985 - 2020)=%{y}<extra></extra>",
         "hovertext": [
          "ATG"
         ],
         "legendgroup": "ATG",
         "marker": {
          "color": "#FF6692",
          "symbol": "circle"
         },
         "mode": "markers",
         "name": "ATG",
         "orientation": "v",
         "showlegend": true,
         "type": "scatter",
         "x": [
          58.98636
         ],
         "xaxis": "x",
         "y": [
          37.738412
         ],
         "yaxis": "y"
        },
        {
         "hovertemplate": "<b>%{hovertext}</b><br><br>Country=AUS<br>Mortality in 1985=%{x}<br>Difference (1985 - 2020)=%{y}<extra></extra>",
         "hovertext": [
          "AUS"
         ],
         "legendgroup": "AUS",
         "marker": {
          "color": "#B6E880",
          "symbol": "circle"
         },
         "mode": "markers",
         "name": "AUS",
         "orientation": "v",
         "showlegend": true,
         "type": "scatter",
         "x": [
          8.016338
         ],
         "xaxis": "x",
         "y": [
          5.074828499999999
         ],
         "yaxis": "y"
        },
        {
         "hovertemplate": "<b>%{hovertext}</b><br><br>Country=AUT<br>Mortality in 1985=%{x}<br>Difference (1985 - 2020)=%{y}<extra></extra>",
         "hovertext": [
          "AUT"
         ],
         "legendgroup": "AUT",
         "marker": {
          "color": "#FF97FF",
          "symbol": "circle"
         },
         "mode": "markers",
         "name": "AUT",
         "orientation": "v",
         "showlegend": true,
         "type": "scatter",
         "x": [
          10.537556
         ],
         "xaxis": "x",
         "y": [
          5.309167700000001
         ],
         "yaxis": "y"
        },
        {
         "hovertemplate": "<b>%{hovertext}</b><br><br>Country=AZE<br>Mortality in 1985=%{x}<br>Difference (1985 - 2020)=%{y}<extra></extra>",
         "hovertext": [
          "AZE"
         ],
         "legendgroup": "AZE",
         "marker": {
          "color": "#FECB52",
          "symbol": "circle"
         },
         "mode": "markers",
         "name": "AZE",
         "orientation": "v",
         "showlegend": true,
         "type": "scatter",
         "x": [
          52.83691
         ],
         "xaxis": "x",
         "y": [
          12.073242
         ],
         "yaxis": "y"
        },
        {
         "hovertemplate": "<b>%{hovertext}</b><br><br>Country=Africa<br>Mortality in 1985=%{x}<br>Difference (1985 - 2020)=%{y}<extra></extra>",
         "hovertext": [
          "Africa"
         ],
         "legendgroup": "Africa",
         "marker": {
          "color": "#636efa",
          "symbol": "circle"
         },
         "mode": "markers",
         "name": "Africa",
         "orientation": "v",
         "showlegend": true,
         "type": "scatter",
         "x": [
          904.12787
         ],
         "xaxis": "x",
         "y": [
          440.12677
         ],
         "yaxis": "y"
        },
        {
         "hovertemplate": "<b>%{hovertext}</b><br><br>Country=Asia<br>Mortality in 1985=%{x}<br>Difference (1985 - 2020)=%{y}<extra></extra>",
         "hovertext": [
          "Asia"
         ],
         "legendgroup": "Asia",
         "marker": {
          "color": "#EF553B",
          "symbol": "circle"
         },
         "mode": "markers",
         "name": "Asia",
         "orientation": "v",
         "showlegend": true,
         "type": "scatter",
         "x": [
          390.26285
         ],
         "xaxis": "x",
         "y": [
          291.09895500000005
         ],
         "yaxis": "y"
        },
        {
         "hovertemplate": "<b>%{hovertext}</b><br><br>Country=BDI<br>Mortality in 1985=%{x}<br>Difference (1985 - 2020)=%{y}<extra></extra>",
         "hovertext": [
          "BDI"
         ],
         "legendgroup": "BDI",
         "marker": {
          "color": "#00cc96",
          "symbol": "circle"
         },
         "mode": "markers",
         "name": "BDI",
         "orientation": "v",
         "showlegend": true,
         "type": "scatter",
         "x": [
          1343.2843
         ],
         "xaxis": "x",
         "y": [
          848.8545
         ],
         "yaxis": "y"
        },
        {
         "hovertemplate": "<b>%{hovertext}</b><br><br>Country=BEL<br>Mortality in 1985=%{x}<br>Difference (1985 - 2020)=%{y}<extra></extra>",
         "hovertext": [
          "BEL"
         ],
         "legendgroup": "BEL",
         "marker": {
          "color": "#ab63fa",
          "symbol": "circle"
         },
         "mode": "markers",
         "name": "BEL",
         "orientation": "v",
         "showlegend": true,
         "type": "scatter",
         "x": [
          8.510232
         ],
         "xaxis": "x",
         "y": [
          3.7543690000000005
         ],
         "yaxis": "y"
        },
        {
         "hovertemplate": "<b>%{hovertext}</b><br><br>Country=BEN<br>Mortality in 1985=%{x}<br>Difference (1985 - 2020)=%{y}<extra></extra>",
         "hovertext": [
          "BEN"
         ],
         "legendgroup": "BEN",
         "marker": {
          "color": "#FFA15A",
          "symbol": "circle"
         },
         "mode": "markers",
         "name": "BEN",
         "orientation": "v",
         "showlegend": true,
         "type": "scatter",
         "x": [
          718.6541
         ],
         "xaxis": "x",
         "y": [
          196.04930000000002
         ],
         "yaxis": "y"
        },
        {
         "hovertemplate": "<b>%{hovertext}</b><br><br>Country=BFA<br>Mortality in 1985=%{x}<br>Difference (1985 - 2020)=%{y}<extra></extra>",
         "hovertext": [
          "BFA"
         ],
         "legendgroup": "BFA",
         "marker": {
          "color": "#19d3f3",
          "symbol": "circle"
         },
         "mode": "markers",
         "name": "BFA",
         "orientation": "v",
         "showlegend": true,
         "type": "scatter",
         "x": [
          795.29517
         ],
         "xaxis": "x",
         "y": [
          531.53977
         ],
         "yaxis": "y"
        },
        {
         "hovertemplate": "<b>%{hovertext}</b><br><br>Country=BGD<br>Mortality in 1985=%{x}<br>Difference (1985 - 2020)=%{y}<extra></extra>",
         "hovertext": [
          "BGD"
         ],
         "legendgroup": "BGD",
         "marker": {
          "color": "#FF6692",
          "symbol": "circle"
         },
         "mode": "markers",
         "name": "BGD",
         "orientation": "v",
         "showlegend": true,
         "type": "scatter",
         "x": [
          907.4655
         ],
         "xaxis": "x",
         "y": [
          784.437256
         ],
         "yaxis": "y"
        },
        {
         "hovertemplate": "<b>%{hovertext}</b><br><br>Country=BGR<br>Mortality in 1985=%{x}<br>Difference (1985 - 2020)=%{y}<extra></extra>",
         "hovertext": [
          "BGR"
         ],
         "legendgroup": "BGR",
         "marker": {
          "color": "#B6E880",
          "symbol": "circle"
         },
         "mode": "markers",
         "name": "BGR",
         "orientation": "v",
         "showlegend": true,
         "type": "scatter",
         "x": [
          25.432531
         ],
         "xaxis": "x",
         "y": [
          18.346506
         ],
         "yaxis": "y"
        },
        {
         "hovertemplate": "<b>%{hovertext}</b><br><br>Country=BHR<br>Mortality in 1985=%{x}<br>Difference (1985 - 2020)=%{y}<extra></extra>",
         "hovertext": [
          "BHR"
         ],
         "legendgroup": "BHR",
         "marker": {
          "color": "#FF97FF",
          "symbol": "circle"
         },
         "mode": "markers",
         "name": "BHR",
         "orientation": "v",
         "showlegend": true,
         "type": "scatter",
         "x": [
          36.976818
         ],
         "xaxis": "x",
         "y": [
          21.0789365
         ],
         "yaxis": "y"
        },
        {
         "hovertemplate": "<b>%{hovertext}</b><br><br>Country=BHS<br>Mortality in 1985=%{x}<br>Difference (1985 - 2020)=%{y}<extra></extra>",
         "hovertext": [
          "BHS"
         ],
         "legendgroup": "BHS",
         "marker": {
          "color": "#FECB52",
          "symbol": "circle"
         },
         "mode": "markers",
         "name": "BHS",
         "orientation": "v",
         "showlegend": true,
         "type": "scatter",
         "x": [
          55.602734
         ],
         "xaxis": "x",
         "y": [
          -21.447906000000003
         ],
         "yaxis": "y"
        },
        {
         "hovertemplate": "<b>%{hovertext}</b><br><br>Country=BIH<br>Mortality in 1985=%{x}<br>Difference (1985 - 2020)=%{y}<extra></extra>",
         "hovertext": [
          "BIH"
         ],
         "legendgroup": "BIH",
         "marker": {
          "color": "#636efa",
          "symbol": "circle"
         },
         "mode": "markers",
         "name": "BIH",
         "orientation": "v",
         "showlegend": true,
         "type": "scatter",
         "x": [
          47.43705
         ],
         "xaxis": "x",
         "y": [
          41.768651
         ],
         "yaxis": "y"
        },
        {
         "hovertemplate": "<b>%{hovertext}</b><br><br>Country=BLR<br>Mortality in 1985=%{x}<br>Difference (1985 - 2020)=%{y}<extra></extra>",
         "hovertext": [
          "BLR"
         ],
         "legendgroup": "BLR",
         "marker": {
          "color": "#EF553B",
          "symbol": "circle"
         },
         "mode": "markers",
         "name": "BLR",
         "orientation": "v",
         "showlegend": true,
         "type": "scatter",
         "x": [
          42.324554
         ],
         "xaxis": "x",
         "y": [
          41.2226367
         ],
         "yaxis": "y"
        },
        {
         "hovertemplate": "<b>%{hovertext}</b><br><br>Country=BLZ<br>Mortality in 1985=%{x}<br>Difference (1985 - 2020)=%{y}<extra></extra>",
         "hovertext": [
          "BLZ"
         ],
         "legendgroup": "BLZ",
         "marker": {
          "color": "#00cc96",
          "symbol": "circle"
         },
         "mode": "markers",
         "name": "BLZ",
         "orientation": "v",
         "showlegend": true,
         "type": "scatter",
         "x": [
          113.77677
         ],
         "xaxis": "x",
         "y": [
          -16.011500000000012
         ],
         "yaxis": "y"
        },
        {
         "hovertemplate": "<b>%{hovertext}</b><br><br>Country=BOL<br>Mortality in 1985=%{x}<br>Difference (1985 - 2020)=%{y}<extra></extra>",
         "hovertext": [
          "BOL"
         ],
         "legendgroup": "BOL",
         "marker": {
          "color": "#ab63fa",
          "symbol": "circle"
         },
         "mode": "markers",
         "name": "BOL",
         "orientation": "v",
         "showlegend": true,
         "type": "scatter",
         "x": [
          586.50885
         ],
         "xaxis": "x",
         "y": [
          425.60145000000006
         ],
         "yaxis": "y"
        },
        {
         "hovertemplate": "<b>%{hovertext}</b><br><br>Country=BRA<br>Mortality in 1985=%{x}<br>Difference (1985 - 2020)=%{y}<extra></extra>",
         "hovertext": [
          "BRA"
         ],
         "legendgroup": "BRA",
         "marker": {
          "color": "#FFA15A",
          "symbol": "circle"
         },
         "mode": "markers",
         "name": "BRA",
         "orientation": "v",
         "showlegend": true,
         "type": "scatter",
         "x": [
          227.02599
         ],
         "xaxis": "x",
         "y": [
          154.87845
         ],
         "yaxis": "y"
        },
        {
         "hovertemplate": "<b>%{hovertext}</b><br><br>Country=BRB<br>Mortality in 1985=%{x}<br>Difference (1985 - 2020)=%{y}<extra></extra>",
         "hovertext": [
          "BRB"
         ],
         "legendgroup": "BRB",
         "marker": {
          "color": "#19d3f3",
          "symbol": "circle"
         },
         "mode": "markers",
         "name": "BRB",
         "orientation": "v",
         "showlegend": true,
         "type": "scatter",
         "x": [
          52.67266
         ],
         "xaxis": "x",
         "y": [
          13.564647
         ],
         "yaxis": "y"
        },
        {
         "hovertemplate": "<b>%{hovertext}</b><br><br>Country=BRN<br>Mortality in 1985=%{x}<br>Difference (1985 - 2020)=%{y}<extra></extra>",
         "hovertext": [
          "BRN"
         ],
         "legendgroup": "BRN",
         "marker": {
          "color": "#FF6692",
          "symbol": "circle"
         },
         "mode": "markers",
         "name": "BRN",
         "orientation": "v",
         "showlegend": true,
         "type": "scatter",
         "x": [
          58.38528
         ],
         "xaxis": "x",
         "y": [
          14.149223
         ],
         "yaxis": "y"
        },
        {
         "hovertemplate": "<b>%{hovertext}</b><br><br>Country=BTN<br>Mortality in 1985=%{x}<br>Difference (1985 - 2020)=%{y}<extra></extra>",
         "hovertext": [
          "BTN"
         ],
         "legendgroup": "BTN",
         "marker": {
          "color": "#B6E880",
          "symbol": "circle"
         },
         "mode": "markers",
         "name": "BTN",
         "orientation": "v",
         "showlegend": true,
         "type": "scatter",
         "x": [
          835.073
         ],
         "xaxis": "x",
         "y": [
          775.125246
         ],
         "yaxis": "y"
        },
        {
         "hovertemplate": "<b>%{hovertext}</b><br><br>Country=BWA<br>Mortality in 1985=%{x}<br>Difference (1985 - 2020)=%{y}<extra></extra>",
         "hovertext": [
          "BWA"
         ],
         "legendgroup": "BWA",
         "marker": {
          "color": "#FF97FF",
          "symbol": "circle"
         },
         "mode": "markers",
         "name": "BWA",
         "orientation": "v",
         "showlegend": true,
         "type": "scatter",
         "x": [
          228.81676
         ],
         "xaxis": "x",
         "y": [
          42.91991999999999
         ],
         "yaxis": "y"
        },
        {
         "hovertemplate": "<b>%{hovertext}</b><br><br>Country=CAF<br>Mortality in 1985=%{x}<br>Difference (1985 - 2020)=%{y}<extra></extra>",
         "hovertext": [
          "CAF"
         ],
         "legendgroup": "CAF",
         "marker": {
          "color": "#FECB52",
          "symbol": "circle"
         },
         "mode": "markers",
         "name": "CAF",
         "orientation": "v",
         "showlegend": true,
         "type": "scatter",
         "x": [
          1003.12103
         ],
         "xaxis": "x",
         "y": [
          167.85503000000006
         ],
         "yaxis": "y"
        },
        {
         "hovertemplate": "<b>%{hovertext}</b><br><br>Country=CAN<br>Mortality in 1985=%{x}<br>Difference (1985 - 2020)=%{y}<extra></extra>",
         "hovertext": [
          "CAN"
         ],
         "legendgroup": "CAN",
         "marker": {
          "color": "#636efa",
          "symbol": "circle"
         },
         "mode": "markers",
         "name": "CAN",
         "orientation": "v",
         "showlegend": true,
         "type": "scatter",
         "x": [
          6.9549327
         ],
         "xaxis": "x",
         "y": [
          -4.057933300000001
         ],
         "yaxis": "y"
        },
        {
         "hovertemplate": "<b>%{hovertext}</b><br><br>Country=CHE<br>Mortality in 1985=%{x}<br>Difference (1985 - 2020)=%{y}<extra></extra>",
         "hovertext": [
          "CHE"
         ],
         "legendgroup": "CHE",
         "marker": {
          "color": "#EF553B",
          "symbol": "circle"
         },
         "mode": "markers",
         "name": "CHE",
         "orientation": "v",
         "showlegend": true,
         "type": "scatter",
         "x": [
          9.650676
         ],
         "xaxis": "x",
         "y": [
          2.271921400000001
         ],
         "yaxis": "y"
        },
        {
         "hovertemplate": "<b>%{hovertext}</b><br><br>Country=CHL<br>Mortality in 1985=%{x}<br>Difference (1985 - 2020)=%{y}<extra></extra>",
         "hovertext": [
          "CHL"
         ],
         "legendgroup": "CHL",
         "marker": {
          "color": "#00cc96",
          "symbol": "circle"
         },
         "mode": "markers",
         "name": "CHL",
         "orientation": "v",
         "showlegend": true,
         "type": "scatter",
         "x": [
          75.45714
         ],
         "xaxis": "x",
         "y": [
          60.426401
         ],
         "yaxis": "y"
        },
        {
         "hovertemplate": "<b>%{hovertext}</b><br><br>Country=CHN<br>Mortality in 1985=%{x}<br>Difference (1985 - 2020)=%{y}<extra></extra>",
         "hovertext": [
          "CHN"
         ],
         "legendgroup": "CHN",
         "marker": {
          "color": "#ab63fa",
          "symbol": "circle"
         },
         "mode": "markers",
         "name": "CHN",
         "orientation": "v",
         "showlegend": true,
         "type": "scatter",
         "x": [
          114.46576
         ],
         "xaxis": "x",
         "y": [
          91.418126
         ],
         "yaxis": "y"
        },
        {
         "hovertemplate": "<b>%{hovertext}</b><br><br>Country=CIV<br>Mortality in 1985=%{x}<br>Difference (1985 - 2020)=%{y}<extra></extra>",
         "hovertext": [
          "CIV"
         ],
         "legendgroup": "CIV",
         "marker": {
          "color": "#FFA15A",
          "symbol": "circle"
         },
         "mode": "markers",
         "name": "CIV",
         "orientation": "v",
         "showlegend": true,
         "type": "scatter",
         "x": [
          667.0109
         ],
         "xaxis": "x",
         "y": [
          187.10415999999998
         ],
         "yaxis": "y"
        },
        {
         "hovertemplate": "<b>%{hovertext}</b><br><br>Country=CMR<br>Mortality in 1985=%{x}<br>Difference (1985 - 2020)=%{y}<extra></extra>",
         "hovertext": [
          "CMR"
         ],
         "legendgroup": "CMR",
         "marker": {
          "color": "#19d3f3",
          "symbol": "circle"
         },
         "mode": "markers",
         "name": "CMR",
         "orientation": "v",
         "showlegend": true,
         "type": "scatter",
         "x": [
          694.33154
         ],
         "xaxis": "x",
         "y": [
          256.57867000000005
         ],
         "yaxis": "y"
        },
        {
         "hovertemplate": "<b>%{hovertext}</b><br><br>Country=COD<br>Mortality in 1985=%{x}<br>Difference (1985 - 2020)=%{y}<extra></extra>",
         "hovertext": [
          "COD"
         ],
         "legendgroup": "COD",
         "marker": {
          "color": "#FF6692",
          "symbol": "circle"
         },
         "mode": "markers",
         "name": "COD",
         "orientation": "v",
         "showlegend": true,
         "type": "scatter",
         "x": [
          1171.4836
         ],
         "xaxis": "x",
         "y": [
          624.1233
         ],
         "yaxis": "y"
        },
        {
         "hovertemplate": "<b>%{hovertext}</b><br><br>Country=COG<br>Mortality in 1985=%{x}<br>Difference (1985 - 2020)=%{y}<extra></extra>",
         "hovertext": [
          "COG"
         ],
         "legendgroup": "COG",
         "marker": {
          "color": "#B6E880",
          "symbol": "circle"
         },
         "mode": "markers",
         "name": "COG",
         "orientation": "v",
         "showlegend": true,
         "type": "scatter",
         "x": [
          630.62964
         ],
         "xaxis": "x",
         "y": [
          348.24387
         ],
         "yaxis": "y"
        },
        {
         "hovertemplate": "<b>%{hovertext}</b><br><br>Country=COL<br>Mortality in 1985=%{x}<br>Difference (1985 - 2020)=%{y}<extra></extra>",
         "hovertext": [
          "COL"
         ],
         "legendgroup": "COL",
         "marker": {
          "color": "#FF97FF",
          "symbol": "circle"
         },
         "mode": "markers",
         "name": "COL",
         "orientation": "v",
         "showlegend": true,
         "type": "scatter",
         "x": [
          129.95705
         ],
         "xaxis": "x",
         "y": [
          55.19415000000001
         ],
         "yaxis": "y"
        },
        {
         "hovertemplate": "<b>%{hovertext}</b><br><br>Country=COM<br>Mortality in 1985=%{x}<br>Difference (1985 - 2020)=%{y}<extra></extra>",
         "hovertext": [
          "COM"
         ],
         "legendgroup": "COM",
         "marker": {
          "color": "#FECB52",
          "symbol": "circle"
         },
         "mode": "markers",
         "name": "COM",
         "orientation": "v",
         "showlegend": true,
         "type": "scatter",
         "x": [
          656.2118
         ],
         "xaxis": "x",
         "y": [
          439.25808000000006
         ],
         "yaxis": "y"
        },
        {
         "hovertemplate": "<b>%{hovertext}</b><br><br>Country=CPV<br>Mortality in 1985=%{x}<br>Difference (1985 - 2020)=%{y}<extra></extra>",
         "hovertext": [
          "CPV"
         ],
         "legendgroup": "CPV",
         "marker": {
          "color": "#636efa",
          "symbol": "circle"
         },
         "mode": "markers",
         "name": "CPV",
         "orientation": "v",
         "showlegend": true,
         "type": "scatter",
         "x": [
          399.82446
         ],
         "xaxis": "x",
         "y": [
          357.58302
         ],
         "yaxis": "y"
        },
        {
         "hovertemplate": "<b>%{hovertext}</b><br><br>Country=CRI<br>Mortality in 1985=%{x}<br>Difference (1985 - 2020)=%{y}<extra></extra>",
         "hovertext": [
          "CRI"
         ],
         "legendgroup": "CRI",
         "marker": {
          "color": "#EF553B",
          "symbol": "circle"
         },
         "mode": "markers",
         "name": "CRI",
         "orientation": "v",
         "showlegend": true,
         "type": "scatter",
         "x": [
          49.588284
         ],
         "xaxis": "x",
         "y": [
          27.584479
         ],
         "yaxis": "y"
        },
        {
         "hovertemplate": "<b>%{hovertext}</b><br><br>Country=CUB<br>Mortality in 1985=%{x}<br>Difference (1985 - 2020)=%{y}<extra></extra>",
         "hovertext": [
          "CUB"
         ],
         "legendgroup": "CUB",
         "marker": {
          "color": "#00cc96",
          "symbol": "circle"
         },
         "mode": "markers",
         "name": "CUB",
         "orientation": "v",
         "showlegend": true,
         "type": "scatter",
         "x": [
          69.148224
         ],
         "xaxis": "x",
         "y": [
          29.893681
         ],
         "yaxis": "y"
        },
        {
         "hovertemplate": "<b>%{hovertext}</b><br><br>Country=CYP<br>Mortality in 1985=%{x}<br>Difference (1985 - 2020)=%{y}<extra></extra>",
         "hovertext": [
          "CYP"
         ],
         "legendgroup": "CYP",
         "marker": {
          "color": "#ab63fa",
          "symbol": "circle"
         },
         "mode": "markers",
         "name": "CYP",
         "orientation": "v",
         "showlegend": true,
         "type": "scatter",
         "x": [
          38.233936
         ],
         "xaxis": "x",
         "y": [
          -30.172644000000005
         ],
         "yaxis": "y"
        },
        {
         "hovertemplate": "<b>%{hovertext}</b><br><br>Country=CZE<br>Mortality in 1985=%{x}<br>Difference (1985 - 2020)=%{y}<extra></extra>",
         "hovertext": [
          "CZE"
         ],
         "legendgroup": "CZE",
         "marker": {
          "color": "#FFA15A",
          "symbol": "circle"
         },
         "mode": "markers",
         "name": "CZE",
         "orientation": "v",
         "showlegend": true,
         "type": "scatter",
         "x": [
          13.126161
         ],
         "xaxis": "x",
         "y": [
          9.7521445
         ],
         "yaxis": "y"
        },
        {
         "hovertemplate": "<b>%{hovertext}</b><br><br>Country=DEU<br>Mortality in 1985=%{x}<br>Difference (1985 - 2020)=%{y}<extra></extra>",
         "hovertext": [
          "DEU"
         ],
         "legendgroup": "DEU",
         "marker": {
          "color": "#19d3f3",
          "symbol": "circle"
         },
         "mode": "markers",
         "name": "DEU",
         "orientation": "v",
         "showlegend": true,
         "type": "scatter",
         "x": [
          10.305433
         ],
         "xaxis": "x",
         "y": [
          5.876993000000001
         ],
         "yaxis": "y"
        },
        {
         "hovertemplate": "<b>%{hovertext}</b><br><br>Country=DJI<br>Mortality in 1985=%{x}<br>Difference (1985 - 2020)=%{y}<extra></extra>",
         "hovertext": [
          "DJI"
         ],
         "legendgroup": "DJI",
         "marker": {
          "color": "#FF6692",
          "symbol": "circle"
         },
         "mode": "markers",
         "name": "DJI",
         "orientation": "v",
         "showlegend": true,
         "type": "scatter",
         "x": [
          707.1673
         ],
         "xaxis": "x",
         "y": [
          472.6772199999999
         ],
         "yaxis": "y"
        },
        {
         "hovertemplate": "<b>%{hovertext}</b><br><br>Country=DNK<br>Mortality in 1985=%{x}<br>Difference (1985 - 2020)=%{y}<extra></extra>",
         "hovertext": [
          "DNK"
         ],
         "legendgroup": "DNK",
         "marker": {
          "color": "#B6E880",
          "symbol": "circle"
         },
         "mode": "markers",
         "name": "DNK",
         "orientation": "v",
         "showlegend": true,
         "type": "scatter",
         "x": [
          11.473709
         ],
         "xaxis": "x",
         "y": [
          6.815992
         ],
         "yaxis": "y"
        },
        {
         "hovertemplate": "<b>%{hovertext}</b><br><br>Country=DOM<br>Mortality in 1985=%{x}<br>Difference (1985 - 2020)=%{y}<extra></extra>",
         "hovertext": [
          "DOM"
         ],
         "legendgroup": "DOM",
         "marker": {
          "color": "#FF97FF",
          "symbol": "circle"
         },
         "mode": "markers",
         "name": "DOM",
         "orientation": "v",
         "showlegend": true,
         "type": "scatter",
         "x": [
          154.09631
         ],
         "xaxis": "x",
         "y": [
          46.74875999999999
         ],
         "yaxis": "y"
        },
        {
         "hovertemplate": "<b>%{hovertext}</b><br><br>Country=DZA<br>Mortality in 1985=%{x}<br>Difference (1985 - 2020)=%{y}<extra></extra>",
         "hovertext": [
          "DZA"
         ],
         "legendgroup": "DZA",
         "marker": {
          "color": "#FECB52",
          "symbol": "circle"
         },
         "mode": "markers",
         "name": "DZA",
         "orientation": "v",
         "showlegend": true,
         "type": "scatter",
         "x": [
          255.586
         ],
         "xaxis": "x",
         "y": [
          177.89121400000002
         ],
         "yaxis": "y"
        },
        {
         "hovertemplate": "<b>%{hovertext}</b><br><br>Country=ECU<br>Mortality in 1985=%{x}<br>Difference (1985 - 2020)=%{y}<extra></extra>",
         "hovertext": [
          "ECU"
         ],
         "legendgroup": "ECU",
         "marker": {
          "color": "#636efa",
          "symbol": "circle"
         },
         "mode": "markers",
         "name": "ECU",
         "orientation": "v",
         "showlegend": true,
         "type": "scatter",
         "x": [
          238.64177
         ],
         "xaxis": "x",
         "y": [
          172.89210000000003
         ],
         "yaxis": "y"
        },
        {
         "hovertemplate": "<b>%{hovertext}</b><br><br>Country=EGY<br>Mortality in 1985=%{x}<br>Difference (1985 - 2020)=%{y}<extra></extra>",
         "hovertext": [
          "EGY"
         ],
         "legendgroup": "EGY",
         "marker": {
          "color": "#EF553B",
          "symbol": "circle"
         },
         "mode": "markers",
         "name": "EGY",
         "orientation": "v",
         "showlegend": true,
         "type": "scatter",
         "x": [
          152.783
         ],
         "xaxis": "x",
         "y": [
          135.96328999999997
         ],
         "yaxis": "y"
        },
        {
         "hovertemplate": "<b>%{hovertext}</b><br><br>Country=ERI<br>Mortality in 1985=%{x}<br>Difference (1985 - 2020)=%{y}<extra></extra>",
         "hovertext": [
          "ERI"
         ],
         "legendgroup": "ERI",
         "marker": {
          "color": "#00cc96",
          "symbol": "circle"
         },
         "mode": "markers",
         "name": "ERI",
         "orientation": "v",
         "showlegend": true,
         "type": "scatter",
         "x": [
          1557.641
         ],
         "xaxis": "x",
         "y": [
          1236.0902800000001
         ],
         "yaxis": "y"
        },
        {
         "hovertemplate": "<b>%{hovertext}</b><br><br>Country=ESP<br>Mortality in 1985=%{x}<br>Difference (1985 - 2020)=%{y}<extra></extra>",
         "hovertext": [
          "ESP"
         ],
         "legendgroup": "ESP",
         "marker": {
          "color": "#ab63fa",
          "symbol": "circle"
         },
         "mode": "markers",
         "name": "ESP",
         "orientation": "v",
         "showlegend": true,
         "type": "scatter",
         "x": [
          5.911806
         ],
         "xaxis": "x",
         "y": [
          2.4705545000000004
         ],
         "yaxis": "y"
        },
        {
         "hovertemplate": "<b>%{hovertext}</b><br><br>Country=EST<br>Mortality in 1985=%{x}<br>Difference (1985 - 2020)=%{y}<extra></extra>",
         "hovertext": [
          "EST"
         ],
         "legendgroup": "EST",
         "marker": {
          "color": "#FFA15A",
          "symbol": "circle"
         },
         "mode": "markers",
         "name": "EST",
         "orientation": "v",
         "showlegend": true,
         "type": "scatter",
         "x": [
          49.079712
         ],
         "xaxis": "x",
         "y": [
          43.90007
         ],
         "yaxis": "y"
        },
        {
         "hovertemplate": "<b>%{hovertext}</b><br><br>Country=ETH<br>Mortality in 1985=%{x}<br>Difference (1985 - 2020)=%{y}<extra></extra>",
         "hovertext": [
          "ETH"
         ],
         "legendgroup": "ETH",
         "marker": {
          "color": "#19d3f3",
          "symbol": "circle"
         },
         "mode": "markers",
         "name": "ETH",
         "orientation": "v",
         "showlegend": true,
         "type": "scatter",
         "x": [
          1297.3036
         ],
         "xaxis": "x",
         "y": [
          1030.6140599999999
         ],
         "yaxis": "y"
        },
        {
         "hovertemplate": "<b>%{hovertext}</b><br><br>Country=Europe<br>Mortality in 1985=%{x}<br>Difference (1985 - 2020)=%{y}<extra></extra>",
         "hovertext": [
          "Europe"
         ],
         "legendgroup": "Europe",
         "marker": {
          "color": "#FF6692",
          "symbol": "circle"
         },
         "mode": "markers",
         "name": "Europe",
         "orientation": "v",
         "showlegend": true,
         "type": "scatter",
         "x": [
          49.191563
         ],
         "xaxis": "x",
         "y": [
          40.788547
         ],
         "yaxis": "y"
        },
        {
         "hovertemplate": "<b>%{hovertext}</b><br><br>Country=FIN<br>Mortality in 1985=%{x}<br>Difference (1985 - 2020)=%{y}<extra></extra>",
         "hovertext": [
          "FIN"
         ],
         "legendgroup": "FIN",
         "marker": {
          "color": "#B6E880",
          "symbol": "circle"
         },
         "mode": "markers",
         "name": "FIN",
         "orientation": "v",
         "showlegend": true,
         "type": "scatter",
         "x": [
          5.5653214
         ],
         "xaxis": "x",
         "y": [
          -2.7735801
         ],
         "yaxis": "y"
        },
        {
         "hovertemplate": "<b>%{hovertext}</b><br><br>Country=FJI<br>Mortality in 1985=%{x}<br>Difference (1985 - 2020)=%{y}<extra></extra>",
         "hovertext": [
          "FJI"
         ],
         "legendgroup": "FJI",
         "marker": {
          "color": "#FF97FF",
          "symbol": "circle"
         },
         "mode": "markers",
         "name": "FJI",
         "orientation": "v",
         "showlegend": true,
         "type": "scatter",
         "x": [
          64.91034
         ],
         "xaxis": "x",
         "y": [
          26.863545000000002
         ],
         "yaxis": "y"
        },
        {
         "hovertemplate": "<b>%{hovertext}</b><br><br>Country=FRA<br>Mortality in 1985=%{x}<br>Difference (1985 - 2020)=%{y}<extra></extra>",
         "hovertext": [
          "FRA"
         ],
         "legendgroup": "FRA",
         "marker": {
          "color": "#FECB52",
          "symbol": "circle"
         },
         "mode": "markers",
         "name": "FRA",
         "orientation": "v",
         "showlegend": true,
         "type": "scatter",
         "x": [
          18.316307
         ],
         "xaxis": "x",
         "y": [
          10.407228399999997
         ],
         "yaxis": "y"
        },
        {
         "hovertemplate": "<b>%{hovertext}</b><br><br>Country=FSM<br>Mortality in 1985=%{x}<br>Difference (1985 - 2020)=%{y}<extra></extra>",
         "hovertext": [
          "FSM"
         ],
         "legendgroup": "FSM",
         "marker": {
          "color": "#636efa",
          "symbol": "circle"
         },
         "mode": "markers",
         "name": "FSM",
         "orientation": "v",
         "showlegend": true,
         "type": "scatter",
         "x": [
          111.97994
         ],
         "xaxis": "x",
         "y": [
          37.668004999999994
         ],
         "yaxis": "y"
        },
        {
         "hovertemplate": "<b>%{hovertext}</b><br><br>Country=GAB<br>Mortality in 1985=%{x}<br>Difference (1985 - 2020)=%{y}<extra></extra>",
         "hovertext": [
          "GAB"
         ],
         "legendgroup": "GAB",
         "marker": {
          "color": "#EF553B",
          "symbol": "circle"
         },
         "mode": "markers",
         "name": "GAB",
         "orientation": "v",
         "showlegend": true,
         "type": "scatter",
         "x": [
          450.64008
         ],
         "xaxis": "x",
         "y": [
          224.08965
         ],
         "yaxis": "y"
        },
        {
         "hovertemplate": "<b>%{hovertext}</b><br><br>Country=GBR<br>Mortality in 1985=%{x}<br>Difference (1985 - 2020)=%{y}<extra></extra>",
         "hovertext": [
          "GBR"
         ],
         "legendgroup": "GBR",
         "marker": {
          "color": "#00cc96",
          "symbol": "circle"
         },
         "mode": "markers",
         "name": "GBR",
         "orientation": "v",
         "showlegend": true,
         "type": "scatter",
         "x": [
          8.431448
         ],
         "xaxis": "x",
         "y": [
          -1.4110320000000005
         ],
         "yaxis": "y"
        },
        {
         "hovertemplate": "<b>%{hovertext}</b><br><br>Country=GEO<br>Mortality in 1985=%{x}<br>Difference (1985 - 2020)=%{y}<extra></extra>",
         "hovertext": [
          "GEO"
         ],
         "legendgroup": "GEO",
         "marker": {
          "color": "#ab63fa",
          "symbol": "circle"
         },
         "mode": "markers",
         "name": "GEO",
         "orientation": "v",
         "showlegend": true,
         "type": "scatter",
         "x": [
          44.278923
         ],
         "xaxis": "x",
         "y": [
          16.670676999999998
         ],
         "yaxis": "y"
        },
        {
         "hovertemplate": "<b>%{hovertext}</b><br><br>Country=GHA<br>Mortality in 1985=%{x}<br>Difference (1985 - 2020)=%{y}<extra></extra>",
         "hovertext": [
          "GHA"
         ],
         "legendgroup": "GHA",
         "marker": {
          "color": "#FFA15A",
          "symbol": "circle"
         },
         "mode": "markers",
         "name": "GHA",
         "orientation": "v",
         "showlegend": true,
         "type": "scatter",
         "x": [
          847.98474
         ],
         "xaxis": "x",
         "y": [
          584.87616
         ],
         "yaxis": "y"
        },
        {
         "hovertemplate": "<b>%{hovertext}</b><br><br>Country=GIN<br>Mortality in 1985=%{x}<br>Difference (1985 - 2020)=%{y}<extra></extra>",
         "hovertext": [
          "GIN"
         ],
         "legendgroup": "GIN",
         "marker": {
          "color": "#19d3f3",
          "symbol": "circle"
         },
         "mode": "markers",
         "name": "GIN",
         "orientation": "v",
         "showlegend": true,
         "type": "scatter",
         "x": [
          1238.2551
         ],
         "xaxis": "x",
         "y": [
          684.8535
         ],
         "yaxis": "y"
        },
        {
         "hovertemplate": "<b>%{hovertext}</b><br><br>Country=GMB<br>Mortality in 1985=%{x}<br>Difference (1985 - 2020)=%{y}<extra></extra>",
         "hovertext": [
          "GMB"
         ],
         "legendgroup": "GMB",
         "marker": {
          "color": "#FF6692",
          "symbol": "circle"
         },
         "mode": "markers",
         "name": "GMB",
         "orientation": "v",
         "showlegend": true,
         "type": "scatter",
         "x": [
          1202.1716
         ],
         "xaxis": "x",
         "y": [
          743.9312699999999
         ],
         "yaxis": "y"
        },
        {
         "hovertemplate": "<b>%{hovertext}</b><br><br>Country=GNB<br>Mortality in 1985=%{x}<br>Difference (1985 - 2020)=%{y}<extra></extra>",
         "hovertext": [
          "GNB"
         ],
         "legendgroup": "GNB",
         "marker": {
          "color": "#B6E880",
          "symbol": "circle"
         },
         "mode": "markers",
         "name": "GNB",
         "orientation": "v",
         "showlegend": true,
         "type": "scatter",
         "x": [
          1651.9247
         ],
         "xaxis": "x",
         "y": [
          926.8323
         ],
         "yaxis": "y"
        },
        {
         "hovertemplate": "<b>%{hovertext}</b><br><br>Country=GNQ<br>Mortality in 1985=%{x}<br>Difference (1985 - 2020)=%{y}<extra></extra>",
         "hovertext": [
          "GNQ"
         ],
         "legendgroup": "GNQ",
         "marker": {
          "color": "#FF97FF",
          "symbol": "circle"
         },
         "mode": "markers",
         "name": "GNQ",
         "orientation": "v",
         "showlegend": true,
         "type": "scatter",
         "x": [
          1302.4927
         ],
         "xaxis": "x",
         "y": [
          1090.1624
         ],
         "yaxis": "y"
        },
        {
         "hovertemplate": "<b>%{hovertext}</b><br><br>Country=GRC<br>Mortality in 1985=%{x}<br>Difference (1985 - 2020)=%{y}<extra></extra>",
         "hovertext": [
          "GRC"
         ],
         "legendgroup": "GRC",
         "marker": {
          "color": "#FECB52",
          "symbol": "circle"
         },
         "mode": "markers",
         "name": "GRC",
         "orientation": "v",
         "showlegend": true,
         "type": "scatter",
         "x": [
          7.331564
         ],
         "xaxis": "x",
         "y": [
          -0.322781
         ],
         "yaxis": "y"
        },
        {
         "hovertemplate": "<b>%{hovertext}</b><br><br>Country=GRD<br>Mortality in 1985=%{x}<br>Difference (1985 - 2020)=%{y}<extra></extra>",
         "hovertext": [
          "GRD"
         ],
         "legendgroup": "GRD",
         "marker": {
          "color": "#636efa",
          "symbol": "circle"
         },
         "mode": "markers",
         "name": "GRD",
         "orientation": "v",
         "showlegend": true,
         "type": "scatter",
         "x": [
          53.937866
         ],
         "xaxis": "x",
         "y": [
          32.799576
         ],
         "yaxis": "y"
        },
        {
         "hovertemplate": "<b>%{hovertext}</b><br><br>Country=GTM<br>Mortality in 1985=%{x}<br>Difference (1985 - 2020)=%{y}<extra></extra>",
         "hovertext": [
          "GTM"
         ],
         "legendgroup": "GTM",
         "marker": {
          "color": "#EF553B",
          "symbol": "circle"
         },
         "mode": "markers",
         "name": "GTM",
         "orientation": "v",
         "showlegend": true,
         "type": "scatter",
         "x": [
          267.59958
         ],
         "xaxis": "x",
         "y": [
          172.097505
         ],
         "yaxis": "y"
        },
        {
         "hovertemplate": "<b>%{hovertext}</b><br><br>Country=GUY<br>Mortality in 1985=%{x}<br>Difference (1985 - 2020)=%{y}<extra></extra>",
         "hovertext": [
          "GUY"
         ],
         "legendgroup": "GUY",
         "marker": {
          "color": "#00cc96",
          "symbol": "circle"
         },
         "mode": "markers",
         "name": "GUY",
         "orientation": "v",
         "showlegend": true,
         "type": "scatter",
         "x": [
          275.14734
         ],
         "xaxis": "x",
         "y": [
          163.2044
         ],
         "yaxis": "y"
        },
        {
         "hovertemplate": "<b>%{hovertext}</b><br><br>Country=HND<br>Mortality in 1985=%{x}<br>Difference (1985 - 2020)=%{y}<extra></extra>",
         "hovertext": [
          "HND"
         ],
         "legendgroup": "HND",
         "marker": {
          "color": "#ab63fa",
          "symbol": "circle"
         },
         "mode": "markers",
         "name": "HND",
         "orientation": "v",
         "showlegend": true,
         "type": "scatter",
         "x": [
          223.55388
         ],
         "xaxis": "x",
         "y": [
          151.734605
         ],
         "yaxis": "y"
        },
        {
         "hovertemplate": "<b>%{hovertext}</b><br><br>Country=HRV<br>Mortality in 1985=%{x}<br>Difference (1985 - 2020)=%{y}<extra></extra>",
         "hovertext": [
          "HRV"
         ],
         "legendgroup": "HRV",
         "marker": {
          "color": "#FFA15A",
          "symbol": "circle"
         },
         "mode": "markers",
         "name": "HRV",
         "orientation": "v",
         "showlegend": true,
         "type": "scatter",
         "x": [
          12.883533
         ],
         "xaxis": "x",
         "y": [
          8.066711399999999
         ],
         "yaxis": "y"
        },
        {
         "hovertemplate": "<b>%{hovertext}</b><br><br>Country=HTI<br>Mortality in 1985=%{x}<br>Difference (1985 - 2020)=%{y}<extra></extra>",
         "hovertext": [
          "HTI"
         ],
         "legendgroup": "HTI",
         "marker": {
          "color": "#19d3f3",
          "symbol": "circle"
         },
         "mode": "markers",
         "name": "HTI",
         "orientation": "v",
         "showlegend": true,
         "type": "scatter",
         "x": [
          710.3726
         ],
         "xaxis": "x",
         "y": [
          359.97236000000004
         ],
         "yaxis": "y"
        },
        {
         "hovertemplate": "<b>%{hovertext}</b><br><br>Country=HUN<br>Mortality in 1985=%{x}<br>Difference (1985 - 2020)=%{y}<extra></extra>",
         "hovertext": [
          "HUN"
         ],
         "legendgroup": "HUN",
         "marker": {
          "color": "#FF6692",
          "symbol": "circle"
         },
         "mode": "markers",
         "name": "HUN",
         "orientation": "v",
         "showlegend": true,
         "type": "scatter",
         "x": [
          25.356512
         ],
         "xaxis": "x",
         "y": [
          10.307625999999999
         ],
         "yaxis": "y"
        },
        {
         "hovertemplate": "<b>%{hovertext}</b><br><br>Country=High-income countries<br>Mortality in 1985=%{x}<br>Difference (1985 - 2020)=%{y}<extra></extra>",
         "hovertext": [
          "High-income countries"
         ],
         "legendgroup": "High-income countries",
         "marker": {
          "color": "#B6E880",
          "symbol": "circle"
         },
         "mode": "markers",
         "name": "High-income countries",
         "orientation": "v",
         "showlegend": true,
         "type": "scatter",
         "x": [
          22.367281
         ],
         "xaxis": "x",
         "y": [
          10.234160999999999
         ],
         "yaxis": "y"
        },
        {
         "hovertemplate": "<b>%{hovertext}</b><br><br>Country=IDN<br>Mortality in 1985=%{x}<br>Difference (1985 - 2020)=%{y}<extra></extra>",
         "hovertext": [
          "IDN"
         ],
         "legendgroup": "IDN",
         "marker": {
          "color": "#FF97FF",
          "symbol": "circle"
         },
         "mode": "markers",
         "name": "IDN",
         "orientation": "v",
         "showlegend": true,
         "type": "scatter",
         "x": [
          495.3294
         ],
         "xaxis": "x",
         "y": [
          322.4069
         ],
         "yaxis": "y"
        },
        {
         "hovertemplate": "<b>%{hovertext}</b><br><br>Country=IND<br>Mortality in 1985=%{x}<br>Difference (1985 - 2020)=%{y}<extra></extra>",
         "hovertext": [
          "IND"
         ],
         "legendgroup": "IND",
         "marker": {
          "color": "#FECB52",
          "symbol": "circle"
         },
         "mode": "markers",
         "name": "IND",
         "orientation": "v",
         "showlegend": true,
         "type": "scatter",
         "x": [
          646.8798
         ],
         "xaxis": "x",
         "y": [
          544.2258850000001
         ],
         "yaxis": "y"
        },
        {
         "hovertemplate": "<b>%{hovertext}</b><br><br>Country=IRL<br>Mortality in 1985=%{x}<br>Difference (1985 - 2020)=%{y}<extra></extra>",
         "hovertext": [
          "IRL"
         ],
         "legendgroup": "IRL",
         "marker": {
          "color": "#636efa",
          "symbol": "circle"
         },
         "mode": "markers",
         "name": "IRL",
         "orientation": "v",
         "showlegend": true,
         "type": "scatter",
         "x": [
          11.058403
         ],
         "xaxis": "x",
         "y": [
          6.0744457
         ],
         "yaxis": "y"
        },
        {
         "hovertemplate": "<b>%{hovertext}</b><br><br>Country=IRN<br>Mortality in 1985=%{x}<br>Difference (1985 - 2020)=%{y}<extra></extra>",
         "hovertext": [
          "IRN"
         ],
         "legendgroup": "IRN",
         "marker": {
          "color": "#EF553B",
          "symbol": "circle"
         },
         "mode": "markers",
         "name": "IRN",
         "orientation": "v",
         "showlegend": true,
         "type": "scatter",
         "x": [
          102.34548
         ],
         "xaxis": "x",
         "y": [
          80.326593
         ],
         "yaxis": "y"
        },
        {
         "hovertemplate": "<b>%{hovertext}</b><br><br>Country=IRQ<br>Mortality in 1985=%{x}<br>Difference (1985 - 2020)=%{y}<extra></extra>",
         "hovertext": [
          "IRQ"
         ],
         "legendgroup": "IRQ",
         "marker": {
          "color": "#00cc96",
          "symbol": "circle"
         },
         "mode": "markers",
         "name": "IRQ",
         "orientation": "v",
         "showlegend": true,
         "type": "scatter",
         "x": [
          201.86145
         ],
         "xaxis": "x",
         "y": [
          125.75098999999999
         ],
         "yaxis": "y"
        },
        {
         "hovertemplate": "<b>%{hovertext}</b><br><br>Country=ISL<br>Mortality in 1985=%{x}<br>Difference (1985 - 2020)=%{y}<extra></extra>",
         "hovertext": [
          "ISL"
         ],
         "legendgroup": "ISL",
         "marker": {
          "color": "#ab63fa",
          "symbol": "circle"
         },
         "mode": "markers",
         "name": "ISL",
         "orientation": "v",
         "showlegend": true,
         "type": "scatter",
         "x": [
          6.7630563
         ],
         "xaxis": "x",
         "y": [
          4.1086385
         ],
         "yaxis": "y"
        },
        {
         "hovertemplate": "<b>%{hovertext}</b><br><br>Country=ISR<br>Mortality in 1985=%{x}<br>Difference (1985 - 2020)=%{y}<extra></extra>",
         "hovertext": [
          "ISR"
         ],
         "legendgroup": "ISR",
         "marker": {
          "color": "#FFA15A",
          "symbol": "circle"
         },
         "mode": "markers",
         "name": "ISR",
         "orientation": "v",
         "showlegend": true,
         "type": "scatter",
         "x": [
          40.25199
         ],
         "xaxis": "x",
         "y": [
          37.4141282
         ],
         "yaxis": "y"
        },
        {
         "hovertemplate": "<b>%{hovertext}</b><br><br>Country=ITA<br>Mortality in 1985=%{x}<br>Difference (1985 - 2020)=%{y}<extra></extra>",
         "hovertext": [
          "ITA"
         ],
         "legendgroup": "ITA",
         "marker": {
          "color": "#19d3f3",
          "symbol": "circle"
         },
         "mode": "markers",
         "name": "ITA",
         "orientation": "v",
         "showlegend": true,
         "type": "scatter",
         "x": [
          18.078209
         ],
         "xaxis": "x",
         "y": [
          13.487270000000002
         ],
         "yaxis": "y"
        },
        {
         "hovertemplate": "<b>%{hovertext}</b><br><br>Country=JAM<br>Mortality in 1985=%{x}<br>Difference (1985 - 2020)=%{y}<extra></extra>",
         "hovertext": [
          "JAM"
         ],
         "legendgroup": "JAM",
         "marker": {
          "color": "#FF6692",
          "symbol": "circle"
         },
         "mode": "markers",
         "name": "JAM",
         "orientation": "v",
         "showlegend": true,
         "type": "scatter",
         "x": [
          45.120125
         ],
         "xaxis": "x",
         "y": [
          -53.758775
         ],
         "yaxis": "y"
        },
        {
         "hovertemplate": "<b>%{hovertext}</b><br><br>Country=JOR<br>Mortality in 1985=%{x}<br>Difference (1985 - 2020)=%{y}<extra></extra>",
         "hovertext": [
          "JOR"
         ],
         "legendgroup": "JOR",
         "marker": {
          "color": "#B6E880",
          "symbol": "circle"
         },
         "mode": "markers",
         "name": "JOR",
         "orientation": "v",
         "showlegend": true,
         "type": "scatter",
         "x": [
          96.32794
         ],
         "xaxis": "x",
         "y": [
          55.013149999999996
         ],
         "yaxis": "y"
        },
        {
         "hovertemplate": "<b>%{hovertext}</b><br><br>Country=JPN<br>Mortality in 1985=%{x}<br>Difference (1985 - 2020)=%{y}<extra></extra>",
         "hovertext": [
          "JPN"
         ],
         "legendgroup": "JPN",
         "marker": {
          "color": "#FF97FF",
          "symbol": "circle"
         },
         "mode": "markers",
         "name": "JPN",
         "orientation": "v",
         "showlegend": true,
         "type": "scatter",
         "x": [
          17.42398
         ],
         "xaxis": "x",
         "y": [
          13.109070500000001
         ],
         "yaxis": "y"
        },
        {
         "hovertemplate": "<b>%{hovertext}</b><br><br>Country=KAZ<br>Mortality in 1985=%{x}<br>Difference (1985 - 2020)=%{y}<extra></extra>",
         "hovertext": [
          "KAZ"
         ],
         "legendgroup": "KAZ",
         "marker": {
          "color": "#FECB52",
          "symbol": "circle"
         },
         "mode": "markers",
         "name": "KAZ",
         "orientation": "v",
         "showlegend": true,
         "type": "scatter",
         "x": [
          99.81063
         ],
         "xaxis": "x",
         "y": [
          86.426998
         ],
         "yaxis": "y"
        },
        {
         "hovertemplate": "<b>%{hovertext}</b><br><br>Country=KEN<br>Mortality in 1985=%{x}<br>Difference (1985 - 2020)=%{y}<extra></extra>",
         "hovertext": [
          "KEN"
         ],
         "legendgroup": "KEN",
         "marker": {
          "color": "#636efa",
          "symbol": "circle"
         },
         "mode": "markers",
         "name": "KEN",
         "orientation": "v",
         "showlegend": true,
         "type": "scatter",
         "x": [
          580.11273
         ],
         "xaxis": "x",
         "y": [
          50.15043000000003
         ],
         "yaxis": "y"
        },
        {
         "hovertemplate": "<b>%{hovertext}</b><br><br>Country=KGZ<br>Mortality in 1985=%{x}<br>Difference (1985 - 2020)=%{y}<extra></extra>",
         "hovertext": [
          "KGZ"
         ],
         "legendgroup": "KGZ",
         "marker": {
          "color": "#EF553B",
          "symbol": "circle"
         },
         "mode": "markers",
         "name": "KGZ",
         "orientation": "v",
         "showlegend": true,
         "type": "scatter",
         "x": [
          97.00816
         ],
         "xaxis": "x",
         "y": [
          46.625718000000006
         ],
         "yaxis": "y"
        },
        {
         "hovertemplate": "<b>%{hovertext}</b><br><br>Country=KHM<br>Mortality in 1985=%{x}<br>Difference (1985 - 2020)=%{y}<extra></extra>",
         "hovertext": [
          "KHM"
         ],
         "legendgroup": "KHM",
         "marker": {
          "color": "#00cc96",
          "symbol": "circle"
         },
         "mode": "markers",
         "name": "KHM",
         "orientation": "v",
         "showlegend": true,
         "type": "scatter",
         "x": [
          687.8064
         ],
         "xaxis": "x",
         "y": [
          469.82325000000003
         ],
         "yaxis": "y"
        },
        {
         "hovertemplate": "<b>%{hovertext}</b><br><br>Country=KIR<br>Mortality in 1985=%{x}<br>Difference (1985 - 2020)=%{y}<extra></extra>",
         "hovertext": [
          "KIR"
         ],
         "legendgroup": "KIR",
         "marker": {
          "color": "#ab63fa",
          "symbol": "circle"
         },
         "mode": "markers",
         "name": "KIR",
         "orientation": "v",
         "showlegend": true,
         "type": "scatter",
         "x": [
          213.19191
         ],
         "xaxis": "x",
         "y": [
          136.85719
         ],
         "yaxis": "y"
        },
        {
         "hovertemplate": "<b>%{hovertext}</b><br><br>Country=KOR<br>Mortality in 1985=%{x}<br>Difference (1985 - 2020)=%{y}<extra></extra>",
         "hovertext": [
          "KOR"
         ],
         "legendgroup": "KOR",
         "marker": {
          "color": "#FFA15A",
          "symbol": "circle"
         },
         "mode": "markers",
         "name": "KOR",
         "orientation": "v",
         "showlegend": true,
         "type": "scatter",
         "x": [
          39.282143
         ],
         "xaxis": "x",
         "y": [
          31.166520499999997
         ],
         "yaxis": "y"
        },
        {
         "hovertemplate": "<b>%{hovertext}</b><br><br>Country=KWT<br>Mortality in 1985=%{x}<br>Difference (1985 - 2020)=%{y}<extra></extra>",
         "hovertext": [
          "KWT"
         ],
         "legendgroup": "KWT",
         "marker": {
          "color": "#19d3f3",
          "symbol": "circle"
         },
         "mode": "markers",
         "name": "KWT",
         "orientation": "v",
         "showlegend": true,
         "type": "scatter",
         "x": [
          13.183756
         ],
         "xaxis": "x",
         "y": [
          6.012857600000001
         ],
         "yaxis": "y"
        },
        {
         "hovertemplate": "<b>%{hovertext}</b><br><br>Country=LAO<br>Mortality in 1985=%{x}<br>Difference (1985 - 2020)=%{y}<extra></extra>",
         "hovertext": [
          "LAO"
         ],
         "legendgroup": "LAO",
         "marker": {
          "color": "#FF6692",
          "symbol": "circle"
         },
         "mode": "markers",
         "name": "LAO",
         "orientation": "v",
         "showlegend": true,
         "type": "scatter",
         "x": [
          877.9889
         ],
         "xaxis": "x",
         "y": [
          751.92715
         ],
         "yaxis": "y"
        },
        {
         "hovertemplate": "<b>%{hovertext}</b><br><br>Country=LBN<br>Mortality in 1985=%{x}<br>Difference (1985 - 2020)=%{y}<extra></extra>",
         "hovertext": [
          "LBN"
         ],
         "legendgroup": "LBN",
         "marker": {
          "color": "#B6E880",
          "symbol": "circle"
         },
         "mode": "markers",
         "name": "LBN",
         "orientation": "v",
         "showlegend": true,
         "type": "scatter",
         "x": [
          66.852875
         ],
         "xaxis": "x",
         "y": [
          46.228251
         ],
         "yaxis": "y"
        },
        {
         "hovertemplate": "<b>%{hovertext}</b><br><br>Country=LBR<br>Mortality in 1985=%{x}<br>Difference (1985 - 2020)=%{y}<extra></extra>",
         "hovertext": [
          "LBR"
         ],
         "legendgroup": "LBR",
         "marker": {
          "color": "#FF97FF",
          "symbol": "circle"
         },
         "mode": "markers",
         "name": "LBR",
         "orientation": "v",
         "showlegend": true,
         "type": "scatter",
         "x": [
          1365.373
         ],
         "xaxis": "x",
         "y": [
          713.03425
         ],
         "yaxis": "y"
        },
        {
         "hovertemplate": "<b>%{hovertext}</b><br><br>Country=LBY<br>Mortality in 1985=%{x}<br>Difference (1985 - 2020)=%{y}<extra></extra>",
         "hovertext": [
          "LBY"
         ],
         "legendgroup": "LBY",
         "marker": {
          "color": "#FECB52",
          "symbol": "circle"
         },
         "mode": "markers",
         "name": "LBY",
         "orientation": "v",
         "showlegend": true,
         "type": "scatter",
         "x": [
          57.531452
         ],
         "xaxis": "x",
         "y": [
          -14.595653999999996
         ],
         "yaxis": "y"
        },
        {
         "hovertemplate": "<b>%{hovertext}</b><br><br>Country=LCA<br>Mortality in 1985=%{x}<br>Difference (1985 - 2020)=%{y}<extra></extra>",
         "hovertext": [
          "LCA"
         ],
         "legendgroup": "LCA",
         "marker": {
          "color": "#636efa",
          "symbol": "circle"
         },
         "mode": "markers",
         "name": "LCA",
         "orientation": "v",
         "showlegend": true,
         "type": "scatter",
         "x": [
          48.64415
         ],
         "xaxis": "x",
         "y": [
          -24.62382999999999
         ],
         "yaxis": "y"
        },
        {
         "hovertemplate": "<b>%{hovertext}</b><br><br>Country=LKA<br>Mortality in 1985=%{x}<br>Difference (1985 - 2020)=%{y}<extra></extra>",
         "hovertext": [
          "LKA"
         ],
         "legendgroup": "LKA",
         "marker": {
          "color": "#EF553B",
          "symbol": "circle"
         },
         "mode": "markers",
         "name": "LKA",
         "orientation": "v",
         "showlegend": true,
         "type": "scatter",
         "x": [
          69.80982
         ],
         "xaxis": "x",
         "y": [
          40.967514
         ],
         "yaxis": "y"
        },
        {
         "hovertemplate": "<b>%{hovertext}</b><br><br>Country=LSO<br>Mortality in 1985=%{x}<br>Difference (1985 - 2020)=%{y}<extra></extra>",
         "hovertext": [
          "LSO"
         ],
         "legendgroup": "LSO",
         "marker": {
          "color": "#00cc96",
          "symbol": "circle"
         },
         "mode": "markers",
         "name": "LSO",
         "orientation": "v",
         "showlegend": true,
         "type": "scatter",
         "x": [
          565.2685
         ],
         "xaxis": "x",
         "y": [
          -0.9377399999999625
         ],
         "yaxis": "y"
        },
        {
         "hovertemplate": "<b>%{hovertext}</b><br><br>Country=LTU<br>Mortality in 1985=%{x}<br>Difference (1985 - 2020)=%{y}<extra></extra>",
         "hovertext": [
          "LTU"
         ],
         "legendgroup": "LTU",
         "marker": {
          "color": "#ab63fa",
          "symbol": "circle"
         },
         "mode": "markers",
         "name": "LTU",
         "orientation": "v",
         "showlegend": true,
         "type": "scatter",
         "x": [
          31.113808
         ],
         "xaxis": "x",
         "y": [
          22.453324
         ],
         "yaxis": "y"
        },
        {
         "hovertemplate": "<b>%{hovertext}</b><br><br>Country=LUX<br>Mortality in 1985=%{x}<br>Difference (1985 - 2020)=%{y}<extra></extra>",
         "hovertext": [
          "LUX"
         ],
         "legendgroup": "LUX",
         "marker": {
          "color": "#FFA15A",
          "symbol": "circle"
         },
         "mode": "markers",
         "name": "LUX",
         "orientation": "v",
         "showlegend": true,
         "type": "scatter",
         "x": [
          12.56004
         ],
         "xaxis": "x",
         "y": [
          6.074540000000001
         ],
         "yaxis": "y"
        },
        {
         "hovertemplate": "<b>%{hovertext}</b><br><br>Country=LVA<br>Mortality in 1985=%{x}<br>Difference (1985 - 2020)=%{y}<extra></extra>",
         "hovertext": [
          "LVA"
         ],
         "legendgroup": "LVA",
         "marker": {
          "color": "#19d3f3",
          "symbol": "circle"
         },
         "mode": "markers",
         "name": "LVA",
         "orientation": "v",
         "showlegend": true,
         "type": "scatter",
         "x": [
          50.369576
         ],
         "xaxis": "x",
         "y": [
          32.04795300000001
         ],
         "yaxis": "y"
        },
        {
         "hovertemplate": "<b>%{hovertext}</b><br><br>Country=Low-income countries<br>Mortality in 1985=%{x}<br>Difference (1985 - 2020)=%{y}<extra></extra>",
         "hovertext": [
          "Low-income countries"
         ],
         "legendgroup": "Low-income countries",
         "marker": {
          "color": "#FF6692",
          "symbol": "circle"
         },
         "mode": "markers",
         "name": "Low-income countries",
         "orientation": "v",
         "showlegend": true,
         "type": "scatter",
         "x": [
          1100.9159
         ],
         "xaxis": "x",
         "y": [
          696.5923499999999
         ],
         "yaxis": "y"
        },
        {
         "hovertemplate": "<b>%{hovertext}</b><br><br>Country=Lower-middle-income countries<br>Mortality in 1985=%{x}<br>Difference (1985 - 2020)=%{y}<extra></extra>",
         "hovertext": [
          "Lower-middle-income countries"
         ],
         "legendgroup": "Lower-middle-income countries",
         "marker": {
          "color": "#B6E880",
          "symbol": "circle"
         },
         "mode": "markers",
         "name": "Lower-middle-income countries",
         "orientation": "v",
         "showlegend": true,
         "type": "scatter",
         "x": [
          593.97046
         ],
         "xaxis": "x",
         "y": [
          346.91852
         ],
         "yaxis": "y"
        },
        {
         "hovertemplate": "<b>%{hovertext}</b><br><br>Country=MAR<br>Mortality in 1985=%{x}<br>Difference (1985 - 2020)=%{y}<extra></extra>",
         "hovertext": [
          "MAR"
         ],
         "legendgroup": "MAR",
         "marker": {
          "color": "#FF97FF",
          "symbol": "circle"
         },
         "mode": "markers",
         "name": "MAR",
         "orientation": "v",
         "showlegend": true,
         "type": "scatter",
         "x": [
          673.7427
         ],
         "xaxis": "x",
         "y": [
          601.89084
         ],
         "yaxis": "y"
        },
        {
         "hovertemplate": "<b>%{hovertext}</b><br><br>Country=MDA<br>Mortality in 1985=%{x}<br>Difference (1985 - 2020)=%{y}<extra></extra>",
         "hovertext": [
          "MDA"
         ],
         "legendgroup": "MDA",
         "marker": {
          "color": "#FECB52",
          "symbol": "circle"
         },
         "mode": "markers",
         "name": "MDA",
         "orientation": "v",
         "showlegend": true,
         "type": "scatter",
         "x": [
          75.19652
         ],
         "xaxis": "x",
         "y": [
          62.93174900000001
         ],
         "yaxis": "y"
        },
        {
         "hovertemplate": "<b>%{hovertext}</b><br><br>Country=MDG<br>Mortality in 1985=%{x}<br>Difference (1985 - 2020)=%{y}<extra></extra>",
         "hovertext": [
          "MDG"
         ],
         "legendgroup": "MDG",
         "marker": {
          "color": "#636efa",
          "symbol": "circle"
         },
         "mode": "markers",
         "name": "MDG",
         "orientation": "v",
         "showlegend": true,
         "type": "scatter",
         "x": [
          810.44116
         ],
         "xaxis": "x",
         "y": [
          418.92422
         ],
         "yaxis": "y"
        },
        {
         "hovertemplate": "<b>%{hovertext}</b><br><br>Country=MDV<br>Mortality in 1985=%{x}<br>Difference (1985 - 2020)=%{y}<extra></extra>",
         "hovertext": [
          "MDV"
         ],
         "legendgroup": "MDV",
         "marker": {
          "color": "#EF553B",
          "symbol": "circle"
         },
         "mode": "markers",
         "name": "MDV",
         "orientation": "v",
         "showlegend": true,
         "type": "scatter",
         "x": [
          364.57812
         ],
         "xaxis": "x",
         "y": [
          307.88432
         ],
         "yaxis": "y"
        },
        {
         "hovertemplate": "<b>%{hovertext}</b><br><br>Country=MEX<br>Mortality in 1985=%{x}<br>Difference (1985 - 2020)=%{y}<extra></extra>",
         "hovertext": [
          "MEX"
         ],
         "legendgroup": "MEX",
         "marker": {
          "color": "#00cc96",
          "symbol": "circle"
         },
         "mode": "markers",
         "name": "MEX",
         "orientation": "v",
         "showlegend": true,
         "type": "scatter",
         "x": [
          97.23246
         ],
         "xaxis": "x",
         "y": [
          38.107388
         ],
         "yaxis": "y"
        },
        {
         "hovertemplate": "<b>%{hovertext}</b><br><br>Country=MKD<br>Mortality in 1985=%{x}<br>Difference (1985 - 2020)=%{y}<extra></extra>",
         "hovertext": [
          "MKD"
         ],
         "legendgroup": "MKD",
         "marker": {
          "color": "#ab63fa",
          "symbol": "circle"
         },
         "mode": "markers",
         "name": "MKD",
         "orientation": "v",
         "showlegend": true,
         "type": "scatter",
         "x": [
          17.923254
         ],
         "xaxis": "x",
         "y": [
          14.8872886
         ],
         "yaxis": "y"
        },
        {
         "hovertemplate": "<b>%{hovertext}</b><br><br>Country=MLI<br>Mortality in 1985=%{x}<br>Difference (1985 - 2020)=%{y}<extra></extra>",
         "hovertext": [
          "MLI"
         ],
         "legendgroup": "MLI",
         "marker": {
          "color": "#FFA15A",
          "symbol": "circle"
         },
         "mode": "markers",
         "name": "MLI",
         "orientation": "v",
         "showlegend": true,
         "type": "scatter",
         "x": [
          1341.1812
         ],
         "xaxis": "x",
         "y": [
          900.9564399999999
         ],
         "yaxis": "y"
        },
        {
         "hovertemplate": "<b>%{hovertext}</b><br><br>Country=MLT<br>Mortality in 1985=%{x}<br>Difference (1985 - 2020)=%{y}<extra></extra>",
         "hovertext": [
          "MLT"
         ],
         "legendgroup": "MLT",
         "marker": {
          "color": "#19d3f3",
          "symbol": "circle"
         },
         "mode": "markers",
         "name": "MLT",
         "orientation": "v",
         "showlegend": true,
         "type": "scatter",
         "x": [
          16.180328
         ],
         "xaxis": "x",
         "y": [
          13.2875482
         ],
         "yaxis": "y"
        },
        {
         "hovertemplate": "<b>%{hovertext}</b><br><br>Country=MMR<br>Mortality in 1985=%{x}<br>Difference (1985 - 2020)=%{y}<extra></extra>",
         "hovertext": [
          "MMR"
         ],
         "legendgroup": "MMR",
         "marker": {
          "color": "#FF6692",
          "symbol": "circle"
         },
         "mode": "markers",
         "name": "MMR",
         "orientation": "v",
         "showlegend": true,
         "type": "scatter",
         "x": [
          572.4983
         ],
         "xaxis": "x",
         "y": [
          393.82394
         ],
         "yaxis": "y"
        },
        {
         "hovertemplate": "<b>%{hovertext}</b><br><br>Country=MNE<br>Mortality in 1985=%{x}<br>Difference (1985 - 2020)=%{y}<extra></extra>",
         "hovertext": [
          "MNE"
         ],
         "legendgroup": "MNE",
         "marker": {
          "color": "#B6E880",
          "symbol": "circle"
         },
         "mode": "markers",
         "name": "MNE",
         "orientation": "v",
         "showlegend": true,
         "type": "scatter",
         "x": [
          10.685
         ],
         "xaxis": "x",
         "y": [
          4.510566000000001
         ],
         "yaxis": "y"
        },
        {
         "hovertemplate": "<b>%{hovertext}</b><br><br>Country=MNG<br>Mortality in 1985=%{x}<br>Difference (1985 - 2020)=%{y}<extra></extra>",
         "hovertext": [
          "MNG"
         ],
         "legendgroup": "MNG",
         "marker": {
          "color": "#FF97FF",
          "symbol": "circle"
         },
         "mode": "markers",
         "name": "MNG",
         "orientation": "v",
         "showlegend": true,
         "type": "scatter",
         "x": [
          211.49565
         ],
         "xaxis": "x",
         "y": [
          172.002036
         ],
         "yaxis": "y"
        },
        {
         "hovertemplate": "<b>%{hovertext}</b><br><br>Country=MOZ<br>Mortality in 1985=%{x}<br>Difference (1985 - 2020)=%{y}<extra></extra>",
         "hovertext": [
          "MOZ"
         ],
         "legendgroup": "MOZ",
         "marker": {
          "color": "#FECB52",
          "symbol": "circle"
         },
         "mode": "markers",
         "name": "MOZ",
         "orientation": "v",
         "showlegend": true,
         "type": "scatter",
         "x": [
          1240.2552
         ],
         "xaxis": "x",
         "y": [
          1113.1446700000001
         ],
         "yaxis": "y"
        },
        {
         "hovertemplate": "<b>%{hovertext}</b><br><br>Country=MRT<br>Mortality in 1985=%{x}<br>Difference (1985 - 2020)=%{y}<extra></extra>",
         "hovertext": [
          "MRT"
         ],
         "legendgroup": "MRT",
         "marker": {
          "color": "#636efa",
          "symbol": "circle"
         },
         "mode": "markers",
         "name": "MRT",
         "orientation": "v",
         "showlegend": true,
         "type": "scatter",
         "x": [
          781.2774
         ],
         "xaxis": "x",
         "y": [
          317.44527999999997
         ],
         "yaxis": "y"
        },
        {
         "hovertemplate": "<b>%{hovertext}</b><br><br>Country=MUS<br>Mortality in 1985=%{x}<br>Difference (1985 - 2020)=%{y}<extra></extra>",
         "hovertext": [
          "MUS"
         ],
         "legendgroup": "MUS",
         "marker": {
          "color": "#EF553B",
          "symbol": "circle"
         },
         "mode": "markers",
         "name": "MUS",
         "orientation": "v",
         "showlegend": true,
         "type": "scatter",
         "x": [
          141.69366
         ],
         "xaxis": "x",
         "y": [
          57.33569
         ],
         "yaxis": "y"
        },
        {
         "hovertemplate": "<b>%{hovertext}</b><br><br>Country=MWI<br>Mortality in 1985=%{x}<br>Difference (1985 - 2020)=%{y}<extra></extra>",
         "hovertext": [
          "MWI"
         ],
         "legendgroup": "MWI",
         "marker": {
          "color": "#00cc96",
          "symbol": "circle"
         },
         "mode": "markers",
         "name": "MWI",
         "orientation": "v",
         "showlegend": true,
         "type": "scatter",
         "x": [
          891.78516
         ],
         "xaxis": "x",
         "y": [
          511.11524000000003
         ],
         "yaxis": "y"
        },
        {
         "hovertemplate": "<b>%{hovertext}</b><br><br>Country=MYS<br>Mortality in 1985=%{x}<br>Difference (1985 - 2020)=%{y}<extra></extra>",
         "hovertext": [
          "MYS"
         ],
         "legendgroup": "MYS",
         "marker": {
          "color": "#ab63fa",
          "symbol": "circle"
         },
         "mode": "markers",
         "name": "MYS",
         "orientation": "v",
         "showlegend": true,
         "type": "scatter",
         "x": [
          55.13256
         ],
         "xaxis": "x",
         "y": [
          34.000628999999996
         ],
         "yaxis": "y"
        },
        {
         "hovertemplate": "<b>%{hovertext}</b><br><br>Country=NAM<br>Mortality in 1985=%{x}<br>Difference (1985 - 2020)=%{y}<extra></extra>",
         "hovertext": [
          "NAM"
         ],
         "legendgroup": "NAM",
         "marker": {
          "color": "#FFA15A",
          "symbol": "circle"
         },
         "mode": "markers",
         "name": "NAM",
         "orientation": "v",
         "showlegend": true,
         "type": "scatter",
         "x": [
          328.41602
         ],
         "xaxis": "x",
         "y": [
          113.78094999999999
         ],
         "yaxis": "y"
        },
        {
         "hovertemplate": "<b>%{hovertext}</b><br><br>Country=NER<br>Mortality in 1985=%{x}<br>Difference (1985 - 2020)=%{y}<extra></extra>",
         "hovertext": [
          "NER"
         ],
         "legendgroup": "NER",
         "marker": {
          "color": "#19d3f3",
          "symbol": "circle"
         },
         "mode": "markers",
         "name": "NER",
         "orientation": "v",
         "showlegend": true,
         "type": "scatter",
         "x": [
          1128.7013
         ],
         "xaxis": "x",
         "y": [
          687.6287599999999
         ],
         "yaxis": "y"
        },
        {
         "hovertemplate": "<b>%{hovertext}</b><br><br>Country=NGA<br>Mortality in 1985=%{x}<br>Difference (1985 - 2020)=%{y}<extra></extra>",
         "hovertext": [
          "NGA"
         ],
         "legendgroup": "NGA",
         "marker": {
          "color": "#FF6692",
          "symbol": "circle"
         },
         "mode": "markers",
         "name": "NGA",
         "orientation": "v",
         "showlegend": true,
         "type": "scatter",
         "x": [
          1283.016
         ],
         "xaxis": "x",
         "y": [
          235.78060000000005
         ],
         "yaxis": "y"
        },
        {
         "hovertemplate": "<b>%{hovertext}</b><br><br>Country=NIC<br>Mortality in 1985=%{x}<br>Difference (1985 - 2020)=%{y}<extra></extra>",
         "hovertext": [
          "NIC"
         ],
         "legendgroup": "NIC",
         "marker": {
          "color": "#B6E880",
          "symbol": "circle"
         },
         "mode": "markers",
         "name": "NIC",
         "orientation": "v",
         "showlegend": true,
         "type": "scatter",
         "x": [
          269.91864
         ],
         "xaxis": "x",
         "y": [
          192.04007
         ],
         "yaxis": "y"
        },
        {
         "hovertemplate": "<b>%{hovertext}</b><br><br>Country=NLD<br>Mortality in 1985=%{x}<br>Difference (1985 - 2020)=%{y}<extra></extra>",
         "hovertext": [
          "NLD"
         ],
         "legendgroup": "NLD",
         "marker": {
          "color": "#FF97FF",
          "symbol": "circle"
         },
         "mode": "markers",
         "name": "NLD",
         "orientation": "v",
         "showlegend": true,
         "type": "scatter",
         "x": [
          11.446349
         ],
         "xaxis": "x",
         "y": [
          7.1346099999999995
         ],
         "yaxis": "y"
        },
        {
         "hovertemplate": "<b>%{hovertext}</b><br><br>Country=NOR<br>Mortality in 1985=%{x}<br>Difference (1985 - 2020)=%{y}<extra></extra>",
         "hovertext": [
          "NOR"
         ],
         "legendgroup": "NOR",
         "marker": {
          "color": "#FECB52",
          "symbol": "circle"
         },
         "mode": "markers",
         "name": "NOR",
         "orientation": "v",
         "showlegend": true,
         "type": "scatter",
         "x": [
          6.983564
         ],
         "xaxis": "x",
         "y": [
          5.3198226
         ],
         "yaxis": "y"
        },
        {
         "hovertemplate": "<b>%{hovertext}</b><br><br>Country=NPL<br>Mortality in 1985=%{x}<br>Difference (1985 - 2020)=%{y}<extra></extra>",
         "hovertext": [
          "NPL"
         ],
         "legendgroup": "NPL",
         "marker": {
          "color": "#636efa",
          "symbol": "circle"
         },
         "mode": "markers",
         "name": "NPL",
         "orientation": "v",
         "showlegend": true,
         "type": "scatter",
         "x": [
          1171.4905
         ],
         "xaxis": "x",
         "y": [
          997.0803300000001
         ],
         "yaxis": "y"
        },
        {
         "hovertemplate": "<b>%{hovertext}</b><br><br>Country=NZL<br>Mortality in 1985=%{x}<br>Difference (1985 - 2020)=%{y}<extra></extra>",
         "hovertext": [
          "NZL"
         ],
         "legendgroup": "NZL",
         "marker": {
          "color": "#EF553B",
          "symbol": "circle"
         },
         "mode": "markers",
         "name": "NZL",
         "orientation": "v",
         "showlegend": true,
         "type": "scatter",
         "x": [
          16.90462
         ],
         "xaxis": "x",
         "y": [
          9.874183000000002
         ],
         "yaxis": "y"
        },
        {
         "hovertemplate": "<b>%{hovertext}</b><br><br>Country=North America<br>Mortality in 1985=%{x}<br>Difference (1985 - 2020)=%{y}<extra></extra>",
         "hovertext": [
          "North America"
         ],
         "legendgroup": "North America",
         "marker": {
          "color": "#00cc96",
          "symbol": "circle"
         },
         "mode": "markers",
         "name": "North America",
         "orientation": "v",
         "showlegend": true,
         "type": "scatter",
         "x": [
          86.82603
         ],
         "xaxis": "x",
         "y": [
          34.968242000000004
         ],
         "yaxis": "y"
        },
        {
         "hovertemplate": "<b>%{hovertext}</b><br><br>Country=OMN<br>Mortality in 1985=%{x}<br>Difference (1985 - 2020)=%{y}<extra></extra>",
         "hovertext": [
          "OMN"
         ],
         "legendgroup": "OMN",
         "marker": {
          "color": "#ab63fa",
          "symbol": "circle"
         },
         "mode": "markers",
         "name": "OMN",
         "orientation": "v",
         "showlegend": true,
         "type": "scatter",
         "x": [
          31.056747
         ],
         "xaxis": "x",
         "y": [
          14.050035000000001
         ],
         "yaxis": "y"
        },
        {
         "hovertemplate": "<b>%{hovertext}</b><br><br>Country=Oceania<br>Mortality in 1985=%{x}<br>Difference (1985 - 2020)=%{y}<extra></extra>",
         "hovertext": [
          "Oceania"
         ],
         "legendgroup": "Oceania",
         "marker": {
          "color": "#FFA15A",
          "symbol": "circle"
         },
         "mode": "markers",
         "name": "Oceania",
         "orientation": "v",
         "showlegend": true,
         "type": "scatter",
         "x": [
          114.09669
         ],
         "xaxis": "x",
         "y": [
          32.47860999999999
         ],
         "yaxis": "y"
        },
        {
         "hovertemplate": "<b>%{hovertext}</b><br><br>Country=PAK<br>Mortality in 1985=%{x}<br>Difference (1985 - 2020)=%{y}<extra></extra>",
         "hovertext": [
          "PAK"
         ],
         "legendgroup": "PAK",
         "marker": {
          "color": "#19d3f3",
          "symbol": "circle"
         },
         "mode": "markers",
         "name": "PAK",
         "orientation": "v",
         "showlegend": true,
         "type": "scatter",
         "x": [
          368.12415
         ],
         "xaxis": "x",
         "y": [
          213.96021
         ],
         "yaxis": "y"
        },
        {
         "hovertemplate": "<b>%{hovertext}</b><br><br>Country=PAN<br>Mortality in 1985=%{x}<br>Difference (1985 - 2020)=%{y}<extra></extra>",
         "hovertext": [
          "PAN"
         ],
         "legendgroup": "PAN",
         "marker": {
          "color": "#FF6692",
          "symbol": "circle"
         },
         "mode": "markers",
         "name": "PAN",
         "orientation": "v",
         "showlegend": true,
         "type": "scatter",
         "x": [
          87.94499
         ],
         "xaxis": "x",
         "y": [
          38.427717
         ],
         "yaxis": "y"
        },
        {
         "hovertemplate": "<b>%{hovertext}</b><br><br>Country=PER<br>Mortality in 1985=%{x}<br>Difference (1985 - 2020)=%{y}<extra></extra>",
         "hovertext": [
          "PER"
         ],
         "legendgroup": "PER",
         "marker": {
          "color": "#B6E880",
          "symbol": "circle"
         },
         "mode": "markers",
         "name": "PER",
         "orientation": "v",
         "showlegend": true,
         "type": "scatter",
         "x": [
          273.97702
         ],
         "xaxis": "x",
         "y": [
          205.44104
         ],
         "yaxis": "y"
        },
        {
         "hovertemplate": "<b>%{hovertext}</b><br><br>Country=PHL<br>Mortality in 1985=%{x}<br>Difference (1985 - 2020)=%{y}<extra></extra>",
         "hovertext": [
          "PHL"
         ],
         "legendgroup": "PHL",
         "marker": {
          "color": "#FF97FF",
          "symbol": "circle"
         },
         "mode": "markers",
         "name": "PHL",
         "orientation": "v",
         "showlegend": true,
         "type": "scatter",
         "x": [
          255.93457
         ],
         "xaxis": "x",
         "y": [
          177.69831
         ],
         "yaxis": "y"
        },
        {
         "hovertemplate": "<b>%{hovertext}</b><br><br>Country=PNG<br>Mortality in 1985=%{x}<br>Difference (1985 - 2020)=%{y}<extra></extra>",
         "hovertext": [
          "PNG"
         ],
         "legendgroup": "PNG",
         "marker": {
          "color": "#FECB52",
          "symbol": "circle"
         },
         "mode": "markers",
         "name": "PNG",
         "orientation": "v",
         "showlegend": true,
         "type": "scatter",
         "x": [
          354.2526
         ],
         "xaxis": "x",
         "y": [
          162.41384999999997
         ],
         "yaxis": "y"
        },
        {
         "hovertemplate": "<b>%{hovertext}</b><br><br>Country=POL<br>Mortality in 1985=%{x}<br>Difference (1985 - 2020)=%{y}<extra></extra>",
         "hovertext": [
          "POL"
         ],
         "legendgroup": "POL",
         "marker": {
          "color": "#636efa",
          "symbol": "circle"
         },
         "mode": "markers",
         "name": "POL",
         "orientation": "v",
         "showlegend": true,
         "type": "scatter",
         "x": [
          17.513634
         ],
         "xaxis": "x",
         "y": [
          15.5541684
         ],
         "yaxis": "y"
        },
        {
         "hovertemplate": "<b>%{hovertext}</b><br><br>Country=PRI<br>Mortality in 1985=%{x}<br>Difference (1985 - 2020)=%{y}<extra></extra>",
         "hovertext": [
          "PRI"
         ],
         "legendgroup": "PRI",
         "marker": {
          "color": "#EF553B",
          "symbol": "circle"
         },
         "mode": "markers",
         "name": "PRI",
         "orientation": "v",
         "showlegend": true,
         "type": "scatter",
         "x": [
          31.823534
         ],
         "xaxis": "x",
         "y": [
          -2.5132200000000005
         ],
         "yaxis": "y"
        },
        {
         "hovertemplate": "<b>%{hovertext}</b><br><br>Country=PRK<br>Mortality in 1985=%{x}<br>Difference (1985 - 2020)=%{y}<extra></extra>",
         "hovertext": [
          "PRK"
         ],
         "legendgroup": "PRK",
         "marker": {
          "color": "#00cc96",
          "symbol": "circle"
         },
         "mode": "markers",
         "name": "PRK",
         "orientation": "v",
         "showlegend": true,
         "type": "scatter",
         "x": [
          115.05375
         ],
         "xaxis": "x",
         "y": [
          8.353264999999993
         ],
         "yaxis": "y"
        },
        {
         "hovertemplate": "<b>%{hovertext}</b><br><br>Country=PRT<br>Mortality in 1985=%{x}<br>Difference (1985 - 2020)=%{y}<extra></extra>",
         "hovertext": [
          "PRT"
         ],
         "legendgroup": "PRT",
         "marker": {
          "color": "#ab63fa",
          "symbol": "circle"
         },
         "mode": "markers",
         "name": "PRT",
         "orientation": "v",
         "showlegend": true,
         "type": "scatter",
         "x": [
          15.581305
         ],
         "xaxis": "x",
         "y": [
          3.7818500000000004
         ],
         "yaxis": "y"
        },
        {
         "hovertemplate": "<b>%{hovertext}</b><br><br>Country=PRY<br>Mortality in 1985=%{x}<br>Difference (1985 - 2020)=%{y}<extra></extra>",
         "hovertext": [
          "PRY"
         ],
         "legendgroup": "PRY",
         "marker": {
          "color": "#FFA15A",
          "symbol": "circle"
         },
         "mode": "markers",
         "name": "PRY",
         "orientation": "v",
         "showlegend": true,
         "type": "scatter",
         "x": [
          251.94005
         ],
         "xaxis": "x",
         "y": [
          180.81725
         ],
         "yaxis": "y"
        },
        {
         "hovertemplate": "<b>%{hovertext}</b><br><br>Country=PSE<br>Mortality in 1985=%{x}<br>Difference (1985 - 2020)=%{y}<extra></extra>",
         "hovertext": [
          "PSE"
         ],
         "legendgroup": "PSE",
         "marker": {
          "color": "#19d3f3",
          "symbol": "circle"
         },
         "mode": "markers",
         "name": "PSE",
         "orientation": "v",
         "showlegend": true,
         "type": "scatter",
         "x": [
          110.26178
         ],
         "xaxis": "x",
         "y": [
          89.827467
         ],
         "yaxis": "y"
        },
        {
         "hovertemplate": "<b>%{hovertext}</b><br><br>Country=QAT<br>Mortality in 1985=%{x}<br>Difference (1985 - 2020)=%{y}<extra></extra>",
         "hovertext": [
          "QAT"
         ],
         "legendgroup": "QAT",
         "marker": {
          "color": "#FF6692",
          "symbol": "circle"
         },
         "mode": "markers",
         "name": "QAT",
         "orientation": "v",
         "showlegend": true,
         "type": "scatter",
         "x": [
          23.9293
         ],
         "xaxis": "x",
         "y": [
          16.323866000000002
         ],
         "yaxis": "y"
        },
        {
         "hovertemplate": "<b>%{hovertext}</b><br><br>Country=ROU<br>Mortality in 1985=%{x}<br>Difference (1985 - 2020)=%{y}<extra></extra>",
         "hovertext": [
          "ROU"
         ],
         "legendgroup": "ROU",
         "marker": {
          "color": "#B6E880",
          "symbol": "circle"
         },
         "mode": "markers",
         "name": "ROU",
         "orientation": "v",
         "showlegend": true,
         "type": "scatter",
         "x": [
          212.36163
         ],
         "xaxis": "x",
         "y": [
          202.29082799999998
         ],
         "yaxis": "y"
        },
        {
         "hovertemplate": "<b>%{hovertext}</b><br><br>Country=RUS<br>Mortality in 1985=%{x}<br>Difference (1985 - 2020)=%{y}<extra></extra>",
         "hovertext": [
          "RUS"
         ],
         "legendgroup": "RUS",
         "marker": {
          "color": "#FF97FF",
          "symbol": "circle"
         },
         "mode": "markers",
         "name": "RUS",
         "orientation": "v",
         "showlegend": true,
         "type": "scatter",
         "x": [
          106.83702
         ],
         "xaxis": "x",
         "y": [
          93.114227
         ],
         "yaxis": "y"
        },
        {
         "hovertemplate": "<b>%{hovertext}</b><br><br>Country=RWA<br>Mortality in 1985=%{x}<br>Difference (1985 - 2020)=%{y}<extra></extra>",
         "hovertext": [
          "RWA"
         ],
         "legendgroup": "RWA",
         "marker": {
          "color": "#FECB52",
          "symbol": "circle"
         },
         "mode": "markers",
         "name": "RWA",
         "orientation": "v",
         "showlegend": true,
         "type": "scatter",
         "x": [
          952.0998
         ],
         "xaxis": "x",
         "y": [
          693.17518
         ],
         "yaxis": "y"
        },
        {
         "hovertemplate": "<b>%{hovertext}</b><br><br>Country=SAU<br>Mortality in 1985=%{x}<br>Difference (1985 - 2020)=%{y}<extra></extra>",
         "hovertext": [
          "SAU"
         ],
         "legendgroup": "SAU",
         "marker": {
          "color": "#636efa",
          "symbol": "circle"
         },
         "mode": "markers",
         "name": "SAU",
         "orientation": "v",
         "showlegend": true,
         "type": "scatter",
         "x": [
          35.771
         ],
         "xaxis": "x",
         "y": [
          19.567242
         ],
         "yaxis": "y"
        },
        {
         "hovertemplate": "<b>%{hovertext}</b><br><br>Country=SDN<br>Mortality in 1985=%{x}<br>Difference (1985 - 2020)=%{y}<extra></extra>",
         "hovertext": [
          "SDN"
         ],
         "legendgroup": "SDN",
         "marker": {
          "color": "#EF553B",
          "symbol": "circle"
         },
         "mode": "markers",
         "name": "SDN",
         "orientation": "v",
         "showlegend": true,
         "type": "scatter",
         "x": [
          1165.521
         ],
         "xaxis": "x",
         "y": [
          895.1656499999999
         ],
         "yaxis": "y"
        },
        {
         "hovertemplate": "<b>%{hovertext}</b><br><br>Country=SEN<br>Mortality in 1985=%{x}<br>Difference (1985 - 2020)=%{y}<extra></extra>",
         "hovertext": [
          "SEN"
         ],
         "legendgroup": "SEN",
         "marker": {
          "color": "#00cc96",
          "symbol": "circle"
         },
         "mode": "markers",
         "name": "SEN",
         "orientation": "v",
         "showlegend": true,
         "type": "scatter",
         "x": [
          759.97235
         ],
         "xaxis": "x",
         "y": [
          499.09175
         ],
         "yaxis": "y"
        },
        {
         "hovertemplate": "<b>%{hovertext}</b><br><br>Country=SGP<br>Mortality in 1985=%{x}<br>Difference (1985 - 2020)=%{y}<extra></extra>",
         "hovertext": [
          "SGP"
         ],
         "legendgroup": "SGP",
         "marker": {
          "color": "#ab63fa",
          "symbol": "circle"
         },
         "mode": "markers",
         "name": "SGP",
         "orientation": "v",
         "showlegend": true,
         "type": "scatter",
         "x": [
          17.69494
         ],
         "xaxis": "x",
         "y": [
          10.2421774
         ],
         "yaxis": "y"
        },
        {
         "hovertemplate": "<b>%{hovertext}</b><br><br>Country=SLB<br>Mortality in 1985=%{x}<br>Difference (1985 - 2020)=%{y}<extra></extra>",
         "hovertext": [
          "SLB"
         ],
         "legendgroup": "SLB",
         "marker": {
          "color": "#FFA15A",
          "symbol": "circle"
         },
         "mode": "markers",
         "name": "SLB",
         "orientation": "v",
         "showlegend": true,
         "type": "scatter",
         "x": [
          179.20615
         ],
         "xaxis": "x",
         "y": [
          56.95664000000001
         ],
         "yaxis": "y"
        },
        {
         "hovertemplate": "<b>%{hovertext}</b><br><br>Country=SLE<br>Mortality in 1985=%{x}<br>Difference (1985 - 2020)=%{y}<extra></extra>",
         "hovertext": [
          "SLE"
         ],
         "legendgroup": "SLE",
         "marker": {
          "color": "#19d3f3",
          "symbol": "circle"
         },
         "mode": "markers",
         "name": "SLE",
         "orientation": "v",
         "showlegend": true,
         "type": "scatter",
         "x": [
          1427.5271
         ],
         "xaxis": "x",
         "y": [
          984.6967
         ],
         "yaxis": "y"
        },
        {
         "hovertemplate": "<b>%{hovertext}</b><br><br>Country=SLV<br>Mortality in 1985=%{x}<br>Difference (1985 - 2020)=%{y}<extra></extra>",
         "hovertext": [
          "SLV"
         ],
         "legendgroup": "SLV",
         "marker": {
          "color": "#FF6692",
          "symbol": "circle"
         },
         "mode": "markers",
         "name": "SLV",
         "orientation": "v",
         "showlegend": true,
         "type": "scatter",
         "x": [
          210.46756
         ],
         "xaxis": "x",
         "y": [
          167.677098
         ],
         "yaxis": "y"
        },
        {
         "hovertemplate": "<b>%{hovertext}</b><br><br>Country=SOM<br>Mortality in 1985=%{x}<br>Difference (1985 - 2020)=%{y}<extra></extra>",
         "hovertext": [
          "SOM"
         ],
         "legendgroup": "SOM",
         "marker": {
          "color": "#B6E880",
          "symbol": "circle"
         },
         "mode": "markers",
         "name": "SOM",
         "orientation": "v",
         "showlegend": true,
         "type": "scatter",
         "x": [
          1199.0178
         ],
         "xaxis": "x",
         "y": [
          578.3354
         ],
         "yaxis": "y"
        },
        {
         "hovertemplate": "<b>%{hovertext}</b><br><br>Country=SRB<br>Mortality in 1985=%{x}<br>Difference (1985 - 2020)=%{y}<extra></extra>",
         "hovertext": [
          "SRB"
         ],
         "legendgroup": "SRB",
         "marker": {
          "color": "#FF97FF",
          "symbol": "circle"
         },
         "mode": "markers",
         "name": "SRB",
         "orientation": "v",
         "showlegend": true,
         "type": "scatter",
         "x": [
          16.937838
         ],
         "xaxis": "x",
         "y": [
          6.756503499999999
         ],
         "yaxis": "y"
        },
        {
         "hovertemplate": "<b>%{hovertext}</b><br><br>Country=SSD<br>Mortality in 1985=%{x}<br>Difference (1985 - 2020)=%{y}<extra></extra>",
         "hovertext": [
          "SSD"
         ],
         "legendgroup": "SSD",
         "marker": {
          "color": "#FECB52",
          "symbol": "circle"
         },
         "mode": "markers",
         "name": "SSD",
         "orientation": "v",
         "showlegend": true,
         "type": "scatter",
         "x": [
          3291.784
         ],
         "xaxis": "x",
         "y": [
          2069.2531
         ],
         "yaxis": "y"
        },
        {
         "hovertemplate": "<b>%{hovertext}</b><br><br>Country=STP<br>Mortality in 1985=%{x}<br>Difference (1985 - 2020)=%{y}<extra></extra>",
         "hovertext": [
          "STP"
         ],
         "legendgroup": "STP",
         "marker": {
          "color": "#636efa",
          "symbol": "circle"
         },
         "mode": "markers",
         "name": "STP",
         "orientation": "v",
         "showlegend": true,
         "type": "scatter",
         "x": [
          256.9623
         ],
         "xaxis": "x",
         "y": [
          110.72225000000003
         ],
         "yaxis": "y"
        },
        {
         "hovertemplate": "<b>%{hovertext}</b><br><br>Country=SUR<br>Mortality in 1985=%{x}<br>Difference (1985 - 2020)=%{y}<extra></extra>",
         "hovertext": [
          "SUR"
         ],
         "legendgroup": "SUR",
         "marker": {
          "color": "#EF553B",
          "symbol": "circle"
         },
         "mode": "markers",
         "name": "SUR",
         "orientation": "v",
         "showlegend": true,
         "type": "scatter",
         "x": [
          415.49326
         ],
         "xaxis": "x",
         "y": [
          319.03371000000004
         ],
         "yaxis": "y"
        },
        {
         "hovertemplate": "<b>%{hovertext}</b><br><br>Country=SVK<br>Mortality in 1985=%{x}<br>Difference (1985 - 2020)=%{y}<extra></extra>",
         "hovertext": [
          "SVK"
         ],
         "legendgroup": "SVK",
         "marker": {
          "color": "#00cc96",
          "symbol": "circle"
         },
         "mode": "markers",
         "name": "SVK",
         "orientation": "v",
         "showlegend": true,
         "type": "scatter",
         "x": [
          9.765756
         ],
         "xaxis": "x",
         "y": [
          4.94109
         ],
         "yaxis": "y"
        },
        {
         "hovertemplate": "<b>%{hovertext}</b><br><br>Country=SVN<br>Mortality in 1985=%{x}<br>Difference (1985 - 2020)=%{y}<extra></extra>",
         "hovertext": [
          "SVN"
         ],
         "legendgroup": "SVN",
         "marker": {
          "color": "#ab63fa",
          "symbol": "circle"
         },
         "mode": "markers",
         "name": "SVN",
         "orientation": "v",
         "showlegend": true,
         "type": "scatter",
         "x": [
          16.026314
         ],
         "xaxis": "x",
         "y": [
          11.49317
         ],
         "yaxis": "y"
        },
        {
         "hovertemplate": "<b>%{hovertext}</b><br><br>Country=SWE<br>Mortality in 1985=%{x}<br>Difference (1985 - 2020)=%{y}<extra></extra>",
         "hovertext": [
          "SWE"
         ],
         "legendgroup": "SWE",
         "marker": {
          "color": "#FFA15A",
          "symbol": "circle"
         },
         "mode": "markers",
         "name": "SWE",
         "orientation": "v",
         "showlegend": true,
         "type": "scatter",
         "x": [
          7.241195
         ],
         "xaxis": "x",
         "y": [
          2.7333560000000006
         ],
         "yaxis": "y"
        },
        {
         "hovertemplate": "<b>%{hovertext}</b><br><br>Country=SWZ<br>Mortality in 1985=%{x}<br>Difference (1985 - 2020)=%{y}<extra></extra>",
         "hovertext": [
          "SWZ"
         ],
         "legendgroup": "SWZ",
         "marker": {
          "color": "#19d3f3",
          "symbol": "circle"
         },
         "mode": "markers",
         "name": "SWZ",
         "orientation": "v",
         "showlegend": true,
         "type": "scatter",
         "x": [
          484.3433
         ],
         "xaxis": "x",
         "y": [
          244.7109
         ],
         "yaxis": "y"
        },
        {
         "hovertemplate": "<b>%{hovertext}</b><br><br>Country=SYC<br>Mortality in 1985=%{x}<br>Difference (1985 - 2020)=%{y}<extra></extra>",
         "hovertext": [
          "SYC"
         ],
         "legendgroup": "SYC",
         "marker": {
          "color": "#FF6692",
          "symbol": "circle"
         },
         "mode": "markers",
         "name": "SYC",
         "orientation": "v",
         "showlegend": true,
         "type": "scatter",
         "x": [
          56.784706
         ],
         "xaxis": "x",
         "y": [
          53.4514967
         ],
         "yaxis": "y"
        },
        {
         "hovertemplate": "<b>%{hovertext}</b><br><br>Country=SYR<br>Mortality in 1985=%{x}<br>Difference (1985 - 2020)=%{y}<extra></extra>",
         "hovertext": [
          "SYR"
         ],
         "legendgroup": "SYR",
         "marker": {
          "color": "#B6E880",
          "symbol": "circle"
         },
         "mode": "markers",
         "name": "SYR",
         "orientation": "v",
         "showlegend": true,
         "type": "scatter",
         "x": [
          55.55453
         ],
         "xaxis": "x",
         "y": [
          25.637204
         ],
         "yaxis": "y"
        },
        {
         "hovertemplate": "<b>%{hovertext}</b><br><br>Country=South America<br>Mortality in 1985=%{x}<br>Difference (1985 - 2020)=%{y}<extra></extra>",
         "hovertext": [
          "South America"
         ],
         "legendgroup": "South America",
         "marker": {
          "color": "#FF97FF",
          "symbol": "circle"
         },
         "mode": "markers",
         "name": "South America",
         "orientation": "v",
         "showlegend": true,
         "type": "scatter",
         "x": [
          206.38773
         ],
         "xaxis": "x",
         "y": [
          121.84842
         ],
         "yaxis": "y"
        },
        {
         "hovertemplate": "<b>%{hovertext}</b><br><br>Country=TCD<br>Mortality in 1985=%{x}<br>Difference (1985 - 2020)=%{y}<extra></extra>",
         "hovertext": [
          "TCD"
         ],
         "legendgroup": "TCD",
         "marker": {
          "color": "#FECB52",
          "symbol": "circle"
         },
         "mode": "markers",
         "name": "TCD",
         "orientation": "v",
         "showlegend": true,
         "type": "scatter",
         "x": [
          1420.0026
         ],
         "xaxis": "x",
         "y": [
          356.50929999999994
         ],
         "yaxis": "y"
        },
        {
         "hovertemplate": "<b>%{hovertext}</b><br><br>Country=TGO<br>Mortality in 1985=%{x}<br>Difference (1985 - 2020)=%{y}<extra></extra>",
         "hovertext": [
          "TGO"
         ],
         "legendgroup": "TGO",
         "marker": {
          "color": "#636efa",
          "symbol": "circle"
         },
         "mode": "markers",
         "name": "TGO",
         "orientation": "v",
         "showlegend": true,
         "type": "scatter",
         "x": [
          680.0191
         ],
         "xaxis": "x",
         "y": [
          280.97927
         ],
         "yaxis": "y"
        },
        {
         "hovertemplate": "<b>%{hovertext}</b><br><br>Country=THA<br>Mortality in 1985=%{x}<br>Difference (1985 - 2020)=%{y}<extra></extra>",
         "hovertext": [
          "THA"
         ],
         "legendgroup": "THA",
         "marker": {
          "color": "#EF553B",
          "symbol": "circle"
         },
         "mode": "markers",
         "name": "THA",
         "orientation": "v",
         "showlegend": true,
         "type": "scatter",
         "x": [
          77.55838
         ],
         "xaxis": "x",
         "y": [
          48.957947000000004
         ],
         "yaxis": "y"
        },
        {
         "hovertemplate": "<b>%{hovertext}</b><br><br>Country=TJK<br>Mortality in 1985=%{x}<br>Difference (1985 - 2020)=%{y}<extra></extra>",
         "hovertext": [
          "TJK"
         ],
         "legendgroup": "TJK",
         "marker": {
          "color": "#00cc96",
          "symbol": "circle"
         },
         "mode": "markers",
         "name": "TJK",
         "orientation": "v",
         "showlegend": true,
         "type": "scatter",
         "x": [
          113.6225
         ],
         "xaxis": "x",
         "y": [
          96.990801
         ],
         "yaxis": "y"
        },
        {
         "hovertemplate": "<b>%{hovertext}</b><br><br>Country=TKM<br>Mortality in 1985=%{x}<br>Difference (1985 - 2020)=%{y}<extra></extra>",
         "hovertext": [
          "TKM"
         ],
         "legendgroup": "TKM",
         "marker": {
          "color": "#ab63fa",
          "symbol": "circle"
         },
         "mode": "markers",
         "name": "TKM",
         "orientation": "v",
         "showlegend": true,
         "type": "scatter",
         "x": [
          94.014496
         ],
         "xaxis": "x",
         "y": [
          88.866413
         ],
         "yaxis": "y"
        },
        {
         "hovertemplate": "<b>%{hovertext}</b><br><br>Country=TLS<br>Mortality in 1985=%{x}<br>Difference (1985 - 2020)=%{y}<extra></extra>",
         "hovertext": [
          "TLS"
         ],
         "legendgroup": "TLS",
         "marker": {
          "color": "#FFA15A",
          "symbol": "circle"
         },
         "mode": "markers",
         "name": "TLS",
         "orientation": "v",
         "showlegend": true,
         "type": "scatter",
         "x": [
          1671.8365
         ],
         "xaxis": "x",
         "y": [
          1467.91228
         ],
         "yaxis": "y"
        },
        {
         "hovertemplate": "<b>%{hovertext}</b><br><br>Country=TON<br>Mortality in 1985=%{x}<br>Difference (1985 - 2020)=%{y}<extra></extra>",
         "hovertext": [
          "TON"
         ],
         "legendgroup": "TON",
         "marker": {
          "color": "#19d3f3",
          "symbol": "circle"
         },
         "mode": "markers",
         "name": "TON",
         "orientation": "v",
         "showlegend": true,
         "type": "scatter",
         "x": [
          128.9751
         ],
         "xaxis": "x",
         "y": [
          3.337459999999993
         ],
         "yaxis": "y"
        },
        {
         "hovertemplate": "<b>%{hovertext}</b><br><br>Country=TTO<br>Mortality in 1985=%{x}<br>Difference (1985 - 2020)=%{y}<extra></extra>",
         "hovertext": [
          "TTO"
         ],
         "legendgroup": "TTO",
         "marker": {
          "color": "#FF6692",
          "symbol": "circle"
         },
         "mode": "markers",
         "name": "TTO",
         "orientation": "v",
         "showlegend": true,
         "type": "scatter",
         "x": [
          108.896416
         ],
         "xaxis": "x",
         "y": [
          82.313416
         ],
         "yaxis": "y"
        },
        {
         "hovertemplate": "<b>%{hovertext}</b><br><br>Country=TUN<br>Mortality in 1985=%{x}<br>Difference (1985 - 2020)=%{y}<extra></extra>",
         "hovertext": [
          "TUN"
         ],
         "legendgroup": "TUN",
         "marker": {
          "color": "#B6E880",
          "symbol": "circle"
         },
         "mode": "markers",
         "name": "TUN",
         "orientation": "v",
         "showlegend": true,
         "type": "scatter",
         "x": [
          124.661575
         ],
         "xaxis": "x",
         "y": [
          88.035991
         ],
         "yaxis": "y"
        },
        {
         "hovertemplate": "<b>%{hovertext}</b><br><br>Country=TUR<br>Mortality in 1985=%{x}<br>Difference (1985 - 2020)=%{y}<extra></extra>",
         "hovertext": [
          "TUR"
         ],
         "legendgroup": "TUR",
         "marker": {
          "color": "#FF97FF",
          "symbol": "circle"
         },
         "mode": "markers",
         "name": "TUR",
         "orientation": "v",
         "showlegend": true,
         "type": "scatter",
         "x": [
          53.173622
         ],
         "xaxis": "x",
         "y": [
          35.841552
         ],
         "yaxis": "y"
        },
        {
         "hovertemplate": "<b>%{hovertext}</b><br><br>Country=TZA<br>Mortality in 1985=%{x}<br>Difference (1985 - 2020)=%{y}<extra></extra>",
         "hovertext": [
          "TZA"
         ],
         "legendgroup": "TZA",
         "marker": {
          "color": "#FECB52",
          "symbol": "circle"
         },
         "mode": "markers",
         "name": "TZA",
         "orientation": "v",
         "showlegend": true,
         "type": "scatter",
         "x": [
          843.90955
         ],
         "xaxis": "x",
         "y": [
          605.61074
         ],
         "yaxis": "y"
        },
        {
         "hovertemplate": "<b>%{hovertext}</b><br><br>Country=UGA<br>Mortality in 1985=%{x}<br>Difference (1985 - 2020)=%{y}<extra></extra>",
         "hovertext": [
          "UGA"
         ],
         "legendgroup": "UGA",
         "marker": {
          "color": "#636efa",
          "symbol": "circle"
         },
         "mode": "markers",
         "name": "UGA",
         "orientation": "v",
         "showlegend": true,
         "type": "scatter",
         "x": [
          757.2114
         ],
         "xaxis": "x",
         "y": [
          473.07062
         ],
         "yaxis": "y"
        },
        {
         "hovertemplate": "<b>%{hovertext}</b><br><br>Country=UKR<br>Mortality in 1985=%{x}<br>Difference (1985 - 2020)=%{y}<extra></extra>",
         "hovertext": [
          "UKR"
         ],
         "legendgroup": "UKR",
         "marker": {
          "color": "#EF553B",
          "symbol": "circle"
         },
         "mode": "markers",
         "name": "UKR",
         "orientation": "v",
         "showlegend": true,
         "type": "scatter",
         "x": [
          66.18179
         ],
         "xaxis": "x",
         "y": [
          49.64142100000001
         ],
         "yaxis": "y"
        },
        {
         "hovertemplate": "<b>%{hovertext}</b><br><br>Country=URY<br>Mortality in 1985=%{x}<br>Difference (1985 - 2020)=%{y}<extra></extra>",
         "hovertext": [
          "URY"
         ],
         "legendgroup": "URY",
         "marker": {
          "color": "#00cc96",
          "symbol": "circle"
         },
         "mode": "markers",
         "name": "URY",
         "orientation": "v",
         "showlegend": true,
         "type": "scatter",
         "x": [
          48.62194
         ],
         "xaxis": "x",
         "y": [
          29.983577000000004
         ],
         "yaxis": "y"
        },
        {
         "hovertemplate": "<b>%{hovertext}</b><br><br>Country=USA<br>Mortality in 1985=%{x}<br>Difference (1985 - 2020)=%{y}<extra></extra>",
         "hovertext": [
          "USA"
         ],
         "legendgroup": "USA",
         "marker": {
          "color": "#ab63fa",
          "symbol": "circle"
         },
         "mode": "markers",
         "name": "USA",
         "orientation": "v",
         "showlegend": true,
         "type": "scatter",
         "x": [
          10.7291765
         ],
         "xaxis": "x",
         "y": [
          -10.3557295
         ],
         "yaxis": "y"
        },
        {
         "hovertemplate": "<b>%{hovertext}</b><br><br>Country=UZB<br>Mortality in 1985=%{x}<br>Difference (1985 - 2020)=%{y}<extra></extra>",
         "hovertext": [
          "UZB"
         ],
         "legendgroup": "UZB",
         "marker": {
          "color": "#FFA15A",
          "symbol": "circle"
         },
         "mode": "markers",
         "name": "UZB",
         "orientation": "v",
         "showlegend": true,
         "type": "scatter",
         "x": [
          92.932625
         ],
         "xaxis": "x",
         "y": [
          62.754133
         ],
         "yaxis": "y"
        },
        {
         "hovertemplate": "<b>%{hovertext}</b><br><br>Country=Upper-middle-income countries<br>Mortality in 1985=%{x}<br>Difference (1985 - 2020)=%{y}<extra></extra>",
         "hovertext": [
          "Upper-middle-income countries"
         ],
         "legendgroup": "Upper-middle-income countries",
         "marker": {
          "color": "#19d3f3",
          "symbol": "circle"
         },
         "mode": "markers",
         "name": "Upper-middle-income countries",
         "orientation": "v",
         "showlegend": true,
         "type": "scatter",
         "x": [
          125.915054
         ],
         "xaxis": "x",
         "y": [
          79.01812699999999
         ],
         "yaxis": "y"
        },
        {
         "hovertemplate": "<b>%{hovertext}</b><br><br>Country=VCT<br>Mortality in 1985=%{x}<br>Difference (1985 - 2020)=%{y}<extra></extra>",
         "hovertext": [
          "VCT"
         ],
         "legendgroup": "VCT",
         "marker": {
          "color": "#FF6692",
          "symbol": "circle"
         },
         "mode": "markers",
         "name": "VCT",
         "orientation": "v",
         "showlegend": true,
         "type": "scatter",
         "x": [
          77.798134
         ],
         "xaxis": "x",
         "y": [
          16.004101000000006
         ],
         "yaxis": "y"
        },
        {
         "hovertemplate": "<b>%{hovertext}</b><br><br>Country=VEN<br>Mortality in 1985=%{x}<br>Difference (1985 - 2020)=%{y}<extra></extra>",
         "hovertext": [
          "VEN"
         ],
         "legendgroup": "VEN",
         "marker": {
          "color": "#B6E880",
          "symbol": "circle"
         },
         "mode": "markers",
         "name": "VEN",
         "orientation": "v",
         "showlegend": true,
         "type": "scatter",
         "x": [
          105.361534
         ],
         "xaxis": "x",
         "y": [
          -153.82489599999997
         ],
         "yaxis": "y"
        },
        {
         "hovertemplate": "<b>%{hovertext}</b><br><br>Country=VNM<br>Mortality in 1985=%{x}<br>Difference (1985 - 2020)=%{y}<extra></extra>",
         "hovertext": [
          "VNM"
         ],
         "legendgroup": "VNM",
         "marker": {
          "color": "#FF97FF",
          "symbol": "circle"
         },
         "mode": "markers",
         "name": "VNM",
         "orientation": "v",
         "showlegend": true,
         "type": "scatter",
         "x": [
          143.22238
         ],
         "xaxis": "x",
         "y": [
          97.69235499999999
         ],
         "yaxis": "y"
        },
        {
         "hovertemplate": "<b>%{hovertext}</b><br><br>Country=VUT<br>Mortality in 1985=%{x}<br>Difference (1985 - 2020)=%{y}<extra></extra>",
         "hovertext": [
          "VUT"
         ],
         "legendgroup": "VUT",
         "marker": {
          "color": "#FECB52",
          "symbol": "circle"
         },
         "mode": "markers",
         "name": "VUT",
         "orientation": "v",
         "showlegend": true,
         "type": "scatter",
         "x": [
          161.13016
         ],
         "xaxis": "x",
         "y": [
          66.68733999999999
         ],
         "yaxis": "y"
        },
        {
         "hovertemplate": "<b>%{hovertext}</b><br><br>Country=WSM<br>Mortality in 1985=%{x}<br>Difference (1985 - 2020)=%{y}<extra></extra>",
         "hovertext": [
          "WSM"
         ],
         "legendgroup": "WSM",
         "marker": {
          "color": "#636efa",
          "symbol": "circle"
         },
         "mode": "markers",
         "name": "WSM",
         "orientation": "v",
         "showlegend": true,
         "type": "scatter",
         "x": [
          116.42778
         ],
         "xaxis": "x",
         "y": [
          57.348704999999995
         ],
         "yaxis": "y"
        },
        {
         "hovertemplate": "<b>%{hovertext}</b><br><br>Country=World<br>Mortality in 1985=%{x}<br>Difference (1985 - 2020)=%{y}<extra></extra>",
         "hovertext": [
          "World"
         ],
         "legendgroup": "World",
         "marker": {
          "color": "#EF553B",
          "symbol": "circle"
         },
         "mode": "markers",
         "name": "World",
         "orientation": "v",
         "showlegend": true,
         "type": "scatter",
         "x": [
          428.7972
         ],
         "xaxis": "x",
         "y": [
          216.56082999999998
         ],
         "yaxis": "y"
        },
        {
         "hovertemplate": "<b>%{hovertext}</b><br><br>Country=YEM<br>Mortality in 1985=%{x}<br>Difference (1985 - 2020)=%{y}<extra></extra>",
         "hovertext": [
          "YEM"
         ],
         "legendgroup": "YEM",
         "marker": {
          "color": "#00cc96",
          "symbol": "circle"
         },
         "mode": "markers",
         "name": "YEM",
         "orientation": "v",
         "showlegend": true,
         "type": "scatter",
         "x": [
          466.11166
         ],
         "xaxis": "x",
         "y": [
          282.71193999999997
         ],
         "yaxis": "y"
        },
        {
         "hovertemplate": "<b>%{hovertext}</b><br><br>Country=ZAF<br>Mortality in 1985=%{x}<br>Difference (1985 - 2020)=%{y}<extra></extra>",
         "hovertext": [
          "ZAF"
         ],
         "legendgroup": "ZAF",
         "marker": {
          "color": "#ab63fa",
          "symbol": "circle"
         },
         "mode": "markers",
         "name": "ZAF",
         "orientation": "v",
         "showlegend": true,
         "type": "scatter",
         "x": [
          168.02414
         ],
         "xaxis": "x",
         "y": [
          41.19144999999999
         ],
         "yaxis": "y"
        },
        {
         "hovertemplate": "<b>%{hovertext}</b><br><br>Country=ZMB<br>Mortality in 1985=%{x}<br>Difference (1985 - 2020)=%{y}<extra></extra>",
         "hovertext": [
          "ZMB"
         ],
         "legendgroup": "ZMB",
         "marker": {
          "color": "#FFA15A",
          "symbol": "circle"
         },
         "mode": "markers",
         "name": "ZMB",
         "orientation": "v",
         "showlegend": true,
         "type": "scatter",
         "x": [
          555.443
         ],
         "xaxis": "x",
         "y": [
          420.77757999999994
         ],
         "yaxis": "y"
        },
        {
         "hovertemplate": "<b>%{hovertext}</b><br><br>Country=ZWE<br>Mortality in 1985=%{x}<br>Difference (1985 - 2020)=%{y}<extra></extra>",
         "hovertext": [
          "ZWE"
         ],
         "legendgroup": "ZWE",
         "marker": {
          "color": "#19d3f3",
          "symbol": "circle"
         },
         "mode": "markers",
         "name": "ZWE",
         "orientation": "v",
         "showlegend": true,
         "type": "scatter",
         "x": [
          431.54065
         ],
         "xaxis": "x",
         "y": [
          74.78175000000005
         ],
         "yaxis": "y"
        }
       ],
       "layout": {
        "height": 500,
        "legend": {
         "title": {
          "text": "Country"
         },
         "tracegroupgap": 0
        },
        "template": {
         "data": {
          "bar": [
           {
            "error_x": {
             "color": "#2a3f5f"
            },
            "error_y": {
             "color": "#2a3f5f"
            },
            "marker": {
             "line": {
              "color": "#E5ECF6",
              "width": 0.5
             },
             "pattern": {
              "fillmode": "overlay",
              "size": 10,
              "solidity": 0.2
             }
            },
            "type": "bar"
           }
          ],
          "barpolar": [
           {
            "marker": {
             "line": {
              "color": "#E5ECF6",
              "width": 0.5
             },
             "pattern": {
              "fillmode": "overlay",
              "size": 10,
              "solidity": 0.2
             }
            },
            "type": "barpolar"
           }
          ],
          "carpet": [
           {
            "aaxis": {
             "endlinecolor": "#2a3f5f",
             "gridcolor": "white",
             "linecolor": "white",
             "minorgridcolor": "white",
             "startlinecolor": "#2a3f5f"
            },
            "baxis": {
             "endlinecolor": "#2a3f5f",
             "gridcolor": "white",
             "linecolor": "white",
             "minorgridcolor": "white",
             "startlinecolor": "#2a3f5f"
            },
            "type": "carpet"
           }
          ],
          "choropleth": [
           {
            "colorbar": {
             "outlinewidth": 0,
             "ticks": ""
            },
            "type": "choropleth"
           }
          ],
          "contour": [
           {
            "colorbar": {
             "outlinewidth": 0,
             "ticks": ""
            },
            "colorscale": [
             [
              0,
              "#0d0887"
             ],
             [
              0.1111111111111111,
              "#46039f"
             ],
             [
              0.2222222222222222,
              "#7201a8"
             ],
             [
              0.3333333333333333,
              "#9c179e"
             ],
             [
              0.4444444444444444,
              "#bd3786"
             ],
             [
              0.5555555555555556,
              "#d8576b"
             ],
             [
              0.6666666666666666,
              "#ed7953"
             ],
             [
              0.7777777777777778,
              "#fb9f3a"
             ],
             [
              0.8888888888888888,
              "#fdca26"
             ],
             [
              1,
              "#f0f921"
             ]
            ],
            "type": "contour"
           }
          ],
          "contourcarpet": [
           {
            "colorbar": {
             "outlinewidth": 0,
             "ticks": ""
            },
            "type": "contourcarpet"
           }
          ],
          "heatmap": [
           {
            "colorbar": {
             "outlinewidth": 0,
             "ticks": ""
            },
            "colorscale": [
             [
              0,
              "#0d0887"
             ],
             [
              0.1111111111111111,
              "#46039f"
             ],
             [
              0.2222222222222222,
              "#7201a8"
             ],
             [
              0.3333333333333333,
              "#9c179e"
             ],
             [
              0.4444444444444444,
              "#bd3786"
             ],
             [
              0.5555555555555556,
              "#d8576b"
             ],
             [
              0.6666666666666666,
              "#ed7953"
             ],
             [
              0.7777777777777778,
              "#fb9f3a"
             ],
             [
              0.8888888888888888,
              "#fdca26"
             ],
             [
              1,
              "#f0f921"
             ]
            ],
            "type": "heatmap"
           }
          ],
          "heatmapgl": [
           {
            "colorbar": {
             "outlinewidth": 0,
             "ticks": ""
            },
            "colorscale": [
             [
              0,
              "#0d0887"
             ],
             [
              0.1111111111111111,
              "#46039f"
             ],
             [
              0.2222222222222222,
              "#7201a8"
             ],
             [
              0.3333333333333333,
              "#9c179e"
             ],
             [
              0.4444444444444444,
              "#bd3786"
             ],
             [
              0.5555555555555556,
              "#d8576b"
             ],
             [
              0.6666666666666666,
              "#ed7953"
             ],
             [
              0.7777777777777778,
              "#fb9f3a"
             ],
             [
              0.8888888888888888,
              "#fdca26"
             ],
             [
              1,
              "#f0f921"
             ]
            ],
            "type": "heatmapgl"
           }
          ],
          "histogram": [
           {
            "marker": {
             "pattern": {
              "fillmode": "overlay",
              "size": 10,
              "solidity": 0.2
             }
            },
            "type": "histogram"
           }
          ],
          "histogram2d": [
           {
            "colorbar": {
             "outlinewidth": 0,
             "ticks": ""
            },
            "colorscale": [
             [
              0,
              "#0d0887"
             ],
             [
              0.1111111111111111,
              "#46039f"
             ],
             [
              0.2222222222222222,
              "#7201a8"
             ],
             [
              0.3333333333333333,
              "#9c179e"
             ],
             [
              0.4444444444444444,
              "#bd3786"
             ],
             [
              0.5555555555555556,
              "#d8576b"
             ],
             [
              0.6666666666666666,
              "#ed7953"
             ],
             [
              0.7777777777777778,
              "#fb9f3a"
             ],
             [
              0.8888888888888888,
              "#fdca26"
             ],
             [
              1,
              "#f0f921"
             ]
            ],
            "type": "histogram2d"
           }
          ],
          "histogram2dcontour": [
           {
            "colorbar": {
             "outlinewidth": 0,
             "ticks": ""
            },
            "colorscale": [
             [
              0,
              "#0d0887"
             ],
             [
              0.1111111111111111,
              "#46039f"
             ],
             [
              0.2222222222222222,
              "#7201a8"
             ],
             [
              0.3333333333333333,
              "#9c179e"
             ],
             [
              0.4444444444444444,
              "#bd3786"
             ],
             [
              0.5555555555555556,
              "#d8576b"
             ],
             [
              0.6666666666666666,
              "#ed7953"
             ],
             [
              0.7777777777777778,
              "#fb9f3a"
             ],
             [
              0.8888888888888888,
              "#fdca26"
             ],
             [
              1,
              "#f0f921"
             ]
            ],
            "type": "histogram2dcontour"
           }
          ],
          "mesh3d": [
           {
            "colorbar": {
             "outlinewidth": 0,
             "ticks": ""
            },
            "type": "mesh3d"
           }
          ],
          "parcoords": [
           {
            "line": {
             "colorbar": {
              "outlinewidth": 0,
              "ticks": ""
             }
            },
            "type": "parcoords"
           }
          ],
          "pie": [
           {
            "automargin": true,
            "type": "pie"
           }
          ],
          "scatter": [
           {
            "fillpattern": {
             "fillmode": "overlay",
             "size": 10,
             "solidity": 0.2
            },
            "type": "scatter"
           }
          ],
          "scatter3d": [
           {
            "line": {
             "colorbar": {
              "outlinewidth": 0,
              "ticks": ""
             }
            },
            "marker": {
             "colorbar": {
              "outlinewidth": 0,
              "ticks": ""
             }
            },
            "type": "scatter3d"
           }
          ],
          "scattercarpet": [
           {
            "marker": {
             "colorbar": {
              "outlinewidth": 0,
              "ticks": ""
             }
            },
            "type": "scattercarpet"
           }
          ],
          "scattergeo": [
           {
            "marker": {
             "colorbar": {
              "outlinewidth": 0,
              "ticks": ""
             }
            },
            "type": "scattergeo"
           }
          ],
          "scattergl": [
           {
            "marker": {
             "colorbar": {
              "outlinewidth": 0,
              "ticks": ""
             }
            },
            "type": "scattergl"
           }
          ],
          "scattermapbox": [
           {
            "marker": {
             "colorbar": {
              "outlinewidth": 0,
              "ticks": ""
             }
            },
            "type": "scattermapbox"
           }
          ],
          "scatterpolar": [
           {
            "marker": {
             "colorbar": {
              "outlinewidth": 0,
              "ticks": ""
             }
            },
            "type": "scatterpolar"
           }
          ],
          "scatterpolargl": [
           {
            "marker": {
             "colorbar": {
              "outlinewidth": 0,
              "ticks": ""
             }
            },
            "type": "scatterpolargl"
           }
          ],
          "scatterternary": [
           {
            "marker": {
             "colorbar": {
              "outlinewidth": 0,
              "ticks": ""
             }
            },
            "type": "scatterternary"
           }
          ],
          "surface": [
           {
            "colorbar": {
             "outlinewidth": 0,
             "ticks": ""
            },
            "colorscale": [
             [
              0,
              "#0d0887"
             ],
             [
              0.1111111111111111,
              "#46039f"
             ],
             [
              0.2222222222222222,
              "#7201a8"
             ],
             [
              0.3333333333333333,
              "#9c179e"
             ],
             [
              0.4444444444444444,
              "#bd3786"
             ],
             [
              0.5555555555555556,
              "#d8576b"
             ],
             [
              0.6666666666666666,
              "#ed7953"
             ],
             [
              0.7777777777777778,
              "#fb9f3a"
             ],
             [
              0.8888888888888888,
              "#fdca26"
             ],
             [
              1,
              "#f0f921"
             ]
            ],
            "type": "surface"
           }
          ],
          "table": [
           {
            "cells": {
             "fill": {
              "color": "#EBF0F8"
             },
             "line": {
              "color": "white"
             }
            },
            "header": {
             "fill": {
              "color": "#C8D4E3"
             },
             "line": {
              "color": "white"
             }
            },
            "type": "table"
           }
          ]
         },
         "layout": {
          "annotationdefaults": {
           "arrowcolor": "#2a3f5f",
           "arrowhead": 0,
           "arrowwidth": 1
          },
          "autotypenumbers": "strict",
          "coloraxis": {
           "colorbar": {
            "outlinewidth": 0,
            "ticks": ""
           }
          },
          "colorscale": {
           "diverging": [
            [
             0,
             "#8e0152"
            ],
            [
             0.1,
             "#c51b7d"
            ],
            [
             0.2,
             "#de77ae"
            ],
            [
             0.3,
             "#f1b6da"
            ],
            [
             0.4,
             "#fde0ef"
            ],
            [
             0.5,
             "#f7f7f7"
            ],
            [
             0.6,
             "#e6f5d0"
            ],
            [
             0.7,
             "#b8e186"
            ],
            [
             0.8,
             "#7fbc41"
            ],
            [
             0.9,
             "#4d9221"
            ],
            [
             1,
             "#276419"
            ]
           ],
           "sequential": [
            [
             0,
             "#0d0887"
            ],
            [
             0.1111111111111111,
             "#46039f"
            ],
            [
             0.2222222222222222,
             "#7201a8"
            ],
            [
             0.3333333333333333,
             "#9c179e"
            ],
            [
             0.4444444444444444,
             "#bd3786"
            ],
            [
             0.5555555555555556,
             "#d8576b"
            ],
            [
             0.6666666666666666,
             "#ed7953"
            ],
            [
             0.7777777777777778,
             "#fb9f3a"
            ],
            [
             0.8888888888888888,
             "#fdca26"
            ],
            [
             1,
             "#f0f921"
            ]
           ],
           "sequentialminus": [
            [
             0,
             "#0d0887"
            ],
            [
             0.1111111111111111,
             "#46039f"
            ],
            [
             0.2222222222222222,
             "#7201a8"
            ],
            [
             0.3333333333333333,
             "#9c179e"
            ],
            [
             0.4444444444444444,
             "#bd3786"
            ],
            [
             0.5555555555555556,
             "#d8576b"
            ],
            [
             0.6666666666666666,
             "#ed7953"
            ],
            [
             0.7777777777777778,
             "#fb9f3a"
            ],
            [
             0.8888888888888888,
             "#fdca26"
            ],
            [
             1,
             "#f0f921"
            ]
           ]
          },
          "colorway": [
           "#636efa",
           "#EF553B",
           "#00cc96",
           "#ab63fa",
           "#FFA15A",
           "#19d3f3",
           "#FF6692",
           "#B6E880",
           "#FF97FF",
           "#FECB52"
          ],
          "font": {
           "color": "#2a3f5f"
          },
          "geo": {
           "bgcolor": "white",
           "lakecolor": "white",
           "landcolor": "#E5ECF6",
           "showlakes": true,
           "showland": true,
           "subunitcolor": "white"
          },
          "hoverlabel": {
           "align": "left"
          },
          "hovermode": "closest",
          "mapbox": {
           "style": "light"
          },
          "paper_bgcolor": "white",
          "plot_bgcolor": "#E5ECF6",
          "polar": {
           "angularaxis": {
            "gridcolor": "white",
            "linecolor": "white",
            "ticks": ""
           },
           "bgcolor": "#E5ECF6",
           "radialaxis": {
            "gridcolor": "white",
            "linecolor": "white",
            "ticks": ""
           }
          },
          "scene": {
           "xaxis": {
            "backgroundcolor": "#E5ECF6",
            "gridcolor": "white",
            "gridwidth": 2,
            "linecolor": "white",
            "showbackground": true,
            "ticks": "",
            "zerolinecolor": "white"
           },
           "yaxis": {
            "backgroundcolor": "#E5ECF6",
            "gridcolor": "white",
            "gridwidth": 2,
            "linecolor": "white",
            "showbackground": true,
            "ticks": "",
            "zerolinecolor": "white"
           },
           "zaxis": {
            "backgroundcolor": "#E5ECF6",
            "gridcolor": "white",
            "gridwidth": 2,
            "linecolor": "white",
            "showbackground": true,
            "ticks": "",
            "zerolinecolor": "white"
           }
          },
          "shapedefaults": {
           "line": {
            "color": "#2a3f5f"
           }
          },
          "ternary": {
           "aaxis": {
            "gridcolor": "white",
            "linecolor": "white",
            "ticks": ""
           },
           "baxis": {
            "gridcolor": "white",
            "linecolor": "white",
            "ticks": ""
           },
           "bgcolor": "#E5ECF6",
           "caxis": {
            "gridcolor": "white",
            "linecolor": "white",
            "ticks": ""
           }
          },
          "title": {
           "x": 0.05
          },
          "xaxis": {
           "automargin": true,
           "gridcolor": "white",
           "linecolor": "white",
           "ticks": "",
           "title": {
            "standoff": 15
           },
           "zerolinecolor": "white",
           "zerolinewidth": 2
          },
          "yaxis": {
           "automargin": true,
           "gridcolor": "white",
           "linecolor": "white",
           "ticks": "",
           "title": {
            "standoff": 15
           },
           "zerolinecolor": "white",
           "zerolinewidth": 2
          }
         }
        },
        "title": {
         "text": "Difference vs Mortality in 1985"
        },
        "width": 700,
        "xaxis": {
         "anchor": "y",
         "domain": [
          0,
          1
         ],
         "title": {
          "text": "Mortality in 1985"
         }
        },
        "yaxis": {
         "anchor": "x",
         "domain": [
          0,
          1
         ],
         "title": {
          "text": "Difference (1985 - 2020)"
         }
        }
       }
      }
     },
     "metadata": {},
     "output_type": "display_data"
    },
    {
     "data": {
      "application/vnd.plotly.v1+json": {
       "config": {
        "plotlyServerURL": "https://plot.ly"
       },
       "data": [
        {
         "hovertemplate": "<b>%{hovertext}</b><br><br>Country=AFG<br>Mortality in 2020=%{x}<br>Difference (1985 - 2020)=%{y}<extra></extra>",
         "hovertext": [
          "AFG"
         ],
         "legendgroup": "AFG",
         "marker": {
          "color": "#636efa",
          "symbol": "circle"
         },
         "mode": "markers",
         "name": "AFG",
         "orientation": "v",
         "showlegend": true,
         "type": "scatter",
         "x": [
          620.40753
         ],
         "xaxis": "x",
         "y": [
          1289.93407
         ],
         "yaxis": "y"
        },
        {
         "hovertemplate": "<b>%{hovertext}</b><br><br>Country=AGO<br>Mortality in 2020=%{x}<br>Difference (1985 - 2020)=%{y}<extra></extra>",
         "hovertext": [
          "AGO"
         ],
         "legendgroup": "AGO",
         "marker": {
          "color": "#EF553B",
          "symbol": "circle"
         },
         "mode": "markers",
         "name": "AGO",
         "orientation": "v",
         "showlegend": true,
         "type": "scatter",
         "x": [
          221.90651
         ],
         "xaxis": "x",
         "y": [
          876.06819
         ],
         "yaxis": "y"
        },
        {
         "hovertemplate": "<b>%{hovertext}</b><br><br>Country=ALB<br>Mortality in 2020=%{x}<br>Difference (1985 - 2020)=%{y}<extra></extra>",
         "hovertext": [
          "ALB"
         ],
         "legendgroup": "ALB",
         "marker": {
          "color": "#00cc96",
          "symbol": "circle"
         },
         "mode": "markers",
         "name": "ALB",
         "orientation": "v",
         "showlegend": true,
         "type": "scatter",
         "x": [
          8.276446
         ],
         "xaxis": "x",
         "y": [
          39.422246
         ],
         "yaxis": "y"
        },
        {
         "hovertemplate": "<b>%{hovertext}</b><br><br>Country=ARE<br>Mortality in 2020=%{x}<br>Difference (1985 - 2020)=%{y}<extra></extra>",
         "hovertext": [
          "ARE"
         ],
         "legendgroup": "ARE",
         "marker": {
          "color": "#ab63fa",
          "symbol": "circle"
         },
         "mode": "markers",
         "name": "ARE",
         "orientation": "v",
         "showlegend": true,
         "type": "scatter",
         "x": [
          9.340701
         ],
         "xaxis": "x",
         "y": [
          12.275291
         ],
         "yaxis": "y"
        },
        {
         "hovertemplate": "<b>%{hovertext}</b><br><br>Country=ARG<br>Mortality in 2020=%{x}<br>Difference (1985 - 2020)=%{y}<extra></extra>",
         "hovertext": [
          "ARG"
         ],
         "legendgroup": "ARG",
         "marker": {
          "color": "#FFA15A",
          "symbol": "circle"
         },
         "mode": "markers",
         "name": "ARG",
         "orientation": "v",
         "showlegend": true,
         "type": "scatter",
         "x": [
          44.900078
         ],
         "xaxis": "x",
         "y": [
          53.025917
         ],
         "yaxis": "y"
        },
        {
         "hovertemplate": "<b>%{hovertext}</b><br><br>Country=ARM<br>Mortality in 2020=%{x}<br>Difference (1985 - 2020)=%{y}<extra></extra>",
         "hovertext": [
          "ARM"
         ],
         "legendgroup": "ARM",
         "marker": {
          "color": "#19d3f3",
          "symbol": "circle"
         },
         "mode": "markers",
         "name": "ARM",
         "orientation": "v",
         "showlegend": true,
         "type": "scatter",
         "x": [
          27.18972
         ],
         "xaxis": "x",
         "y": [
          26.838265
         ],
         "yaxis": "y"
        },
        {
         "hovertemplate": "<b>%{hovertext}</b><br><br>Country=ATG<br>Mortality in 2020=%{x}<br>Difference (1985 - 2020)=%{y}<extra></extra>",
         "hovertext": [
          "ATG"
         ],
         "legendgroup": "ATG",
         "marker": {
          "color": "#FF6692",
          "symbol": "circle"
         },
         "mode": "markers",
         "name": "ATG",
         "orientation": "v",
         "showlegend": true,
         "type": "scatter",
         "x": [
          21.247948
         ],
         "xaxis": "x",
         "y": [
          37.738412
         ],
         "yaxis": "y"
        },
        {
         "hovertemplate": "<b>%{hovertext}</b><br><br>Country=AUS<br>Mortality in 2020=%{x}<br>Difference (1985 - 2020)=%{y}<extra></extra>",
         "hovertext": [
          "AUS"
         ],
         "legendgroup": "AUS",
         "marker": {
          "color": "#B6E880",
          "symbol": "circle"
         },
         "mode": "markers",
         "name": "AUS",
         "orientation": "v",
         "showlegend": true,
         "type": "scatter",
         "x": [
          2.9415095
         ],
         "xaxis": "x",
         "y": [
          5.074828499999999
         ],
         "yaxis": "y"
        },
        {
         "hovertemplate": "<b>%{hovertext}</b><br><br>Country=AUT<br>Mortality in 2020=%{x}<br>Difference (1985 - 2020)=%{y}<extra></extra>",
         "hovertext": [
          "AUT"
         ],
         "legendgroup": "AUT",
         "marker": {
          "color": "#FF97FF",
          "symbol": "circle"
         },
         "mode": "markers",
         "name": "AUT",
         "orientation": "v",
         "showlegend": true,
         "type": "scatter",
         "x": [
          5.2283883
         ],
         "xaxis": "x",
         "y": [
          5.309167700000001
         ],
         "yaxis": "y"
        },
        {
         "hovertemplate": "<b>%{hovertext}</b><br><br>Country=AZE<br>Mortality in 2020=%{x}<br>Difference (1985 - 2020)=%{y}<extra></extra>",
         "hovertext": [
          "AZE"
         ],
         "legendgroup": "AZE",
         "marker": {
          "color": "#FECB52",
          "symbol": "circle"
         },
         "mode": "markers",
         "name": "AZE",
         "orientation": "v",
         "showlegend": true,
         "type": "scatter",
         "x": [
          40.763668
         ],
         "xaxis": "x",
         "y": [
          12.073242
         ],
         "yaxis": "y"
        },
        {
         "hovertemplate": "<b>%{hovertext}</b><br><br>Country=Africa<br>Mortality in 2020=%{x}<br>Difference (1985 - 2020)=%{y}<extra></extra>",
         "hovertext": [
          "Africa"
         ],
         "legendgroup": "Africa",
         "marker": {
          "color": "#636efa",
          "symbol": "circle"
         },
         "mode": "markers",
         "name": "Africa",
         "orientation": "v",
         "showlegend": true,
         "type": "scatter",
         "x": [
          464.0011
         ],
         "xaxis": "x",
         "y": [
          440.12677
         ],
         "yaxis": "y"
        },
        {
         "hovertemplate": "<b>%{hovertext}</b><br><br>Country=Asia<br>Mortality in 2020=%{x}<br>Difference (1985 - 2020)=%{y}<extra></extra>",
         "hovertext": [
          "Asia"
         ],
         "legendgroup": "Asia",
         "marker": {
          "color": "#EF553B",
          "symbol": "circle"
         },
         "mode": "markers",
         "name": "Asia",
         "orientation": "v",
         "showlegend": true,
         "type": "scatter",
         "x": [
          99.163895
         ],
         "xaxis": "x",
         "y": [
          291.09895500000005
         ],
         "yaxis": "y"
        },
        {
         "hovertemplate": "<b>%{hovertext}</b><br><br>Country=BDI<br>Mortality in 2020=%{x}<br>Difference (1985 - 2020)=%{y}<extra></extra>",
         "hovertext": [
          "BDI"
         ],
         "legendgroup": "BDI",
         "marker": {
          "color": "#00cc96",
          "symbol": "circle"
         },
         "mode": "markers",
         "name": "BDI",
         "orientation": "v",
         "showlegend": true,
         "type": "scatter",
         "x": [
          494.4298
         ],
         "xaxis": "x",
         "y": [
          848.8545
         ],
         "yaxis": "y"
        },
        {
         "hovertemplate": "<b>%{hovertext}</b><br><br>Country=BEL<br>Mortality in 2020=%{x}<br>Difference (1985 - 2020)=%{y}<extra></extra>",
         "hovertext": [
          "BEL"
         ],
         "legendgroup": "BEL",
         "marker": {
          "color": "#ab63fa",
          "symbol": "circle"
         },
         "mode": "markers",
         "name": "BEL",
         "orientation": "v",
         "showlegend": true,
         "type": "scatter",
         "x": [
          4.755863
         ],
         "xaxis": "x",
         "y": [
          3.7543690000000005
         ],
         "yaxis": "y"
        },
        {
         "hovertemplate": "<b>%{hovertext}</b><br><br>Country=BEN<br>Mortality in 2020=%{x}<br>Difference (1985 - 2020)=%{y}<extra></extra>",
         "hovertext": [
          "BEN"
         ],
         "legendgroup": "BEN",
         "marker": {
          "color": "#FFA15A",
          "symbol": "circle"
         },
         "mode": "markers",
         "name": "BEN",
         "orientation": "v",
         "showlegend": true,
         "type": "scatter",
         "x": [
          522.6048
         ],
         "xaxis": "x",
         "y": [
          196.04930000000002
         ],
         "yaxis": "y"
        },
        {
         "hovertemplate": "<b>%{hovertext}</b><br><br>Country=BFA<br>Mortality in 2020=%{x}<br>Difference (1985 - 2020)=%{y}<extra></extra>",
         "hovertext": [
          "BFA"
         ],
         "legendgroup": "BFA",
         "marker": {
          "color": "#19d3f3",
          "symbol": "circle"
         },
         "mode": "markers",
         "name": "BFA",
         "orientation": "v",
         "showlegend": true,
         "type": "scatter",
         "x": [
          263.7554
         ],
         "xaxis": "x",
         "y": [
          531.53977
         ],
         "yaxis": "y"
        },
        {
         "hovertemplate": "<b>%{hovertext}</b><br><br>Country=BGD<br>Mortality in 2020=%{x}<br>Difference (1985 - 2020)=%{y}<extra></extra>",
         "hovertext": [
          "BGD"
         ],
         "legendgroup": "BGD",
         "marker": {
          "color": "#FF6692",
          "symbol": "circle"
         },
         "mode": "markers",
         "name": "BGD",
         "orientation": "v",
         "showlegend": true,
         "type": "scatter",
         "x": [
          123.028244
         ],
         "xaxis": "x",
         "y": [
          784.437256
         ],
         "yaxis": "y"
        },
        {
         "hovertemplate": "<b>%{hovertext}</b><br><br>Country=BGR<br>Mortality in 2020=%{x}<br>Difference (1985 - 2020)=%{y}<extra></extra>",
         "hovertext": [
          "BGR"
         ],
         "legendgroup": "BGR",
         "marker": {
          "color": "#B6E880",
          "symbol": "circle"
         },
         "mode": "markers",
         "name": "BGR",
         "orientation": "v",
         "showlegend": true,
         "type": "scatter",
         "x": [
          7.086025
         ],
         "xaxis": "x",
         "y": [
          18.346506
         ],
         "yaxis": "y"
        },
        {
         "hovertemplate": "<b>%{hovertext}</b><br><br>Country=BHR<br>Mortality in 2020=%{x}<br>Difference (1985 - 2020)=%{y}<extra></extra>",
         "hovertext": [
          "BHR"
         ],
         "legendgroup": "BHR",
         "marker": {
          "color": "#FF97FF",
          "symbol": "circle"
         },
         "mode": "markers",
         "name": "BHR",
         "orientation": "v",
         "showlegend": true,
         "type": "scatter",
         "x": [
          15.8978815
         ],
         "xaxis": "x",
         "y": [
          21.0789365
         ],
         "yaxis": "y"
        },
        {
         "hovertemplate": "<b>%{hovertext}</b><br><br>Country=BHS<br>Mortality in 2020=%{x}<br>Difference (1985 - 2020)=%{y}<extra></extra>",
         "hovertext": [
          "BHS"
         ],
         "legendgroup": "BHS",
         "marker": {
          "color": "#FECB52",
          "symbol": "circle"
         },
         "mode": "markers",
         "name": "BHS",
         "orientation": "v",
         "showlegend": true,
         "type": "scatter",
         "x": [
          77.05064
         ],
         "xaxis": "x",
         "y": [
          -21.447906000000003
         ],
         "yaxis": "y"
        },
        {
         "hovertemplate": "<b>%{hovertext}</b><br><br>Country=BIH<br>Mortality in 2020=%{x}<br>Difference (1985 - 2020)=%{y}<extra></extra>",
         "hovertext": [
          "BIH"
         ],
         "legendgroup": "BIH",
         "marker": {
          "color": "#636efa",
          "symbol": "circle"
         },
         "mode": "markers",
         "name": "BIH",
         "orientation": "v",
         "showlegend": true,
         "type": "scatter",
         "x": [
          5.668399
         ],
         "xaxis": "x",
         "y": [
          41.768651
         ],
         "yaxis": "y"
        },
        {
         "hovertemplate": "<b>%{hovertext}</b><br><br>Country=BLR<br>Mortality in 2020=%{x}<br>Difference (1985 - 2020)=%{y}<extra></extra>",
         "hovertext": [
          "BLR"
         ],
         "legendgroup": "BLR",
         "marker": {
          "color": "#EF553B",
          "symbol": "circle"
         },
         "mode": "markers",
         "name": "BLR",
         "orientation": "v",
         "showlegend": true,
         "type": "scatter",
         "x": [
          1.1019173
         ],
         "xaxis": "x",
         "y": [
          41.2226367
         ],
         "yaxis": "y"
        },
        {
         "hovertemplate": "<b>%{hovertext}</b><br><br>Country=BLZ<br>Mortality in 2020=%{x}<br>Difference (1985 - 2020)=%{y}<extra></extra>",
         "hovertext": [
          "BLZ"
         ],
         "legendgroup": "BLZ",
         "marker": {
          "color": "#00cc96",
          "symbol": "circle"
         },
         "mode": "markers",
         "name": "BLZ",
         "orientation": "v",
         "showlegend": true,
         "type": "scatter",
         "x": [
          129.78827
         ],
         "xaxis": "x",
         "y": [
          -16.011500000000012
         ],
         "yaxis": "y"
        },
        {
         "hovertemplate": "<b>%{hovertext}</b><br><br>Country=BOL<br>Mortality in 2020=%{x}<br>Difference (1985 - 2020)=%{y}<extra></extra>",
         "hovertext": [
          "BOL"
         ],
         "legendgroup": "BOL",
         "marker": {
          "color": "#ab63fa",
          "symbol": "circle"
         },
         "mode": "markers",
         "name": "BOL",
         "orientation": "v",
         "showlegend": true,
         "type": "scatter",
         "x": [
          160.9074
         ],
         "xaxis": "x",
         "y": [
          425.60145000000006
         ],
         "yaxis": "y"
        },
        {
         "hovertemplate": "<b>%{hovertext}</b><br><br>Country=BRA<br>Mortality in 2020=%{x}<br>Difference (1985 - 2020)=%{y}<extra></extra>",
         "hovertext": [
          "BRA"
         ],
         "legendgroup": "BRA",
         "marker": {
          "color": "#FFA15A",
          "symbol": "circle"
         },
         "mode": "markers",
         "name": "BRA",
         "orientation": "v",
         "showlegend": true,
         "type": "scatter",
         "x": [
          72.14754
         ],
         "xaxis": "x",
         "y": [
          154.87845
         ],
         "yaxis": "y"
        },
        {
         "hovertemplate": "<b>%{hovertext}</b><br><br>Country=BRB<br>Mortality in 2020=%{x}<br>Difference (1985 - 2020)=%{y}<extra></extra>",
         "hovertext": [
          "BRB"
         ],
         "legendgroup": "BRB",
         "marker": {
          "color": "#19d3f3",
          "symbol": "circle"
         },
         "mode": "markers",
         "name": "BRB",
         "orientation": "v",
         "showlegend": true,
         "type": "scatter",
         "x": [
          39.108013
         ],
         "xaxis": "x",
         "y": [
          13.564647
         ],
         "yaxis": "y"
        },
        {
         "hovertemplate": "<b>%{hovertext}</b><br><br>Country=BRN<br>Mortality in 2020=%{x}<br>Difference (1985 - 2020)=%{y}<extra></extra>",
         "hovertext": [
          "BRN"
         ],
         "legendgroup": "BRN",
         "marker": {
          "color": "#FF6692",
          "symbol": "circle"
         },
         "mode": "markers",
         "name": "BRN",
         "orientation": "v",
         "showlegend": true,
         "type": "scatter",
         "x": [
          44.236057
         ],
         "xaxis": "x",
         "y": [
          14.149223
         ],
         "yaxis": "y"
        },
        {
         "hovertemplate": "<b>%{hovertext}</b><br><br>Country=BTN<br>Mortality in 2020=%{x}<br>Difference (1985 - 2020)=%{y}<extra></extra>",
         "hovertext": [
          "BTN"
         ],
         "legendgroup": "BTN",
         "marker": {
          "color": "#B6E880",
          "symbol": "circle"
         },
         "mode": "markers",
         "name": "BTN",
         "orientation": "v",
         "showlegend": true,
         "type": "scatter",
         "x": [
          59.947754
         ],
         "xaxis": "x",
         "y": [
          775.125246
         ],
         "yaxis": "y"
        },
        {
         "hovertemplate": "<b>%{hovertext}</b><br><br>Country=BWA<br>Mortality in 2020=%{x}<br>Difference (1985 - 2020)=%{y}<extra></extra>",
         "hovertext": [
          "BWA"
         ],
         "legendgroup": "BWA",
         "marker": {
          "color": "#FF97FF",
          "symbol": "circle"
         },
         "mode": "markers",
         "name": "BWA",
         "orientation": "v",
         "showlegend": true,
         "type": "scatter",
         "x": [
          185.89684
         ],
         "xaxis": "x",
         "y": [
          42.91991999999999
         ],
         "yaxis": "y"
        },
        {
         "hovertemplate": "<b>%{hovertext}</b><br><br>Country=CAF<br>Mortality in 2020=%{x}<br>Difference (1985 - 2020)=%{y}<extra></extra>",
         "hovertext": [
          "CAF"
         ],
         "legendgroup": "CAF",
         "marker": {
          "color": "#FECB52",
          "symbol": "circle"
         },
         "mode": "markers",
         "name": "CAF",
         "orientation": "v",
         "showlegend": true,
         "type": "scatter",
         "x": [
          835.266
         ],
         "xaxis": "x",
         "y": [
          167.85503000000006
         ],
         "yaxis": "y"
        },
        {
         "hovertemplate": "<b>%{hovertext}</b><br><br>Country=CAN<br>Mortality in 2020=%{x}<br>Difference (1985 - 2020)=%{y}<extra></extra>",
         "hovertext": [
          "CAN"
         ],
         "legendgroup": "CAN",
         "marker": {
          "color": "#636efa",
          "symbol": "circle"
         },
         "mode": "markers",
         "name": "CAN",
         "orientation": "v",
         "showlegend": true,
         "type": "scatter",
         "x": [
          11.012866
         ],
         "xaxis": "x",
         "y": [
          -4.057933300000001
         ],
         "yaxis": "y"
        },
        {
         "hovertemplate": "<b>%{hovertext}</b><br><br>Country=CHE<br>Mortality in 2020=%{x}<br>Difference (1985 - 2020)=%{y}<extra></extra>",
         "hovertext": [
          "CHE"
         ],
         "legendgroup": "CHE",
         "marker": {
          "color": "#EF553B",
          "symbol": "circle"
         },
         "mode": "markers",
         "name": "CHE",
         "orientation": "v",
         "showlegend": true,
         "type": "scatter",
         "x": [
          7.3787546
         ],
         "xaxis": "x",
         "y": [
          2.271921400000001
         ],
         "yaxis": "y"
        },
        {
         "hovertemplate": "<b>%{hovertext}</b><br><br>Country=CHL<br>Mortality in 2020=%{x}<br>Difference (1985 - 2020)=%{y}<extra></extra>",
         "hovertext": [
          "CHL"
         ],
         "legendgroup": "CHL",
         "marker": {
          "color": "#00cc96",
          "symbol": "circle"
         },
         "mode": "markers",
         "name": "CHL",
         "orientation": "v",
         "showlegend": true,
         "type": "scatter",
         "x": [
          15.030739
         ],
         "xaxis": "x",
         "y": [
          60.426401
         ],
         "yaxis": "y"
        },
        {
         "hovertemplate": "<b>%{hovertext}</b><br><br>Country=CHN<br>Mortality in 2020=%{x}<br>Difference (1985 - 2020)=%{y}<extra></extra>",
         "hovertext": [
          "CHN"
         ],
         "legendgroup": "CHN",
         "marker": {
          "color": "#ab63fa",
          "symbol": "circle"
         },
         "mode": "markers",
         "name": "CHN",
         "orientation": "v",
         "showlegend": true,
         "type": "scatter",
         "x": [
          23.047634
         ],
         "xaxis": "x",
         "y": [
          91.418126
         ],
         "yaxis": "y"
        },
        {
         "hovertemplate": "<b>%{hovertext}</b><br><br>Country=CIV<br>Mortality in 2020=%{x}<br>Difference (1985 - 2020)=%{y}<extra></extra>",
         "hovertext": [
          "CIV"
         ],
         "legendgroup": "CIV",
         "marker": {
          "color": "#FFA15A",
          "symbol": "circle"
         },
         "mode": "markers",
         "name": "CIV",
         "orientation": "v",
         "showlegend": true,
         "type": "scatter",
         "x": [
          479.90674
         ],
         "xaxis": "x",
         "y": [
          187.10415999999998
         ],
         "yaxis": "y"
        },
        {
         "hovertemplate": "<b>%{hovertext}</b><br><br>Country=CMR<br>Mortality in 2020=%{x}<br>Difference (1985 - 2020)=%{y}<extra></extra>",
         "hovertext": [
          "CMR"
         ],
         "legendgroup": "CMR",
         "marker": {
          "color": "#19d3f3",
          "symbol": "circle"
         },
         "mode": "markers",
         "name": "CMR",
         "orientation": "v",
         "showlegend": true,
         "type": "scatter",
         "x": [
          437.75287
         ],
         "xaxis": "x",
         "y": [
          256.57867000000005
         ],
         "yaxis": "y"
        },
        {
         "hovertemplate": "<b>%{hovertext}</b><br><br>Country=COD<br>Mortality in 2020=%{x}<br>Difference (1985 - 2020)=%{y}<extra></extra>",
         "hovertext": [
          "COD"
         ],
         "legendgroup": "COD",
         "marker": {
          "color": "#FF6692",
          "symbol": "circle"
         },
         "mode": "markers",
         "name": "COD",
         "orientation": "v",
         "showlegend": true,
         "type": "scatter",
         "x": [
          547.3603
         ],
         "xaxis": "x",
         "y": [
          624.1233
         ],
         "yaxis": "y"
        },
        {
         "hovertemplate": "<b>%{hovertext}</b><br><br>Country=COG<br>Mortality in 2020=%{x}<br>Difference (1985 - 2020)=%{y}<extra></extra>",
         "hovertext": [
          "COG"
         ],
         "legendgroup": "COG",
         "marker": {
          "color": "#B6E880",
          "symbol": "circle"
         },
         "mode": "markers",
         "name": "COG",
         "orientation": "v",
         "showlegend": true,
         "type": "scatter",
         "x": [
          282.38577
         ],
         "xaxis": "x",
         "y": [
          348.24387
         ],
         "yaxis": "y"
        },
        {
         "hovertemplate": "<b>%{hovertext}</b><br><br>Country=COL<br>Mortality in 2020=%{x}<br>Difference (1985 - 2020)=%{y}<extra></extra>",
         "hovertext": [
          "COL"
         ],
         "legendgroup": "COL",
         "marker": {
          "color": "#FF97FF",
          "symbol": "circle"
         },
         "mode": "markers",
         "name": "COL",
         "orientation": "v",
         "showlegend": true,
         "type": "scatter",
         "x": [
          74.7629
         ],
         "xaxis": "x",
         "y": [
          55.19415000000001
         ],
         "yaxis": "y"
        },
        {
         "hovertemplate": "<b>%{hovertext}</b><br><br>Country=COM<br>Mortality in 2020=%{x}<br>Difference (1985 - 2020)=%{y}<extra></extra>",
         "hovertext": [
          "COM"
         ],
         "legendgroup": "COM",
         "marker": {
          "color": "#FECB52",
          "symbol": "circle"
         },
         "mode": "markers",
         "name": "COM",
         "orientation": "v",
         "showlegend": true,
         "type": "scatter",
         "x": [
          216.95372
         ],
         "xaxis": "x",
         "y": [
          439.25808000000006
         ],
         "yaxis": "y"
        },
        {
         "hovertemplate": "<b>%{hovertext}</b><br><br>Country=CPV<br>Mortality in 2020=%{x}<br>Difference (1985 - 2020)=%{y}<extra></extra>",
         "hovertext": [
          "CPV"
         ],
         "legendgroup": "CPV",
         "marker": {
          "color": "#636efa",
          "symbol": "circle"
         },
         "mode": "markers",
         "name": "CPV",
         "orientation": "v",
         "showlegend": true,
         "type": "scatter",
         "x": [
          42.24144
         ],
         "xaxis": "x",
         "y": [
          357.58302
         ],
         "yaxis": "y"
        },
        {
         "hovertemplate": "<b>%{hovertext}</b><br><br>Country=CRI<br>Mortality in 2020=%{x}<br>Difference (1985 - 2020)=%{y}<extra></extra>",
         "hovertext": [
          "CRI"
         ],
         "legendgroup": "CRI",
         "marker": {
          "color": "#EF553B",
          "symbol": "circle"
         },
         "mode": "markers",
         "name": "CRI",
         "orientation": "v",
         "showlegend": true,
         "type": "scatter",
         "x": [
          22.003805
         ],
         "xaxis": "x",
         "y": [
          27.584479
         ],
         "yaxis": "y"
        },
        {
         "hovertemplate": "<b>%{hovertext}</b><br><br>Country=CUB<br>Mortality in 2020=%{x}<br>Difference (1985 - 2020)=%{y}<extra></extra>",
         "hovertext": [
          "CUB"
         ],
         "legendgroup": "CUB",
         "marker": {
          "color": "#00cc96",
          "symbol": "circle"
         },
         "mode": "markers",
         "name": "CUB",
         "orientation": "v",
         "showlegend": true,
         "type": "scatter",
         "x": [
          39.254543
         ],
         "xaxis": "x",
         "y": [
          29.893681
         ],
         "yaxis": "y"
        },
        {
         "hovertemplate": "<b>%{hovertext}</b><br><br>Country=CYP<br>Mortality in 2020=%{x}<br>Difference (1985 - 2020)=%{y}<extra></extra>",
         "hovertext": [
          "CYP"
         ],
         "legendgroup": "CYP",
         "marker": {
          "color": "#ab63fa",
          "symbol": "circle"
         },
         "mode": "markers",
         "name": "CYP",
         "orientation": "v",
         "showlegend": true,
         "type": "scatter",
         "x": [
          68.40658
         ],
         "xaxis": "x",
         "y": [
          -30.172644000000005
         ],
         "yaxis": "y"
        },
        {
         "hovertemplate": "<b>%{hovertext}</b><br><br>Country=CZE<br>Mortality in 2020=%{x}<br>Difference (1985 - 2020)=%{y}<extra></extra>",
         "hovertext": [
          "CZE"
         ],
         "legendgroup": "CZE",
         "marker": {
          "color": "#FFA15A",
          "symbol": "circle"
         },
         "mode": "markers",
         "name": "CZE",
         "orientation": "v",
         "showlegend": true,
         "type": "scatter",
         "x": [
          3.3740165
         ],
         "xaxis": "x",
         "y": [
          9.7521445
         ],
         "yaxis": "y"
        },
        {
         "hovertemplate": "<b>%{hovertext}</b><br><br>Country=DEU<br>Mortality in 2020=%{x}<br>Difference (1985 - 2020)=%{y}<extra></extra>",
         "hovertext": [
          "DEU"
         ],
         "legendgroup": "DEU",
         "marker": {
          "color": "#19d3f3",
          "symbol": "circle"
         },
         "mode": "markers",
         "name": "DEU",
         "orientation": "v",
         "showlegend": true,
         "type": "scatter",
         "x": [
          4.42844
         ],
         "xaxis": "x",
         "y": [
          5.876993000000001
         ],
         "yaxis": "y"
        },
        {
         "hovertemplate": "<b>%{hovertext}</b><br><br>Country=DJI<br>Mortality in 2020=%{x}<br>Difference (1985 - 2020)=%{y}<extra></extra>",
         "hovertext": [
          "DJI"
         ],
         "legendgroup": "DJI",
         "marker": {
          "color": "#FF6692",
          "symbol": "circle"
         },
         "mode": "markers",
         "name": "DJI",
         "orientation": "v",
         "showlegend": true,
         "type": "scatter",
         "x": [
          234.49008
         ],
         "xaxis": "x",
         "y": [
          472.6772199999999
         ],
         "yaxis": "y"
        },
        {
         "hovertemplate": "<b>%{hovertext}</b><br><br>Country=DNK<br>Mortality in 2020=%{x}<br>Difference (1985 - 2020)=%{y}<extra></extra>",
         "hovertext": [
          "DNK"
         ],
         "legendgroup": "DNK",
         "marker": {
          "color": "#B6E880",
          "symbol": "circle"
         },
         "mode": "markers",
         "name": "DNK",
         "orientation": "v",
         "showlegend": true,
         "type": "scatter",
         "x": [
          4.657717
         ],
         "xaxis": "x",
         "y": [
          6.815992
         ],
         "yaxis": "y"
        },
        {
         "hovertemplate": "<b>%{hovertext}</b><br><br>Country=DOM<br>Mortality in 2020=%{x}<br>Difference (1985 - 2020)=%{y}<extra></extra>",
         "hovertext": [
          "DOM"
         ],
         "legendgroup": "DOM",
         "marker": {
          "color": "#FF97FF",
          "symbol": "circle"
         },
         "mode": "markers",
         "name": "DOM",
         "orientation": "v",
         "showlegend": true,
         "type": "scatter",
         "x": [
          107.34755
         ],
         "xaxis": "x",
         "y": [
          46.74875999999999
         ],
         "yaxis": "y"
        },
        {
         "hovertemplate": "<b>%{hovertext}</b><br><br>Country=DZA<br>Mortality in 2020=%{x}<br>Difference (1985 - 2020)=%{y}<extra></extra>",
         "hovertext": [
          "DZA"
         ],
         "legendgroup": "DZA",
         "marker": {
          "color": "#FECB52",
          "symbol": "circle"
         },
         "mode": "markers",
         "name": "DZA",
         "orientation": "v",
         "showlegend": true,
         "type": "scatter",
         "x": [
          77.694786
         ],
         "xaxis": "x",
         "y": [
          177.89121400000002
         ],
         "yaxis": "y"
        },
        {
         "hovertemplate": "<b>%{hovertext}</b><br><br>Country=ECU<br>Mortality in 2020=%{x}<br>Difference (1985 - 2020)=%{y}<extra></extra>",
         "hovertext": [
          "ECU"
         ],
         "legendgroup": "ECU",
         "marker": {
          "color": "#636efa",
          "symbol": "circle"
         },
         "mode": "markers",
         "name": "ECU",
         "orientation": "v",
         "showlegend": true,
         "type": "scatter",
         "x": [
          65.74967
         ],
         "xaxis": "x",
         "y": [
          172.89210000000003
         ],
         "yaxis": "y"
        },
        {
         "hovertemplate": "<b>%{hovertext}</b><br><br>Country=EGY<br>Mortality in 2020=%{x}<br>Difference (1985 - 2020)=%{y}<extra></extra>",
         "hovertext": [
          "EGY"
         ],
         "legendgroup": "EGY",
         "marker": {
          "color": "#EF553B",
          "symbol": "circle"
         },
         "mode": "markers",
         "name": "EGY",
         "orientation": "v",
         "showlegend": true,
         "type": "scatter",
         "x": [
          16.81971
         ],
         "xaxis": "x",
         "y": [
          135.96328999999997
         ],
         "yaxis": "y"
        },
        {
         "hovertemplate": "<b>%{hovertext}</b><br><br>Country=ERI<br>Mortality in 2020=%{x}<br>Difference (1985 - 2020)=%{y}<extra></extra>",
         "hovertext": [
          "ERI"
         ],
         "legendgroup": "ERI",
         "marker": {
          "color": "#00cc96",
          "symbol": "circle"
         },
         "mode": "markers",
         "name": "ERI",
         "orientation": "v",
         "showlegend": true,
         "type": "scatter",
         "x": [
          321.55072
         ],
         "xaxis": "x",
         "y": [
          1236.0902800000001
         ],
         "yaxis": "y"
        },
        {
         "hovertemplate": "<b>%{hovertext}</b><br><br>Country=ESP<br>Mortality in 2020=%{x}<br>Difference (1985 - 2020)=%{y}<extra></extra>",
         "hovertext": [
          "ESP"
         ],
         "legendgroup": "ESP",
         "marker": {
          "color": "#ab63fa",
          "symbol": "circle"
         },
         "mode": "markers",
         "name": "ESP",
         "orientation": "v",
         "showlegend": true,
         "type": "scatter",
         "x": [
          3.4412515
         ],
         "xaxis": "x",
         "y": [
          2.4705545000000004
         ],
         "yaxis": "y"
        },
        {
         "hovertemplate": "<b>%{hovertext}</b><br><br>Country=EST<br>Mortality in 2020=%{x}<br>Difference (1985 - 2020)=%{y}<extra></extra>",
         "hovertext": [
          "EST"
         ],
         "legendgroup": "EST",
         "marker": {
          "color": "#FFA15A",
          "symbol": "circle"
         },
         "mode": "markers",
         "name": "EST",
         "orientation": "v",
         "showlegend": true,
         "type": "scatter",
         "x": [
          5.179642
         ],
         "xaxis": "x",
         "y": [
          43.90007
         ],
         "yaxis": "y"
        },
        {
         "hovertemplate": "<b>%{hovertext}</b><br><br>Country=ETH<br>Mortality in 2020=%{x}<br>Difference (1985 - 2020)=%{y}<extra></extra>",
         "hovertext": [
          "ETH"
         ],
         "legendgroup": "ETH",
         "marker": {
          "color": "#19d3f3",
          "symbol": "circle"
         },
         "mode": "markers",
         "name": "ETH",
         "orientation": "v",
         "showlegend": true,
         "type": "scatter",
         "x": [
          266.68954
         ],
         "xaxis": "x",
         "y": [
          1030.6140599999999
         ],
         "yaxis": "y"
        },
        {
         "hovertemplate": "<b>%{hovertext}</b><br><br>Country=Europe<br>Mortality in 2020=%{x}<br>Difference (1985 - 2020)=%{y}<extra></extra>",
         "hovertext": [
          "Europe"
         ],
         "legendgroup": "Europe",
         "marker": {
          "color": "#FF6692",
          "symbol": "circle"
         },
         "mode": "markers",
         "name": "Europe",
         "orientation": "v",
         "showlegend": true,
         "type": "scatter",
         "x": [
          8.403016
         ],
         "xaxis": "x",
         "y": [
          40.788547
         ],
         "yaxis": "y"
        },
        {
         "hovertemplate": "<b>%{hovertext}</b><br><br>Country=FIN<br>Mortality in 2020=%{x}<br>Difference (1985 - 2020)=%{y}<extra></extra>",
         "hovertext": [
          "FIN"
         ],
         "legendgroup": "FIN",
         "marker": {
          "color": "#B6E880",
          "symbol": "circle"
         },
         "mode": "markers",
         "name": "FIN",
         "orientation": "v",
         "showlegend": true,
         "type": "scatter",
         "x": [
          8.3389015
         ],
         "xaxis": "x",
         "y": [
          -2.7735801
         ],
         "yaxis": "y"
        },
        {
         "hovertemplate": "<b>%{hovertext}</b><br><br>Country=FJI<br>Mortality in 2020=%{x}<br>Difference (1985 - 2020)=%{y}<extra></extra>",
         "hovertext": [
          "FJI"
         ],
         "legendgroup": "FJI",
         "marker": {
          "color": "#FF97FF",
          "symbol": "circle"
         },
         "mode": "markers",
         "name": "FJI",
         "orientation": "v",
         "showlegend": true,
         "type": "scatter",
         "x": [
          38.046795
         ],
         "xaxis": "x",
         "y": [
          26.863545000000002
         ],
         "yaxis": "y"
        },
        {
         "hovertemplate": "<b>%{hovertext}</b><br><br>Country=FRA<br>Mortality in 2020=%{x}<br>Difference (1985 - 2020)=%{y}<extra></extra>",
         "hovertext": [
          "FRA"
         ],
         "legendgroup": "FRA",
         "marker": {
          "color": "#FECB52",
          "symbol": "circle"
         },
         "mode": "markers",
         "name": "FRA",
         "orientation": "v",
         "showlegend": true,
         "type": "scatter",
         "x": [
          7.9090786
         ],
         "xaxis": "x",
         "y": [
          10.407228399999997
         ],
         "yaxis": "y"
        },
        {
         "hovertemplate": "<b>%{hovertext}</b><br><br>Country=FSM<br>Mortality in 2020=%{x}<br>Difference (1985 - 2020)=%{y}<extra></extra>",
         "hovertext": [
          "FSM"
         ],
         "legendgroup": "FSM",
         "marker": {
          "color": "#636efa",
          "symbol": "circle"
         },
         "mode": "markers",
         "name": "FSM",
         "orientation": "v",
         "showlegend": true,
         "type": "scatter",
         "x": [
          74.311935
         ],
         "xaxis": "x",
         "y": [
          37.668004999999994
         ],
         "yaxis": "y"
        },
        {
         "hovertemplate": "<b>%{hovertext}</b><br><br>Country=GAB<br>Mortality in 2020=%{x}<br>Difference (1985 - 2020)=%{y}<extra></extra>",
         "hovertext": [
          "GAB"
         ],
         "legendgroup": "GAB",
         "marker": {
          "color": "#EF553B",
          "symbol": "circle"
         },
         "mode": "markers",
         "name": "GAB",
         "orientation": "v",
         "showlegend": true,
         "type": "scatter",
         "x": [
          226.55043
         ],
         "xaxis": "x",
         "y": [
          224.08965
         ],
         "yaxis": "y"
        },
        {
         "hovertemplate": "<b>%{hovertext}</b><br><br>Country=GBR<br>Mortality in 2020=%{x}<br>Difference (1985 - 2020)=%{y}<extra></extra>",
         "hovertext": [
          "GBR"
         ],
         "legendgroup": "GBR",
         "marker": {
          "color": "#00cc96",
          "symbol": "circle"
         },
         "mode": "markers",
         "name": "GBR",
         "orientation": "v",
         "showlegend": true,
         "type": "scatter",
         "x": [
          9.84248
         ],
         "xaxis": "x",
         "y": [
          -1.4110320000000005
         ],
         "yaxis": "y"
        },
        {
         "hovertemplate": "<b>%{hovertext}</b><br><br>Country=GEO<br>Mortality in 2020=%{x}<br>Difference (1985 - 2020)=%{y}<extra></extra>",
         "hovertext": [
          "GEO"
         ],
         "legendgroup": "GEO",
         "marker": {
          "color": "#ab63fa",
          "symbol": "circle"
         },
         "mode": "markers",
         "name": "GEO",
         "orientation": "v",
         "showlegend": true,
         "type": "scatter",
         "x": [
          27.608246
         ],
         "xaxis": "x",
         "y": [
          16.670676999999998
         ],
         "yaxis": "y"
        },
        {
         "hovertemplate": "<b>%{hovertext}</b><br><br>Country=GHA<br>Mortality in 2020=%{x}<br>Difference (1985 - 2020)=%{y}<extra></extra>",
         "hovertext": [
          "GHA"
         ],
         "legendgroup": "GHA",
         "marker": {
          "color": "#FFA15A",
          "symbol": "circle"
         },
         "mode": "markers",
         "name": "GHA",
         "orientation": "v",
         "showlegend": true,
         "type": "scatter",
         "x": [
          263.10858
         ],
         "xaxis": "x",
         "y": [
          584.87616
         ],
         "yaxis": "y"
        },
        {
         "hovertemplate": "<b>%{hovertext}</b><br><br>Country=GIN<br>Mortality in 2020=%{x}<br>Difference (1985 - 2020)=%{y}<extra></extra>",
         "hovertext": [
          "GIN"
         ],
         "legendgroup": "GIN",
         "marker": {
          "color": "#19d3f3",
          "symbol": "circle"
         },
         "mode": "markers",
         "name": "GIN",
         "orientation": "v",
         "showlegend": true,
         "type": "scatter",
         "x": [
          553.4016
         ],
         "xaxis": "x",
         "y": [
          684.8535
         ],
         "yaxis": "y"
        },
        {
         "hovertemplate": "<b>%{hovertext}</b><br><br>Country=GMB<br>Mortality in 2020=%{x}<br>Difference (1985 - 2020)=%{y}<extra></extra>",
         "hovertext": [
          "GMB"
         ],
         "legendgroup": "GMB",
         "marker": {
          "color": "#FF6692",
          "symbol": "circle"
         },
         "mode": "markers",
         "name": "GMB",
         "orientation": "v",
         "showlegend": true,
         "type": "scatter",
         "x": [
          458.24033
         ],
         "xaxis": "x",
         "y": [
          743.9312699999999
         ],
         "yaxis": "y"
        },
        {
         "hovertemplate": "<b>%{hovertext}</b><br><br>Country=GNB<br>Mortality in 2020=%{x}<br>Difference (1985 - 2020)=%{y}<extra></extra>",
         "hovertext": [
          "GNB"
         ],
         "legendgroup": "GNB",
         "marker": {
          "color": "#B6E880",
          "symbol": "circle"
         },
         "mode": "markers",
         "name": "GNB",
         "orientation": "v",
         "showlegend": true,
         "type": "scatter",
         "x": [
          725.0924
         ],
         "xaxis": "x",
         "y": [
          926.8323
         ],
         "yaxis": "y"
        },
        {
         "hovertemplate": "<b>%{hovertext}</b><br><br>Country=GNQ<br>Mortality in 2020=%{x}<br>Difference (1985 - 2020)=%{y}<extra></extra>",
         "hovertext": [
          "GNQ"
         ],
         "legendgroup": "GNQ",
         "marker": {
          "color": "#FF97FF",
          "symbol": "circle"
         },
         "mode": "markers",
         "name": "GNQ",
         "orientation": "v",
         "showlegend": true,
         "type": "scatter",
         "x": [
          212.3303
         ],
         "xaxis": "x",
         "y": [
          1090.1624
         ],
         "yaxis": "y"
        },
        {
         "hovertemplate": "<b>%{hovertext}</b><br><br>Country=GRC<br>Mortality in 2020=%{x}<br>Difference (1985 - 2020)=%{y}<extra></extra>",
         "hovertext": [
          "GRC"
         ],
         "legendgroup": "GRC",
         "marker": {
          "color": "#FECB52",
          "symbol": "circle"
         },
         "mode": "markers",
         "name": "GRC",
         "orientation": "v",
         "showlegend": true,
         "type": "scatter",
         "x": [
          7.654345
         ],
         "xaxis": "x",
         "y": [
          -0.322781
         ],
         "yaxis": "y"
        },
        {
         "hovertemplate": "<b>%{hovertext}</b><br><br>Country=GRD<br>Mortality in 2020=%{x}<br>Difference (1985 - 2020)=%{y}<extra></extra>",
         "hovertext": [
          "GRD"
         ],
         "legendgroup": "GRD",
         "marker": {
          "color": "#636efa",
          "symbol": "circle"
         },
         "mode": "markers",
         "name": "GRD",
         "orientation": "v",
         "showlegend": true,
         "type": "scatter",
         "x": [
          21.13829
         ],
         "xaxis": "x",
         "y": [
          32.799576
         ],
         "yaxis": "y"
        },
        {
         "hovertemplate": "<b>%{hovertext}</b><br><br>Country=GTM<br>Mortality in 2020=%{x}<br>Difference (1985 - 2020)=%{y}<extra></extra>",
         "hovertext": [
          "GTM"
         ],
         "legendgroup": "GTM",
         "marker": {
          "color": "#EF553B",
          "symbol": "circle"
         },
         "mode": "markers",
         "name": "GTM",
         "orientation": "v",
         "showlegend": true,
         "type": "scatter",
         "x": [
          95.502075
         ],
         "xaxis": "x",
         "y": [
          172.097505
         ],
         "yaxis": "y"
        },
        {
         "hovertemplate": "<b>%{hovertext}</b><br><br>Country=GUY<br>Mortality in 2020=%{x}<br>Difference (1985 - 2020)=%{y}<extra></extra>",
         "hovertext": [
          "GUY"
         ],
         "legendgroup": "GUY",
         "marker": {
          "color": "#00cc96",
          "symbol": "circle"
         },
         "mode": "markers",
         "name": "GUY",
         "orientation": "v",
         "showlegend": true,
         "type": "scatter",
         "x": [
          111.94294
         ],
         "xaxis": "x",
         "y": [
          163.2044
         ],
         "yaxis": "y"
        },
        {
         "hovertemplate": "<b>%{hovertext}</b><br><br>Country=HND<br>Mortality in 2020=%{x}<br>Difference (1985 - 2020)=%{y}<extra></extra>",
         "hovertext": [
          "HND"
         ],
         "legendgroup": "HND",
         "marker": {
          "color": "#ab63fa",
          "symbol": "circle"
         },
         "mode": "markers",
         "name": "HND",
         "orientation": "v",
         "showlegend": true,
         "type": "scatter",
         "x": [
          71.819275
         ],
         "xaxis": "x",
         "y": [
          151.734605
         ],
         "yaxis": "y"
        },
        {
         "hovertemplate": "<b>%{hovertext}</b><br><br>Country=HRV<br>Mortality in 2020=%{x}<br>Difference (1985 - 2020)=%{y}<extra></extra>",
         "hovertext": [
          "HRV"
         ],
         "legendgroup": "HRV",
         "marker": {
          "color": "#FFA15A",
          "symbol": "circle"
         },
         "mode": "markers",
         "name": "HRV",
         "orientation": "v",
         "showlegend": true,
         "type": "scatter",
         "x": [
          4.8168216
         ],
         "xaxis": "x",
         "y": [
          8.066711399999999
         ],
         "yaxis": "y"
        },
        {
         "hovertemplate": "<b>%{hovertext}</b><br><br>Country=HTI<br>Mortality in 2020=%{x}<br>Difference (1985 - 2020)=%{y}<extra></extra>",
         "hovertext": [
          "HTI"
         ],
         "legendgroup": "HTI",
         "marker": {
          "color": "#19d3f3",
          "symbol": "circle"
         },
         "mode": "markers",
         "name": "HTI",
         "orientation": "v",
         "showlegend": true,
         "type": "scatter",
         "x": [
          350.40024
         ],
         "xaxis": "x",
         "y": [
          359.97236000000004
         ],
         "yaxis": "y"
        },
        {
         "hovertemplate": "<b>%{hovertext}</b><br><br>Country=HUN<br>Mortality in 2020=%{x}<br>Difference (1985 - 2020)=%{y}<extra></extra>",
         "hovertext": [
          "HUN"
         ],
         "legendgroup": "HUN",
         "marker": {
          "color": "#FF6692",
          "symbol": "circle"
         },
         "mode": "markers",
         "name": "HUN",
         "orientation": "v",
         "showlegend": true,
         "type": "scatter",
         "x": [
          15.048886
         ],
         "xaxis": "x",
         "y": [
          10.307625999999999
         ],
         "yaxis": "y"
        },
        {
         "hovertemplate": "<b>%{hovertext}</b><br><br>Country=High-income countries<br>Mortality in 2020=%{x}<br>Difference (1985 - 2020)=%{y}<extra></extra>",
         "hovertext": [
          "High-income countries"
         ],
         "legendgroup": "High-income countries",
         "marker": {
          "color": "#B6E880",
          "symbol": "circle"
         },
         "mode": "markers",
         "name": "High-income countries",
         "orientation": "v",
         "showlegend": true,
         "type": "scatter",
         "x": [
          12.13312
         ],
         "xaxis": "x",
         "y": [
          10.234160999999999
         ],
         "yaxis": "y"
        },
        {
         "hovertemplate": "<b>%{hovertext}</b><br><br>Country=IDN<br>Mortality in 2020=%{x}<br>Difference (1985 - 2020)=%{y}<extra></extra>",
         "hovertext": [
          "IDN"
         ],
         "legendgroup": "IDN",
         "marker": {
          "color": "#FF97FF",
          "symbol": "circle"
         },
         "mode": "markers",
         "name": "IDN",
         "orientation": "v",
         "showlegend": true,
         "type": "scatter",
         "x": [
          172.9225
         ],
         "xaxis": "x",
         "y": [
          322.4069
         ],
         "yaxis": "y"
        },
        {
         "hovertemplate": "<b>%{hovertext}</b><br><br>Country=IND<br>Mortality in 2020=%{x}<br>Difference (1985 - 2020)=%{y}<extra></extra>",
         "hovertext": [
          "IND"
         ],
         "legendgroup": "IND",
         "marker": {
          "color": "#FECB52",
          "symbol": "circle"
         },
         "mode": "markers",
         "name": "IND",
         "orientation": "v",
         "showlegend": true,
         "type": "scatter",
         "x": [
          102.653915
         ],
         "xaxis": "x",
         "y": [
          544.2258850000001
         ],
         "yaxis": "y"
        },
        {
         "hovertemplate": "<b>%{hovertext}</b><br><br>Country=IRL<br>Mortality in 2020=%{x}<br>Difference (1985 - 2020)=%{y}<extra></extra>",
         "hovertext": [
          "IRL"
         ],
         "legendgroup": "IRL",
         "marker": {
          "color": "#636efa",
          "symbol": "circle"
         },
         "mode": "markers",
         "name": "IRL",
         "orientation": "v",
         "showlegend": true,
         "type": "scatter",
         "x": [
          4.9839573
         ],
         "xaxis": "x",
         "y": [
          6.0744457
         ],
         "yaxis": "y"
        },
        {
         "hovertemplate": "<b>%{hovertext}</b><br><br>Country=IRN<br>Mortality in 2020=%{x}<br>Difference (1985 - 2020)=%{y}<extra></extra>",
         "hovertext": [
          "IRN"
         ],
         "legendgroup": "IRN",
         "marker": {
          "color": "#EF553B",
          "symbol": "circle"
         },
         "mode": "markers",
         "name": "IRN",
         "orientation": "v",
         "showlegend": true,
         "type": "scatter",
         "x": [
          22.018887
         ],
         "xaxis": "x",
         "y": [
          80.326593
         ],
         "yaxis": "y"
        },
        {
         "hovertemplate": "<b>%{hovertext}</b><br><br>Country=IRQ<br>Mortality in 2020=%{x}<br>Difference (1985 - 2020)=%{y}<extra></extra>",
         "hovertext": [
          "IRQ"
         ],
         "legendgroup": "IRQ",
         "marker": {
          "color": "#00cc96",
          "symbol": "circle"
         },
         "mode": "markers",
         "name": "IRQ",
         "orientation": "v",
         "showlegend": true,
         "type": "scatter",
         "x": [
          76.11046
         ],
         "xaxis": "x",
         "y": [
          125.75098999999999
         ],
         "yaxis": "y"
        },
        {
         "hovertemplate": "<b>%{hovertext}</b><br><br>Country=ISL<br>Mortality in 2020=%{x}<br>Difference (1985 - 2020)=%{y}<extra></extra>",
         "hovertext": [
          "ISL"
         ],
         "legendgroup": "ISL",
         "marker": {
          "color": "#ab63fa",
          "symbol": "circle"
         },
         "mode": "markers",
         "name": "ISL",
         "orientation": "v",
         "showlegend": true,
         "type": "scatter",
         "x": [
          2.6544178
         ],
         "xaxis": "x",
         "y": [
          4.1086385
         ],
         "yaxis": "y"
        },
        {
         "hovertemplate": "<b>%{hovertext}</b><br><br>Country=ISR<br>Mortality in 2020=%{x}<br>Difference (1985 - 2020)=%{y}<extra></extra>",
         "hovertext": [
          "ISR"
         ],
         "legendgroup": "ISR",
         "marker": {
          "color": "#FFA15A",
          "symbol": "circle"
         },
         "mode": "markers",
         "name": "ISR",
         "orientation": "v",
         "showlegend": true,
         "type": "scatter",
         "x": [
          2.8378618
         ],
         "xaxis": "x",
         "y": [
          37.4141282
         ],
         "yaxis": "y"
        },
        {
         "hovertemplate": "<b>%{hovertext}</b><br><br>Country=ITA<br>Mortality in 2020=%{x}<br>Difference (1985 - 2020)=%{y}<extra></extra>",
         "hovertext": [
          "ITA"
         ],
         "legendgroup": "ITA",
         "marker": {
          "color": "#19d3f3",
          "symbol": "circle"
         },
         "mode": "markers",
         "name": "ITA",
         "orientation": "v",
         "showlegend": true,
         "type": "scatter",
         "x": [
          4.590939
         ],
         "xaxis": "x",
         "y": [
          13.487270000000002
         ],
         "yaxis": "y"
        },
        {
         "hovertemplate": "<b>%{hovertext}</b><br><br>Country=JAM<br>Mortality in 2020=%{x}<br>Difference (1985 - 2020)=%{y}<extra></extra>",
         "hovertext": [
          "JAM"
         ],
         "legendgroup": "JAM",
         "marker": {
          "color": "#FF6692",
          "symbol": "circle"
         },
         "mode": "markers",
         "name": "JAM",
         "orientation": "v",
         "showlegend": true,
         "type": "scatter",
         "x": [
          98.8789
         ],
         "xaxis": "x",
         "y": [
          -53.758775
         ],
         "yaxis": "y"
        },
        {
         "hovertemplate": "<b>%{hovertext}</b><br><br>Country=JOR<br>Mortality in 2020=%{x}<br>Difference (1985 - 2020)=%{y}<extra></extra>",
         "hovertext": [
          "JOR"
         ],
         "legendgroup": "JOR",
         "marker": {
          "color": "#B6E880",
          "symbol": "circle"
         },
         "mode": "markers",
         "name": "JOR",
         "orientation": "v",
         "showlegend": true,
         "type": "scatter",
         "x": [
          41.31479
         ],
         "xaxis": "x",
         "y": [
          55.013149999999996
         ],
         "yaxis": "y"
        },
        {
         "hovertemplate": "<b>%{hovertext}</b><br><br>Country=JPN<br>Mortality in 2020=%{x}<br>Difference (1985 - 2020)=%{y}<extra></extra>",
         "hovertext": [
          "JPN"
         ],
         "legendgroup": "JPN",
         "marker": {
          "color": "#FF97FF",
          "symbol": "circle"
         },
         "mode": "markers",
         "name": "JPN",
         "orientation": "v",
         "showlegend": true,
         "type": "scatter",
         "x": [
          4.3149095
         ],
         "xaxis": "x",
         "y": [
          13.109070500000001
         ],
         "yaxis": "y"
        },
        {
         "hovertemplate": "<b>%{hovertext}</b><br><br>Country=KAZ<br>Mortality in 2020=%{x}<br>Difference (1985 - 2020)=%{y}<extra></extra>",
         "hovertext": [
          "KAZ"
         ],
         "legendgroup": "KAZ",
         "marker": {
          "color": "#FECB52",
          "symbol": "circle"
         },
         "mode": "markers",
         "name": "KAZ",
         "orientation": "v",
         "showlegend": true,
         "type": "scatter",
         "x": [
          13.383632
         ],
         "xaxis": "x",
         "y": [
          86.426998
         ],
         "yaxis": "y"
        },
        {
         "hovertemplate": "<b>%{hovertext}</b><br><br>Country=KEN<br>Mortality in 2020=%{x}<br>Difference (1985 - 2020)=%{y}<extra></extra>",
         "hovertext": [
          "KEN"
         ],
         "legendgroup": "KEN",
         "marker": {
          "color": "#636efa",
          "symbol": "circle"
         },
         "mode": "markers",
         "name": "KEN",
         "orientation": "v",
         "showlegend": true,
         "type": "scatter",
         "x": [
          529.9623
         ],
         "xaxis": "x",
         "y": [
          50.15043000000003
         ],
         "yaxis": "y"
        },
        {
         "hovertemplate": "<b>%{hovertext}</b><br><br>Country=KGZ<br>Mortality in 2020=%{x}<br>Difference (1985 - 2020)=%{y}<extra></extra>",
         "hovertext": [
          "KGZ"
         ],
         "legendgroup": "KGZ",
         "marker": {
          "color": "#EF553B",
          "symbol": "circle"
         },
         "mode": "markers",
         "name": "KGZ",
         "orientation": "v",
         "showlegend": true,
         "type": "scatter",
         "x": [
          50.382442
         ],
         "xaxis": "x",
         "y": [
          46.625718000000006
         ],
         "yaxis": "y"
        },
        {
         "hovertemplate": "<b>%{hovertext}</b><br><br>Country=KHM<br>Mortality in 2020=%{x}<br>Difference (1985 - 2020)=%{y}<extra></extra>",
         "hovertext": [
          "KHM"
         ],
         "legendgroup": "KHM",
         "marker": {
          "color": "#00cc96",
          "symbol": "circle"
         },
         "mode": "markers",
         "name": "KHM",
         "orientation": "v",
         "showlegend": true,
         "type": "scatter",
         "x": [
          217.98315
         ],
         "xaxis": "x",
         "y": [
          469.82325000000003
         ],
         "yaxis": "y"
        },
        {
         "hovertemplate": "<b>%{hovertext}</b><br><br>Country=KIR<br>Mortality in 2020=%{x}<br>Difference (1985 - 2020)=%{y}<extra></extra>",
         "hovertext": [
          "KIR"
         ],
         "legendgroup": "KIR",
         "marker": {
          "color": "#ab63fa",
          "symbol": "circle"
         },
         "mode": "markers",
         "name": "KIR",
         "orientation": "v",
         "showlegend": true,
         "type": "scatter",
         "x": [
          76.33472
         ],
         "xaxis": "x",
         "y": [
          136.85719
         ],
         "yaxis": "y"
        },
        {
         "hovertemplate": "<b>%{hovertext}</b><br><br>Country=KOR<br>Mortality in 2020=%{x}<br>Difference (1985 - 2020)=%{y}<extra></extra>",
         "hovertext": [
          "KOR"
         ],
         "legendgroup": "KOR",
         "marker": {
          "color": "#FFA15A",
          "symbol": "circle"
         },
         "mode": "markers",
         "name": "KOR",
         "orientation": "v",
         "showlegend": true,
         "type": "scatter",
         "x": [
          8.1156225
         ],
         "xaxis": "x",
         "y": [
          31.166520499999997
         ],
         "yaxis": "y"
        },
        {
         "hovertemplate": "<b>%{hovertext}</b><br><br>Country=KWT<br>Mortality in 2020=%{x}<br>Difference (1985 - 2020)=%{y}<extra></extra>",
         "hovertext": [
          "KWT"
         ],
         "legendgroup": "KWT",
         "marker": {
          "color": "#19d3f3",
          "symbol": "circle"
         },
         "mode": "markers",
         "name": "KWT",
         "orientation": "v",
         "showlegend": true,
         "type": "scatter",
         "x": [
          7.1708984
         ],
         "xaxis": "x",
         "y": [
          6.012857600000001
         ],
         "yaxis": "y"
        },
        {
         "hovertemplate": "<b>%{hovertext}</b><br><br>Country=LAO<br>Mortality in 2020=%{x}<br>Difference (1985 - 2020)=%{y}<extra></extra>",
         "hovertext": [
          "LAO"
         ],
         "legendgroup": "LAO",
         "marker": {
          "color": "#FF6692",
          "symbol": "circle"
         },
         "mode": "markers",
         "name": "LAO",
         "orientation": "v",
         "showlegend": true,
         "type": "scatter",
         "x": [
          126.06175
         ],
         "xaxis": "x",
         "y": [
          751.92715
         ],
         "yaxis": "y"
        },
        {
         "hovertemplate": "<b>%{hovertext}</b><br><br>Country=LBN<br>Mortality in 2020=%{x}<br>Difference (1985 - 2020)=%{y}<extra></extra>",
         "hovertext": [
          "LBN"
         ],
         "legendgroup": "LBN",
         "marker": {
          "color": "#B6E880",
          "symbol": "circle"
         },
         "mode": "markers",
         "name": "LBN",
         "orientation": "v",
         "showlegend": true,
         "type": "scatter",
         "x": [
          20.624624
         ],
         "xaxis": "x",
         "y": [
          46.228251
         ],
         "yaxis": "y"
        },
        {
         "hovertemplate": "<b>%{hovertext}</b><br><br>Country=LBR<br>Mortality in 2020=%{x}<br>Difference (1985 - 2020)=%{y}<extra></extra>",
         "hovertext": [
          "LBR"
         ],
         "legendgroup": "LBR",
         "marker": {
          "color": "#FF97FF",
          "symbol": "circle"
         },
         "mode": "markers",
         "name": "LBR",
         "orientation": "v",
         "showlegend": true,
         "type": "scatter",
         "x": [
          652.33875
         ],
         "xaxis": "x",
         "y": [
          713.03425
         ],
         "yaxis": "y"
        },
        {
         "hovertemplate": "<b>%{hovertext}</b><br><br>Country=LBY<br>Mortality in 2020=%{x}<br>Difference (1985 - 2020)=%{y}<extra></extra>",
         "hovertext": [
          "LBY"
         ],
         "legendgroup": "LBY",
         "marker": {
          "color": "#FECB52",
          "symbol": "circle"
         },
         "mode": "markers",
         "name": "LBY",
         "orientation": "v",
         "showlegend": true,
         "type": "scatter",
         "x": [
          72.127106
         ],
         "xaxis": "x",
         "y": [
          -14.595653999999996
         ],
         "yaxis": "y"
        },
        {
         "hovertemplate": "<b>%{hovertext}</b><br><br>Country=LCA<br>Mortality in 2020=%{x}<br>Difference (1985 - 2020)=%{y}<extra></extra>",
         "hovertext": [
          "LCA"
         ],
         "legendgroup": "LCA",
         "marker": {
          "color": "#636efa",
          "symbol": "circle"
         },
         "mode": "markers",
         "name": "LCA",
         "orientation": "v",
         "showlegend": true,
         "type": "scatter",
         "x": [
          73.26798
         ],
         "xaxis": "x",
         "y": [
          -24.62382999999999
         ],
         "yaxis": "y"
        },
        {
         "hovertemplate": "<b>%{hovertext}</b><br><br>Country=LKA<br>Mortality in 2020=%{x}<br>Difference (1985 - 2020)=%{y}<extra></extra>",
         "hovertext": [
          "LKA"
         ],
         "legendgroup": "LKA",
         "marker": {
          "color": "#EF553B",
          "symbol": "circle"
         },
         "mode": "markers",
         "name": "LKA",
         "orientation": "v",
         "showlegend": true,
         "type": "scatter",
         "x": [
          28.842306
         ],
         "xaxis": "x",
         "y": [
          40.967514
         ],
         "yaxis": "y"
        },
        {
         "hovertemplate": "<b>%{hovertext}</b><br><br>Country=LSO<br>Mortality in 2020=%{x}<br>Difference (1985 - 2020)=%{y}<extra></extra>",
         "hovertext": [
          "LSO"
         ],
         "legendgroup": "LSO",
         "marker": {
          "color": "#00cc96",
          "symbol": "circle"
         },
         "mode": "markers",
         "name": "LSO",
         "orientation": "v",
         "showlegend": true,
         "type": "scatter",
         "x": [
          566.20624
         ],
         "xaxis": "x",
         "y": [
          -0.9377399999999625
         ],
         "yaxis": "y"
        },
        {
         "hovertemplate": "<b>%{hovertext}</b><br><br>Country=LTU<br>Mortality in 2020=%{x}<br>Difference (1985 - 2020)=%{y}<extra></extra>",
         "hovertext": [
          "LTU"
         ],
         "legendgroup": "LTU",
         "marker": {
          "color": "#ab63fa",
          "symbol": "circle"
         },
         "mode": "markers",
         "name": "LTU",
         "orientation": "v",
         "showlegend": true,
         "type": "scatter",
         "x": [
          8.660484
         ],
         "xaxis": "x",
         "y": [
          22.453324
         ],
         "yaxis": "y"
        },
        {
         "hovertemplate": "<b>%{hovertext}</b><br><br>Country=LUX<br>Mortality in 2020=%{x}<br>Difference (1985 - 2020)=%{y}<extra></extra>",
         "hovertext": [
          "LUX"
         ],
         "legendgroup": "LUX",
         "marker": {
          "color": "#FFA15A",
          "symbol": "circle"
         },
         "mode": "markers",
         "name": "LUX",
         "orientation": "v",
         "showlegend": true,
         "type": "scatter",
         "x": [
          6.4855
         ],
         "xaxis": "x",
         "y": [
          6.074540000000001
         ],
         "yaxis": "y"
        },
        {
         "hovertemplate": "<b>%{hovertext}</b><br><br>Country=LVA<br>Mortality in 2020=%{x}<br>Difference (1985 - 2020)=%{y}<extra></extra>",
         "hovertext": [
          "LVA"
         ],
         "legendgroup": "LVA",
         "marker": {
          "color": "#19d3f3",
          "symbol": "circle"
         },
         "mode": "markers",
         "name": "LVA",
         "orientation": "v",
         "showlegend": true,
         "type": "scatter",
         "x": [
          18.321623
         ],
         "xaxis": "x",
         "y": [
          32.04795300000001
         ],
         "yaxis": "y"
        },
        {
         "hovertemplate": "<b>%{hovertext}</b><br><br>Country=Low-income countries<br>Mortality in 2020=%{x}<br>Difference (1985 - 2020)=%{y}<extra></extra>",
         "hovertext": [
          "Low-income countries"
         ],
         "legendgroup": "Low-income countries",
         "marker": {
          "color": "#FF6692",
          "symbol": "circle"
         },
         "mode": "markers",
         "name": "Low-income countries",
         "orientation": "v",
         "showlegend": true,
         "type": "scatter",
         "x": [
          404.32355
         ],
         "xaxis": "x",
         "y": [
          696.5923499999999
         ],
         "yaxis": "y"
        },
        {
         "hovertemplate": "<b>%{hovertext}</b><br><br>Country=Lower-middle-income countries<br>Mortality in 2020=%{x}<br>Difference (1985 - 2020)=%{y}<extra></extra>",
         "hovertext": [
          "Lower-middle-income countries"
         ],
         "legendgroup": "Lower-middle-income countries",
         "marker": {
          "color": "#B6E880",
          "symbol": "circle"
         },
         "mode": "markers",
         "name": "Lower-middle-income countries",
         "orientation": "v",
         "showlegend": true,
         "type": "scatter",
         "x": [
          247.05194
         ],
         "xaxis": "x",
         "y": [
          346.91852
         ],
         "yaxis": "y"
        },
        {
         "hovertemplate": "<b>%{hovertext}</b><br><br>Country=MAR<br>Mortality in 2020=%{x}<br>Difference (1985 - 2020)=%{y}<extra></extra>",
         "hovertext": [
          "MAR"
         ],
         "legendgroup": "MAR",
         "marker": {
          "color": "#FF97FF",
          "symbol": "circle"
         },
         "mode": "markers",
         "name": "MAR",
         "orientation": "v",
         "showlegend": true,
         "type": "scatter",
         "x": [
          71.85186
         ],
         "xaxis": "x",
         "y": [
          601.89084
         ],
         "yaxis": "y"
        },
        {
         "hovertemplate": "<b>%{hovertext}</b><br><br>Country=MDA<br>Mortality in 2020=%{x}<br>Difference (1985 - 2020)=%{y}<extra></extra>",
         "hovertext": [
          "MDA"
         ],
         "legendgroup": "MDA",
         "marker": {
          "color": "#FECB52",
          "symbol": "circle"
         },
         "mode": "markers",
         "name": "MDA",
         "orientation": "v",
         "showlegend": true,
         "type": "scatter",
         "x": [
          12.264771
         ],
         "xaxis": "x",
         "y": [
          62.93174900000001
         ],
         "yaxis": "y"
        },
        {
         "hovertemplate": "<b>%{hovertext}</b><br><br>Country=MDG<br>Mortality in 2020=%{x}<br>Difference (1985 - 2020)=%{y}<extra></extra>",
         "hovertext": [
          "MDG"
         ],
         "legendgroup": "MDG",
         "marker": {
          "color": "#636efa",
          "symbol": "circle"
         },
         "mode": "markers",
         "name": "MDG",
         "orientation": "v",
         "showlegend": true,
         "type": "scatter",
         "x": [
          391.51694
         ],
         "xaxis": "x",
         "y": [
          418.92422
         ],
         "yaxis": "y"
        },
        {
         "hovertemplate": "<b>%{hovertext}</b><br><br>Country=MDV<br>Mortality in 2020=%{x}<br>Difference (1985 - 2020)=%{y}<extra></extra>",
         "hovertext": [
          "MDV"
         ],
         "legendgroup": "MDV",
         "marker": {
          "color": "#EF553B",
          "symbol": "circle"
         },
         "mode": "markers",
         "name": "MDV",
         "orientation": "v",
         "showlegend": true,
         "type": "scatter",
         "x": [
          56.6938
         ],
         "xaxis": "x",
         "y": [
          307.88432
         ],
         "yaxis": "y"
        },
        {
         "hovertemplate": "<b>%{hovertext}</b><br><br>Country=MEX<br>Mortality in 2020=%{x}<br>Difference (1985 - 2020)=%{y}<extra></extra>",
         "hovertext": [
          "MEX"
         ],
         "legendgroup": "MEX",
         "marker": {
          "color": "#00cc96",
          "symbol": "circle"
         },
         "mode": "markers",
         "name": "MEX",
         "orientation": "v",
         "showlegend": true,
         "type": "scatter",
         "x": [
          59.125072
         ],
         "xaxis": "x",
         "y": [
          38.107388
         ],
         "yaxis": "y"
        },
        {
         "hovertemplate": "<b>%{hovertext}</b><br><br>Country=MKD<br>Mortality in 2020=%{x}<br>Difference (1985 - 2020)=%{y}<extra></extra>",
         "hovertext": [
          "MKD"
         ],
         "legendgroup": "MKD",
         "marker": {
          "color": "#ab63fa",
          "symbol": "circle"
         },
         "mode": "markers",
         "name": "MKD",
         "orientation": "v",
         "showlegend": true,
         "type": "scatter",
         "x": [
          3.0359654
         ],
         "xaxis": "x",
         "y": [
          14.8872886
         ],
         "yaxis": "y"
        },
        {
         "hovertemplate": "<b>%{hovertext}</b><br><br>Country=MLI<br>Mortality in 2020=%{x}<br>Difference (1985 - 2020)=%{y}<extra></extra>",
         "hovertext": [
          "MLI"
         ],
         "legendgroup": "MLI",
         "marker": {
          "color": "#FFA15A",
          "symbol": "circle"
         },
         "mode": "markers",
         "name": "MLI",
         "orientation": "v",
         "showlegend": true,
         "type": "scatter",
         "x": [
          440.22476
         ],
         "xaxis": "x",
         "y": [
          900.9564399999999
         ],
         "yaxis": "y"
        },
        {
         "hovertemplate": "<b>%{hovertext}</b><br><br>Country=MLT<br>Mortality in 2020=%{x}<br>Difference (1985 - 2020)=%{y}<extra></extra>",
         "hovertext": [
          "MLT"
         ],
         "legendgroup": "MLT",
         "marker": {
          "color": "#19d3f3",
          "symbol": "circle"
         },
         "mode": "markers",
         "name": "MLT",
         "orientation": "v",
         "showlegend": true,
         "type": "scatter",
         "x": [
          2.8927798
         ],
         "xaxis": "x",
         "y": [
          13.2875482
         ],
         "yaxis": "y"
        },
        {
         "hovertemplate": "<b>%{hovertext}</b><br><br>Country=MMR<br>Mortality in 2020=%{x}<br>Difference (1985 - 2020)=%{y}<extra></extra>",
         "hovertext": [
          "MMR"
         ],
         "legendgroup": "MMR",
         "marker": {
          "color": "#FF6692",
          "symbol": "circle"
         },
         "mode": "markers",
         "name": "MMR",
         "orientation": "v",
         "showlegend": true,
         "type": "scatter",
         "x": [
          178.67436
         ],
         "xaxis": "x",
         "y": [
          393.82394
         ],
         "yaxis": "y"
        },
        {
         "hovertemplate": "<b>%{hovertext}</b><br><br>Country=MNE<br>Mortality in 2020=%{x}<br>Difference (1985 - 2020)=%{y}<extra></extra>",
         "hovertext": [
          "MNE"
         ],
         "legendgroup": "MNE",
         "marker": {
          "color": "#B6E880",
          "symbol": "circle"
         },
         "mode": "markers",
         "name": "MNE",
         "orientation": "v",
         "showlegend": true,
         "type": "scatter",
         "x": [
          6.174434
         ],
         "xaxis": "x",
         "y": [
          4.510566000000001
         ],
         "yaxis": "y"
        },
        {
         "hovertemplate": "<b>%{hovertext}</b><br><br>Country=MNG<br>Mortality in 2020=%{x}<br>Difference (1985 - 2020)=%{y}<extra></extra>",
         "hovertext": [
          "MNG"
         ],
         "legendgroup": "MNG",
         "marker": {
          "color": "#FF97FF",
          "symbol": "circle"
         },
         "mode": "markers",
         "name": "MNG",
         "orientation": "v",
         "showlegend": true,
         "type": "scatter",
         "x": [
          39.493614
         ],
         "xaxis": "x",
         "y": [
          172.002036
         ],
         "yaxis": "y"
        },
        {
         "hovertemplate": "<b>%{hovertext}</b><br><br>Country=MOZ<br>Mortality in 2020=%{x}<br>Difference (1985 - 2020)=%{y}<extra></extra>",
         "hovertext": [
          "MOZ"
         ],
         "legendgroup": "MOZ",
         "marker": {
          "color": "#FECB52",
          "symbol": "circle"
         },
         "mode": "markers",
         "name": "MOZ",
         "orientation": "v",
         "showlegend": true,
         "type": "scatter",
         "x": [
          127.11053
         ],
         "xaxis": "x",
         "y": [
          1113.1446700000001
         ],
         "yaxis": "y"
        },
        {
         "hovertemplate": "<b>%{hovertext}</b><br><br>Country=MRT<br>Mortality in 2020=%{x}<br>Difference (1985 - 2020)=%{y}<extra></extra>",
         "hovertext": [
          "MRT"
         ],
         "legendgroup": "MRT",
         "marker": {
          "color": "#636efa",
          "symbol": "circle"
         },
         "mode": "markers",
         "name": "MRT",
         "orientation": "v",
         "showlegend": true,
         "type": "scatter",
         "x": [
          463.83212
         ],
         "xaxis": "x",
         "y": [
          317.44527999999997
         ],
         "yaxis": "y"
        },
        {
         "hovertemplate": "<b>%{hovertext}</b><br><br>Country=MUS<br>Mortality in 2020=%{x}<br>Difference (1985 - 2020)=%{y}<extra></extra>",
         "hovertext": [
          "MUS"
         ],
         "legendgroup": "MUS",
         "marker": {
          "color": "#EF553B",
          "symbol": "circle"
         },
         "mode": "markers",
         "name": "MUS",
         "orientation": "v",
         "showlegend": true,
         "type": "scatter",
         "x": [
          84.35797
         ],
         "xaxis": "x",
         "y": [
          57.33569
         ],
         "yaxis": "y"
        },
        {
         "hovertemplate": "<b>%{hovertext}</b><br><br>Country=MWI<br>Mortality in 2020=%{x}<br>Difference (1985 - 2020)=%{y}<extra></extra>",
         "hovertext": [
          "MWI"
         ],
         "legendgroup": "MWI",
         "marker": {
          "color": "#00cc96",
          "symbol": "circle"
         },
         "mode": "markers",
         "name": "MWI",
         "orientation": "v",
         "showlegend": true,
         "type": "scatter",
         "x": [
          380.66992
         ],
         "xaxis": "x",
         "y": [
          511.11524000000003
         ],
         "yaxis": "y"
        },
        {
         "hovertemplate": "<b>%{hovertext}</b><br><br>Country=MYS<br>Mortality in 2020=%{x}<br>Difference (1985 - 2020)=%{y}<extra></extra>",
         "hovertext": [
          "MYS"
         ],
         "legendgroup": "MYS",
         "marker": {
          "color": "#ab63fa",
          "symbol": "circle"
         },
         "mode": "markers",
         "name": "MYS",
         "orientation": "v",
         "showlegend": true,
         "type": "scatter",
         "x": [
          21.131931
         ],
         "xaxis": "x",
         "y": [
          34.000628999999996
         ],
         "yaxis": "y"
        },
        {
         "hovertemplate": "<b>%{hovertext}</b><br><br>Country=NAM<br>Mortality in 2020=%{x}<br>Difference (1985 - 2020)=%{y}<extra></extra>",
         "hovertext": [
          "NAM"
         ],
         "legendgroup": "NAM",
         "marker": {
          "color": "#FFA15A",
          "symbol": "circle"
         },
         "mode": "markers",
         "name": "NAM",
         "orientation": "v",
         "showlegend": true,
         "type": "scatter",
         "x": [
          214.63507
         ],
         "xaxis": "x",
         "y": [
          113.78094999999999
         ],
         "yaxis": "y"
        },
        {
         "hovertemplate": "<b>%{hovertext}</b><br><br>Country=NER<br>Mortality in 2020=%{x}<br>Difference (1985 - 2020)=%{y}<extra></extra>",
         "hovertext": [
          "NER"
         ],
         "legendgroup": "NER",
         "marker": {
          "color": "#19d3f3",
          "symbol": "circle"
         },
         "mode": "markers",
         "name": "NER",
         "orientation": "v",
         "showlegend": true,
         "type": "scatter",
         "x": [
          441.07254
         ],
         "xaxis": "x",
         "y": [
          687.6287599999999
         ],
         "yaxis": "y"
        },
        {
         "hovertemplate": "<b>%{hovertext}</b><br><br>Country=NGA<br>Mortality in 2020=%{x}<br>Difference (1985 - 2020)=%{y}<extra></extra>",
         "hovertext": [
          "NGA"
         ],
         "legendgroup": "NGA",
         "marker": {
          "color": "#FF6692",
          "symbol": "circle"
         },
         "mode": "markers",
         "name": "NGA",
         "orientation": "v",
         "showlegend": true,
         "type": "scatter",
         "x": [
          1047.2354
         ],
         "xaxis": "x",
         "y": [
          235.78060000000005
         ],
         "yaxis": "y"
        },
        {
         "hovertemplate": "<b>%{hovertext}</b><br><br>Country=NIC<br>Mortality in 2020=%{x}<br>Difference (1985 - 2020)=%{y}<extra></extra>",
         "hovertext": [
          "NIC"
         ],
         "legendgroup": "NIC",
         "marker": {
          "color": "#B6E880",
          "symbol": "circle"
         },
         "mode": "markers",
         "name": "NIC",
         "orientation": "v",
         "showlegend": true,
         "type": "scatter",
         "x": [
          77.87857
         ],
         "xaxis": "x",
         "y": [
          192.04007
         ],
         "yaxis": "y"
        },
        {
         "hovertemplate": "<b>%{hovertext}</b><br><br>Country=NLD<br>Mortality in 2020=%{x}<br>Difference (1985 - 2020)=%{y}<extra></extra>",
         "hovertext": [
          "NLD"
         ],
         "legendgroup": "NLD",
         "marker": {
          "color": "#FF97FF",
          "symbol": "circle"
         },
         "mode": "markers",
         "name": "NLD",
         "orientation": "v",
         "showlegend": true,
         "type": "scatter",
         "x": [
          4.311739
         ],
         "xaxis": "x",
         "y": [
          7.1346099999999995
         ],
         "yaxis": "y"
        },
        {
         "hovertemplate": "<b>%{hovertext}</b><br><br>Country=NOR<br>Mortality in 2020=%{x}<br>Difference (1985 - 2020)=%{y}<extra></extra>",
         "hovertext": [
          "NOR"
         ],
         "legendgroup": "NOR",
         "marker": {
          "color": "#FECB52",
          "symbol": "circle"
         },
         "mode": "markers",
         "name": "NOR",
         "orientation": "v",
         "showlegend": true,
         "type": "scatter",
         "x": [
          1.6637414
         ],
         "xaxis": "x",
         "y": [
          5.3198226
         ],
         "yaxis": "y"
        },
        {
         "hovertemplate": "<b>%{hovertext}</b><br><br>Country=NPL<br>Mortality in 2020=%{x}<br>Difference (1985 - 2020)=%{y}<extra></extra>",
         "hovertext": [
          "NPL"
         ],
         "legendgroup": "NPL",
         "marker": {
          "color": "#636efa",
          "symbol": "circle"
         },
         "mode": "markers",
         "name": "NPL",
         "orientation": "v",
         "showlegend": true,
         "type": "scatter",
         "x": [
          174.41017
         ],
         "xaxis": "x",
         "y": [
          997.0803300000001
         ],
         "yaxis": "y"
        },
        {
         "hovertemplate": "<b>%{hovertext}</b><br><br>Country=NZL<br>Mortality in 2020=%{x}<br>Difference (1985 - 2020)=%{y}<extra></extra>",
         "hovertext": [
          "NZL"
         ],
         "legendgroup": "NZL",
         "marker": {
          "color": "#EF553B",
          "symbol": "circle"
         },
         "mode": "markers",
         "name": "NZL",
         "orientation": "v",
         "showlegend": true,
         "type": "scatter",
         "x": [
          7.030437
         ],
         "xaxis": "x",
         "y": [
          9.874183000000002
         ],
         "yaxis": "y"
        },
        {
         "hovertemplate": "<b>%{hovertext}</b><br><br>Country=North America<br>Mortality in 2020=%{x}<br>Difference (1985 - 2020)=%{y}<extra></extra>",
         "hovertext": [
          "North America"
         ],
         "legendgroup": "North America",
         "marker": {
          "color": "#00cc96",
          "symbol": "circle"
         },
         "mode": "markers",
         "name": "North America",
         "orientation": "v",
         "showlegend": true,
         "type": "scatter",
         "x": [
          51.857788
         ],
         "xaxis": "x",
         "y": [
          34.968242000000004
         ],
         "yaxis": "y"
        },
        {
         "hovertemplate": "<b>%{hovertext}</b><br><br>Country=OMN<br>Mortality in 2020=%{x}<br>Difference (1985 - 2020)=%{y}<extra></extra>",
         "hovertext": [
          "OMN"
         ],
         "legendgroup": "OMN",
         "marker": {
          "color": "#ab63fa",
          "symbol": "circle"
         },
         "mode": "markers",
         "name": "OMN",
         "orientation": "v",
         "showlegend": true,
         "type": "scatter",
         "x": [
          17.006712
         ],
         "xaxis": "x",
         "y": [
          14.050035000000001
         ],
         "yaxis": "y"
        },
        {
         "hovertemplate": "<b>%{hovertext}</b><br><br>Country=Oceania<br>Mortality in 2020=%{x}<br>Difference (1985 - 2020)=%{y}<extra></extra>",
         "hovertext": [
          "Oceania"
         ],
         "legendgroup": "Oceania",
         "marker": {
          "color": "#FFA15A",
          "symbol": "circle"
         },
         "mode": "markers",
         "name": "Oceania",
         "orientation": "v",
         "showlegend": true,
         "type": "scatter",
         "x": [
          81.61808
         ],
         "xaxis": "x",
         "y": [
          32.47860999999999
         ],
         "yaxis": "y"
        },
        {
         "hovertemplate": "<b>%{hovertext}</b><br><br>Country=PAK<br>Mortality in 2020=%{x}<br>Difference (1985 - 2020)=%{y}<extra></extra>",
         "hovertext": [
          "PAK"
         ],
         "legendgroup": "PAK",
         "marker": {
          "color": "#19d3f3",
          "symbol": "circle"
         },
         "mode": "markers",
         "name": "PAK",
         "orientation": "v",
         "showlegend": true,
         "type": "scatter",
         "x": [
          154.16394
         ],
         "xaxis": "x",
         "y": [
          213.96021
         ],
         "yaxis": "y"
        },
        {
         "hovertemplate": "<b>%{hovertext}</b><br><br>Country=PAN<br>Mortality in 2020=%{x}<br>Difference (1985 - 2020)=%{y}<extra></extra>",
         "hovertext": [
          "PAN"
         ],
         "legendgroup": "PAN",
         "marker": {
          "color": "#FF6692",
          "symbol": "circle"
         },
         "mode": "markers",
         "name": "PAN",
         "orientation": "v",
         "showlegend": true,
         "type": "scatter",
         "x": [
          49.517273
         ],
         "xaxis": "x",
         "y": [
          38.427717
         ],
         "yaxis": "y"
        },
        {
         "hovertemplate": "<b>%{hovertext}</b><br><br>Country=PER<br>Mortality in 2020=%{x}<br>Difference (1985 - 2020)=%{y}<extra></extra>",
         "hovertext": [
          "PER"
         ],
         "legendgroup": "PER",
         "marker": {
          "color": "#B6E880",
          "symbol": "circle"
         },
         "mode": "markers",
         "name": "PER",
         "orientation": "v",
         "showlegend": true,
         "type": "scatter",
         "x": [
          68.53598
         ],
         "xaxis": "x",
         "y": [
          205.44104
         ],
         "yaxis": "y"
        },
        {
         "hovertemplate": "<b>%{hovertext}</b><br><br>Country=PHL<br>Mortality in 2020=%{x}<br>Difference (1985 - 2020)=%{y}<extra></extra>",
         "hovertext": [
          "PHL"
         ],
         "legendgroup": "PHL",
         "marker": {
          "color": "#FF97FF",
          "symbol": "circle"
         },
         "mode": "markers",
         "name": "PHL",
         "orientation": "v",
         "showlegend": true,
         "type": "scatter",
         "x": [
          78.23626
         ],
         "xaxis": "x",
         "y": [
          177.69831
         ],
         "yaxis": "y"
        },
        {
         "hovertemplate": "<b>%{hovertext}</b><br><br>Country=PNG<br>Mortality in 2020=%{x}<br>Difference (1985 - 2020)=%{y}<extra></extra>",
         "hovertext": [
          "PNG"
         ],
         "legendgroup": "PNG",
         "marker": {
          "color": "#FECB52",
          "symbol": "circle"
         },
         "mode": "markers",
         "name": "PNG",
         "orientation": "v",
         "showlegend": true,
         "type": "scatter",
         "x": [
          191.83875
         ],
         "xaxis": "x",
         "y": [
          162.41384999999997
         ],
         "yaxis": "y"
        },
        {
         "hovertemplate": "<b>%{hovertext}</b><br><br>Country=POL<br>Mortality in 2020=%{x}<br>Difference (1985 - 2020)=%{y}<extra></extra>",
         "hovertext": [
          "POL"
         ],
         "legendgroup": "POL",
         "marker": {
          "color": "#636efa",
          "symbol": "circle"
         },
         "mode": "markers",
         "name": "POL",
         "orientation": "v",
         "showlegend": true,
         "type": "scatter",
         "x": [
          1.9594656
         ],
         "xaxis": "x",
         "y": [
          15.5541684
         ],
         "yaxis": "y"
        },
        {
         "hovertemplate": "<b>%{hovertext}</b><br><br>Country=PRI<br>Mortality in 2020=%{x}<br>Difference (1985 - 2020)=%{y}<extra></extra>",
         "hovertext": [
          "PRI"
         ],
         "legendgroup": "PRI",
         "marker": {
          "color": "#EF553B",
          "symbol": "circle"
         },
         "mode": "markers",
         "name": "PRI",
         "orientation": "v",
         "showlegend": true,
         "type": "scatter",
         "x": [
          34.336754
         ],
         "xaxis": "x",
         "y": [
          -2.5132200000000005
         ],
         "yaxis": "y"
        },
        {
         "hovertemplate": "<b>%{hovertext}</b><br><br>Country=PRK<br>Mortality in 2020=%{x}<br>Difference (1985 - 2020)=%{y}<extra></extra>",
         "hovertext": [
          "PRK"
         ],
         "legendgroup": "PRK",
         "marker": {
          "color": "#00cc96",
          "symbol": "circle"
         },
         "mode": "markers",
         "name": "PRK",
         "orientation": "v",
         "showlegend": true,
         "type": "scatter",
         "x": [
          106.700485
         ],
         "xaxis": "x",
         "y": [
          8.353264999999993
         ],
         "yaxis": "y"
        },
        {
         "hovertemplate": "<b>%{hovertext}</b><br><br>Country=PRT<br>Mortality in 2020=%{x}<br>Difference (1985 - 2020)=%{y}<extra></extra>",
         "hovertext": [
          "PRT"
         ],
         "legendgroup": "PRT",
         "marker": {
          "color": "#ab63fa",
          "symbol": "circle"
         },
         "mode": "markers",
         "name": "PRT",
         "orientation": "v",
         "showlegend": true,
         "type": "scatter",
         "x": [
          11.799455
         ],
         "xaxis": "x",
         "y": [
          3.7818500000000004
         ],
         "yaxis": "y"
        },
        {
         "hovertemplate": "<b>%{hovertext}</b><br><br>Country=PRY<br>Mortality in 2020=%{x}<br>Difference (1985 - 2020)=%{y}<extra></extra>",
         "hovertext": [
          "PRY"
         ],
         "legendgroup": "PRY",
         "marker": {
          "color": "#FFA15A",
          "symbol": "circle"
         },
         "mode": "markers",
         "name": "PRY",
         "orientation": "v",
         "showlegend": true,
         "type": "scatter",
         "x": [
          71.1228
         ],
         "xaxis": "x",
         "y": [
          180.81725
         ],
         "yaxis": "y"
        },
        {
         "hovertemplate": "<b>%{hovertext}</b><br><br>Country=PSE<br>Mortality in 2020=%{x}<br>Difference (1985 - 2020)=%{y}<extra></extra>",
         "hovertext": [
          "PSE"
         ],
         "legendgroup": "PSE",
         "marker": {
          "color": "#19d3f3",
          "symbol": "circle"
         },
         "mode": "markers",
         "name": "PSE",
         "orientation": "v",
         "showlegend": true,
         "type": "scatter",
         "x": [
          20.434313
         ],
         "xaxis": "x",
         "y": [
          89.827467
         ],
         "yaxis": "y"
        },
        {
         "hovertemplate": "<b>%{hovertext}</b><br><br>Country=QAT<br>Mortality in 2020=%{x}<br>Difference (1985 - 2020)=%{y}<extra></extra>",
         "hovertext": [
          "QAT"
         ],
         "legendgroup": "QAT",
         "marker": {
          "color": "#FF6692",
          "symbol": "circle"
         },
         "mode": "markers",
         "name": "QAT",
         "orientation": "v",
         "showlegend": true,
         "type": "scatter",
         "x": [
          7.605434
         ],
         "xaxis": "x",
         "y": [
          16.323866000000002
         ],
         "yaxis": "y"
        },
        {
         "hovertemplate": "<b>%{hovertext}</b><br><br>Country=ROU<br>Mortality in 2020=%{x}<br>Difference (1985 - 2020)=%{y}<extra></extra>",
         "hovertext": [
          "ROU"
         ],
         "legendgroup": "ROU",
         "marker": {
          "color": "#B6E880",
          "symbol": "circle"
         },
         "mode": "markers",
         "name": "ROU",
         "orientation": "v",
         "showlegend": true,
         "type": "scatter",
         "x": [
          10.070802
         ],
         "xaxis": "x",
         "y": [
          202.29082799999998
         ],
         "yaxis": "y"
        },
        {
         "hovertemplate": "<b>%{hovertext}</b><br><br>Country=RUS<br>Mortality in 2020=%{x}<br>Difference (1985 - 2020)=%{y}<extra></extra>",
         "hovertext": [
          "RUS"
         ],
         "legendgroup": "RUS",
         "marker": {
          "color": "#FF97FF",
          "symbol": "circle"
         },
         "mode": "markers",
         "name": "RUS",
         "orientation": "v",
         "showlegend": true,
         "type": "scatter",
         "x": [
          13.722793
         ],
         "xaxis": "x",
         "y": [
          93.114227
         ],
         "yaxis": "y"
        },
        {
         "hovertemplate": "<b>%{hovertext}</b><br><br>Country=RWA<br>Mortality in 2020=%{x}<br>Difference (1985 - 2020)=%{y}<extra></extra>",
         "hovertext": [
          "RWA"
         ],
         "legendgroup": "RWA",
         "marker": {
          "color": "#FECB52",
          "symbol": "circle"
         },
         "mode": "markers",
         "name": "RWA",
         "orientation": "v",
         "showlegend": true,
         "type": "scatter",
         "x": [
          258.92462
         ],
         "xaxis": "x",
         "y": [
          693.17518
         ],
         "yaxis": "y"
        },
        {
         "hovertemplate": "<b>%{hovertext}</b><br><br>Country=SAU<br>Mortality in 2020=%{x}<br>Difference (1985 - 2020)=%{y}<extra></extra>",
         "hovertext": [
          "SAU"
         ],
         "legendgroup": "SAU",
         "marker": {
          "color": "#636efa",
          "symbol": "circle"
         },
         "mode": "markers",
         "name": "SAU",
         "orientation": "v",
         "showlegend": true,
         "type": "scatter",
         "x": [
          16.203758
         ],
         "xaxis": "x",
         "y": [
          19.567242
         ],
         "yaxis": "y"
        },
        {
         "hovertemplate": "<b>%{hovertext}</b><br><br>Country=SDN<br>Mortality in 2020=%{x}<br>Difference (1985 - 2020)=%{y}<extra></extra>",
         "hovertext": [
          "SDN"
         ],
         "legendgroup": "SDN",
         "marker": {
          "color": "#EF553B",
          "symbol": "circle"
         },
         "mode": "markers",
         "name": "SDN",
         "orientation": "v",
         "showlegend": true,
         "type": "scatter",
         "x": [
          270.35535
         ],
         "xaxis": "x",
         "y": [
          895.1656499999999
         ],
         "yaxis": "y"
        },
        {
         "hovertemplate": "<b>%{hovertext}</b><br><br>Country=SEN<br>Mortality in 2020=%{x}<br>Difference (1985 - 2020)=%{y}<extra></extra>",
         "hovertext": [
          "SEN"
         ],
         "legendgroup": "SEN",
         "marker": {
          "color": "#00cc96",
          "symbol": "circle"
         },
         "mode": "markers",
         "name": "SEN",
         "orientation": "v",
         "showlegend": true,
         "type": "scatter",
         "x": [
          260.8806
         ],
         "xaxis": "x",
         "y": [
          499.09175
         ],
         "yaxis": "y"
        },
        {
         "hovertemplate": "<b>%{hovertext}</b><br><br>Country=SGP<br>Mortality in 2020=%{x}<br>Difference (1985 - 2020)=%{y}<extra></extra>",
         "hovertext": [
          "SGP"
         ],
         "legendgroup": "SGP",
         "marker": {
          "color": "#ab63fa",
          "symbol": "circle"
         },
         "mode": "markers",
         "name": "SGP",
         "orientation": "v",
         "showlegend": true,
         "type": "scatter",
         "x": [
          7.4527626
         ],
         "xaxis": "x",
         "y": [
          10.2421774
         ],
         "yaxis": "y"
        },
        {
         "hovertemplate": "<b>%{hovertext}</b><br><br>Country=SLB<br>Mortality in 2020=%{x}<br>Difference (1985 - 2020)=%{y}<extra></extra>",
         "hovertext": [
          "SLB"
         ],
         "legendgroup": "SLB",
         "marker": {
          "color": "#FFA15A",
          "symbol": "circle"
         },
         "mode": "markers",
         "name": "SLB",
         "orientation": "v",
         "showlegend": true,
         "type": "scatter",
         "x": [
          122.24951
         ],
         "xaxis": "x",
         "y": [
          56.95664000000001
         ],
         "yaxis": "y"
        },
        {
         "hovertemplate": "<b>%{hovertext}</b><br><br>Country=SLE<br>Mortality in 2020=%{x}<br>Difference (1985 - 2020)=%{y}<extra></extra>",
         "hovertext": [
          "SLE"
         ],
         "legendgroup": "SLE",
         "marker": {
          "color": "#19d3f3",
          "symbol": "circle"
         },
         "mode": "markers",
         "name": "SLE",
         "orientation": "v",
         "showlegend": true,
         "type": "scatter",
         "x": [
          442.8304
         ],
         "xaxis": "x",
         "y": [
          984.6967
         ],
         "yaxis": "y"
        },
        {
         "hovertemplate": "<b>%{hovertext}</b><br><br>Country=SLV<br>Mortality in 2020=%{x}<br>Difference (1985 - 2020)=%{y}<extra></extra>",
         "hovertext": [
          "SLV"
         ],
         "legendgroup": "SLV",
         "marker": {
          "color": "#FF6692",
          "symbol": "circle"
         },
         "mode": "markers",
         "name": "SLV",
         "orientation": "v",
         "showlegend": true,
         "type": "scatter",
         "x": [
          42.790462
         ],
         "xaxis": "x",
         "y": [
          167.677098
         ],
         "yaxis": "y"
        },
        {
         "hovertemplate": "<b>%{hovertext}</b><br><br>Country=SOM<br>Mortality in 2020=%{x}<br>Difference (1985 - 2020)=%{y}<extra></extra>",
         "hovertext": [
          "SOM"
         ],
         "legendgroup": "SOM",
         "marker": {
          "color": "#B6E880",
          "symbol": "circle"
         },
         "mode": "markers",
         "name": "SOM",
         "orientation": "v",
         "showlegend": true,
         "type": "scatter",
         "x": [
          620.6824
         ],
         "xaxis": "x",
         "y": [
          578.3354
         ],
         "yaxis": "y"
        },
        {
         "hovertemplate": "<b>%{hovertext}</b><br><br>Country=SRB<br>Mortality in 2020=%{x}<br>Difference (1985 - 2020)=%{y}<extra></extra>",
         "hovertext": [
          "SRB"
         ],
         "legendgroup": "SRB",
         "marker": {
          "color": "#FF97FF",
          "symbol": "circle"
         },
         "mode": "markers",
         "name": "SRB",
         "orientation": "v",
         "showlegend": true,
         "type": "scatter",
         "x": [
          10.1813345
         ],
         "xaxis": "x",
         "y": [
          6.756503499999999
         ],
         "yaxis": "y"
        },
        {
         "hovertemplate": "<b>%{hovertext}</b><br><br>Country=SSD<br>Mortality in 2020=%{x}<br>Difference (1985 - 2020)=%{y}<extra></extra>",
         "hovertext": [
          "SSD"
         ],
         "legendgroup": "SSD",
         "marker": {
          "color": "#FECB52",
          "symbol": "circle"
         },
         "mode": "markers",
         "name": "SSD",
         "orientation": "v",
         "showlegend": true,
         "type": "scatter",
         "x": [
          1222.5309
         ],
         "xaxis": "x",
         "y": [
          2069.2531
         ],
         "yaxis": "y"
        },
        {
         "hovertemplate": "<b>%{hovertext}</b><br><br>Country=STP<br>Mortality in 2020=%{x}<br>Difference (1985 - 2020)=%{y}<extra></extra>",
         "hovertext": [
          "STP"
         ],
         "legendgroup": "STP",
         "marker": {
          "color": "#636efa",
          "symbol": "circle"
         },
         "mode": "markers",
         "name": "STP",
         "orientation": "v",
         "showlegend": true,
         "type": "scatter",
         "x": [
          146.24005
         ],
         "xaxis": "x",
         "y": [
          110.72225000000003
         ],
         "yaxis": "y"
        },
        {
         "hovertemplate": "<b>%{hovertext}</b><br><br>Country=SUR<br>Mortality in 2020=%{x}<br>Difference (1985 - 2020)=%{y}<extra></extra>",
         "hovertext": [
          "SUR"
         ],
         "legendgroup": "SUR",
         "marker": {
          "color": "#EF553B",
          "symbol": "circle"
         },
         "mode": "markers",
         "name": "SUR",
         "orientation": "v",
         "showlegend": true,
         "type": "scatter",
         "x": [
          96.45955
         ],
         "xaxis": "x",
         "y": [
          319.03371000000004
         ],
         "yaxis": "y"
        },
        {
         "hovertemplate": "<b>%{hovertext}</b><br><br>Country=SVK<br>Mortality in 2020=%{x}<br>Difference (1985 - 2020)=%{y}<extra></extra>",
         "hovertext": [
          "SVK"
         ],
         "legendgroup": "SVK",
         "marker": {
          "color": "#00cc96",
          "symbol": "circle"
         },
         "mode": "markers",
         "name": "SVK",
         "orientation": "v",
         "showlegend": true,
         "type": "scatter",
         "x": [
          4.824666
         ],
         "xaxis": "x",
         "y": [
          4.94109
         ],
         "yaxis": "y"
        },
        {
         "hovertemplate": "<b>%{hovertext}</b><br><br>Country=SVN<br>Mortality in 2020=%{x}<br>Difference (1985 - 2020)=%{y}<extra></extra>",
         "hovertext": [
          "SVN"
         ],
         "legendgroup": "SVN",
         "marker": {
          "color": "#ab63fa",
          "symbol": "circle"
         },
         "mode": "markers",
         "name": "SVN",
         "orientation": "v",
         "showlegend": true,
         "type": "scatter",
         "x": [
          4.533144
         ],
         "xaxis": "x",
         "y": [
          11.49317
         ],
         "yaxis": "y"
        },
        {
         "hovertemplate": "<b>%{hovertext}</b><br><br>Country=SWE<br>Mortality in 2020=%{x}<br>Difference (1985 - 2020)=%{y}<extra></extra>",
         "hovertext": [
          "SWE"
         ],
         "legendgroup": "SWE",
         "marker": {
          "color": "#FFA15A",
          "symbol": "circle"
         },
         "mode": "markers",
         "name": "SWE",
         "orientation": "v",
         "showlegend": true,
         "type": "scatter",
         "x": [
          4.507839
         ],
         "xaxis": "x",
         "y": [
          2.7333560000000006
         ],
         "yaxis": "y"
        },
        {
         "hovertemplate": "<b>%{hovertext}</b><br><br>Country=SWZ<br>Mortality in 2020=%{x}<br>Difference (1985 - 2020)=%{y}<extra></extra>",
         "hovertext": [
          "SWZ"
         ],
         "legendgroup": "SWZ",
         "marker": {
          "color": "#19d3f3",
          "symbol": "circle"
         },
         "mode": "markers",
         "name": "SWZ",
         "orientation": "v",
         "showlegend": true,
         "type": "scatter",
         "x": [
          239.6324
         ],
         "xaxis": "x",
         "y": [
          244.7109
         ],
         "yaxis": "y"
        },
        {
         "hovertemplate": "<b>%{hovertext}</b><br><br>Country=SYC<br>Mortality in 2020=%{x}<br>Difference (1985 - 2020)=%{y}<extra></extra>",
         "hovertext": [
          "SYC"
         ],
         "legendgroup": "SYC",
         "marker": {
          "color": "#FF6692",
          "symbol": "circle"
         },
         "mode": "markers",
         "name": "SYC",
         "orientation": "v",
         "showlegend": true,
         "type": "scatter",
         "x": [
          3.3332093
         ],
         "xaxis": "x",
         "y": [
          53.4514967
         ],
         "yaxis": "y"
        },
        {
         "hovertemplate": "<b>%{hovertext}</b><br><br>Country=SYR<br>Mortality in 2020=%{x}<br>Difference (1985 - 2020)=%{y}<extra></extra>",
         "hovertext": [
          "SYR"
         ],
         "legendgroup": "SYR",
         "marker": {
          "color": "#B6E880",
          "symbol": "circle"
         },
         "mode": "markers",
         "name": "SYR",
         "orientation": "v",
         "showlegend": true,
         "type": "scatter",
         "x": [
          29.917326
         ],
         "xaxis": "x",
         "y": [
          25.637204
         ],
         "yaxis": "y"
        },
        {
         "hovertemplate": "<b>%{hovertext}</b><br><br>Country=South America<br>Mortality in 2020=%{x}<br>Difference (1985 - 2020)=%{y}<extra></extra>",
         "hovertext": [
          "South America"
         ],
         "legendgroup": "South America",
         "marker": {
          "color": "#FF97FF",
          "symbol": "circle"
         },
         "mode": "markers",
         "name": "South America",
         "orientation": "v",
         "showlegend": true,
         "type": "scatter",
         "x": [
          84.53931
         ],
         "xaxis": "x",
         "y": [
          121.84842
         ],
         "yaxis": "y"
        },
        {
         "hovertemplate": "<b>%{hovertext}</b><br><br>Country=TCD<br>Mortality in 2020=%{x}<br>Difference (1985 - 2020)=%{y}<extra></extra>",
         "hovertext": [
          "TCD"
         ],
         "legendgroup": "TCD",
         "marker": {
          "color": "#FECB52",
          "symbol": "circle"
         },
         "mode": "markers",
         "name": "TCD",
         "orientation": "v",
         "showlegend": true,
         "type": "scatter",
         "x": [
          1063.4933
         ],
         "xaxis": "x",
         "y": [
          356.50929999999994
         ],
         "yaxis": "y"
        },
        {
         "hovertemplate": "<b>%{hovertext}</b><br><br>Country=TGO<br>Mortality in 2020=%{x}<br>Difference (1985 - 2020)=%{y}<extra></extra>",
         "hovertext": [
          "TGO"
         ],
         "legendgroup": "TGO",
         "marker": {
          "color": "#636efa",
          "symbol": "circle"
         },
         "mode": "markers",
         "name": "TGO",
         "orientation": "v",
         "showlegend": true,
         "type": "scatter",
         "x": [
          399.03983
         ],
         "xaxis": "x",
         "y": [
          280.97927
         ],
         "yaxis": "y"
        },
        {
         "hovertemplate": "<b>%{hovertext}</b><br><br>Country=THA<br>Mortality in 2020=%{x}<br>Difference (1985 - 2020)=%{y}<extra></extra>",
         "hovertext": [
          "THA"
         ],
         "legendgroup": "THA",
         "marker": {
          "color": "#EF553B",
          "symbol": "circle"
         },
         "mode": "markers",
         "name": "THA",
         "orientation": "v",
         "showlegend": true,
         "type": "scatter",
         "x": [
          28.600433
         ],
         "xaxis": "x",
         "y": [
          48.957947000000004
         ],
         "yaxis": "y"
        },
        {
         "hovertemplate": "<b>%{hovertext}</b><br><br>Country=TJK<br>Mortality in 2020=%{x}<br>Difference (1985 - 2020)=%{y}<extra></extra>",
         "hovertext": [
          "TJK"
         ],
         "legendgroup": "TJK",
         "marker": {
          "color": "#00cc96",
          "symbol": "circle"
         },
         "mode": "markers",
         "name": "TJK",
         "orientation": "v",
         "showlegend": true,
         "type": "scatter",
         "x": [
          16.631699
         ],
         "xaxis": "x",
         "y": [
          96.990801
         ],
         "yaxis": "y"
        },
        {
         "hovertemplate": "<b>%{hovertext}</b><br><br>Country=TKM<br>Mortality in 2020=%{x}<br>Difference (1985 - 2020)=%{y}<extra></extra>",
         "hovertext": [
          "TKM"
         ],
         "legendgroup": "TKM",
         "marker": {
          "color": "#ab63fa",
          "symbol": "circle"
         },
         "mode": "markers",
         "name": "TKM",
         "orientation": "v",
         "showlegend": true,
         "type": "scatter",
         "x": [
          5.148083
         ],
         "xaxis": "x",
         "y": [
          88.866413
         ],
         "yaxis": "y"
        },
        {
         "hovertemplate": "<b>%{hovertext}</b><br><br>Country=TLS<br>Mortality in 2020=%{x}<br>Difference (1985 - 2020)=%{y}<extra></extra>",
         "hovertext": [
          "TLS"
         ],
         "legendgroup": "TLS",
         "marker": {
          "color": "#FFA15A",
          "symbol": "circle"
         },
         "mode": "markers",
         "name": "TLS",
         "orientation": "v",
         "showlegend": true,
         "type": "scatter",
         "x": [
          203.92422
         ],
         "xaxis": "x",
         "y": [
          1467.91228
         ],
         "yaxis": "y"
        },
        {
         "hovertemplate": "<b>%{hovertext}</b><br><br>Country=TON<br>Mortality in 2020=%{x}<br>Difference (1985 - 2020)=%{y}<extra></extra>",
         "hovertext": [
          "TON"
         ],
         "legendgroup": "TON",
         "marker": {
          "color": "#19d3f3",
          "symbol": "circle"
         },
         "mode": "markers",
         "name": "TON",
         "orientation": "v",
         "showlegend": true,
         "type": "scatter",
         "x": [
          125.63764
         ],
         "xaxis": "x",
         "y": [
          3.337459999999993
         ],
         "yaxis": "y"
        },
        {
         "hovertemplate": "<b>%{hovertext}</b><br><br>Country=TTO<br>Mortality in 2020=%{x}<br>Difference (1985 - 2020)=%{y}<extra></extra>",
         "hovertext": [
          "TTO"
         ],
         "legendgroup": "TTO",
         "marker": {
          "color": "#FF6692",
          "symbol": "circle"
         },
         "mode": "markers",
         "name": "TTO",
         "orientation": "v",
         "showlegend": true,
         "type": "scatter",
         "x": [
          26.583
         ],
         "xaxis": "x",
         "y": [
          82.313416
         ],
         "yaxis": "y"
        },
        {
         "hovertemplate": "<b>%{hovertext}</b><br><br>Country=TUN<br>Mortality in 2020=%{x}<br>Difference (1985 - 2020)=%{y}<extra></extra>",
         "hovertext": [
          "TUN"
         ],
         "legendgroup": "TUN",
         "marker": {
          "color": "#B6E880",
          "symbol": "circle"
         },
         "mode": "markers",
         "name": "TUN",
         "orientation": "v",
         "showlegend": true,
         "type": "scatter",
         "x": [
          36.625584
         ],
         "xaxis": "x",
         "y": [
          88.035991
         ],
         "yaxis": "y"
        },
        {
         "hovertemplate": "<b>%{hovertext}</b><br><br>Country=TUR<br>Mortality in 2020=%{x}<br>Difference (1985 - 2020)=%{y}<extra></extra>",
         "hovertext": [
          "TUR"
         ],
         "legendgroup": "TUR",
         "marker": {
          "color": "#FF97FF",
          "symbol": "circle"
         },
         "mode": "markers",
         "name": "TUR",
         "orientation": "v",
         "showlegend": true,
         "type": "scatter",
         "x": [
          17.33207
         ],
         "xaxis": "x",
         "y": [
          35.841552
         ],
         "yaxis": "y"
        },
        {
         "hovertemplate": "<b>%{hovertext}</b><br><br>Country=TZA<br>Mortality in 2020=%{x}<br>Difference (1985 - 2020)=%{y}<extra></extra>",
         "hovertext": [
          "TZA"
         ],
         "legendgroup": "TZA",
         "marker": {
          "color": "#FECB52",
          "symbol": "circle"
         },
         "mode": "markers",
         "name": "TZA",
         "orientation": "v",
         "showlegend": true,
         "type": "scatter",
         "x": [
          238.29881
         ],
         "xaxis": "x",
         "y": [
          605.61074
         ],
         "yaxis": "y"
        },
        {
         "hovertemplate": "<b>%{hovertext}</b><br><br>Country=UGA<br>Mortality in 2020=%{x}<br>Difference (1985 - 2020)=%{y}<extra></extra>",
         "hovertext": [
          "UGA"
         ],
         "legendgroup": "UGA",
         "marker": {
          "color": "#636efa",
          "symbol": "circle"
         },
         "mode": "markers",
         "name": "UGA",
         "orientation": "v",
         "showlegend": true,
         "type": "scatter",
         "x": [
          284.14078
         ],
         "xaxis": "x",
         "y": [
          473.07062
         ],
         "yaxis": "y"
        },
        {
         "hovertemplate": "<b>%{hovertext}</b><br><br>Country=UKR<br>Mortality in 2020=%{x}<br>Difference (1985 - 2020)=%{y}<extra></extra>",
         "hovertext": [
          "UKR"
         ],
         "legendgroup": "UKR",
         "marker": {
          "color": "#EF553B",
          "symbol": "circle"
         },
         "mode": "markers",
         "name": "UKR",
         "orientation": "v",
         "showlegend": true,
         "type": "scatter",
         "x": [
          16.540369
         ],
         "xaxis": "x",
         "y": [
          49.64142100000001
         ],
         "yaxis": "y"
        },
        {
         "hovertemplate": "<b>%{hovertext}</b><br><br>Country=URY<br>Mortality in 2020=%{x}<br>Difference (1985 - 2020)=%{y}<extra></extra>",
         "hovertext": [
          "URY"
         ],
         "legendgroup": "URY",
         "marker": {
          "color": "#00cc96",
          "symbol": "circle"
         },
         "mode": "markers",
         "name": "URY",
         "orientation": "v",
         "showlegend": true,
         "type": "scatter",
         "x": [
          18.638363
         ],
         "xaxis": "x",
         "y": [
          29.983577000000004
         ],
         "yaxis": "y"
        },
        {
         "hovertemplate": "<b>%{hovertext}</b><br><br>Country=USA<br>Mortality in 2020=%{x}<br>Difference (1985 - 2020)=%{y}<extra></extra>",
         "hovertext": [
          "USA"
         ],
         "legendgroup": "USA",
         "marker": {
          "color": "#ab63fa",
          "symbol": "circle"
         },
         "mode": "markers",
         "name": "USA",
         "orientation": "v",
         "showlegend": true,
         "type": "scatter",
         "x": [
          21.084906
         ],
         "xaxis": "x",
         "y": [
          -10.3557295
         ],
         "yaxis": "y"
        },
        {
         "hovertemplate": "<b>%{hovertext}</b><br><br>Country=UZB<br>Mortality in 2020=%{x}<br>Difference (1985 - 2020)=%{y}<extra></extra>",
         "hovertext": [
          "UZB"
         ],
         "legendgroup": "UZB",
         "marker": {
          "color": "#FFA15A",
          "symbol": "circle"
         },
         "mode": "markers",
         "name": "UZB",
         "orientation": "v",
         "showlegend": true,
         "type": "scatter",
         "x": [
          30.178492
         ],
         "xaxis": "x",
         "y": [
          62.754133
         ],
         "yaxis": "y"
        },
        {
         "hovertemplate": "<b>%{hovertext}</b><br><br>Country=Upper-middle-income countries<br>Mortality in 2020=%{x}<br>Difference (1985 - 2020)=%{y}<extra></extra>",
         "hovertext": [
          "Upper-middle-income countries"
         ],
         "legendgroup": "Upper-middle-income countries",
         "marker": {
          "color": "#19d3f3",
          "symbol": "circle"
         },
         "mode": "markers",
         "name": "Upper-middle-income countries",
         "orientation": "v",
         "showlegend": true,
         "type": "scatter",
         "x": [
          46.896927
         ],
         "xaxis": "x",
         "y": [
          79.01812699999999
         ],
         "yaxis": "y"
        },
        {
         "hovertemplate": "<b>%{hovertext}</b><br><br>Country=VCT<br>Mortality in 2020=%{x}<br>Difference (1985 - 2020)=%{y}<extra></extra>",
         "hovertext": [
          "VCT"
         ],
         "legendgroup": "VCT",
         "marker": {
          "color": "#FF6692",
          "symbol": "circle"
         },
         "mode": "markers",
         "name": "VCT",
         "orientation": "v",
         "showlegend": true,
         "type": "scatter",
         "x": [
          61.794033
         ],
         "xaxis": "x",
         "y": [
          16.004101000000006
         ],
         "yaxis": "y"
        },
        {
         "hovertemplate": "<b>%{hovertext}</b><br><br>Country=VEN<br>Mortality in 2020=%{x}<br>Difference (1985 - 2020)=%{y}<extra></extra>",
         "hovertext": [
          "VEN"
         ],
         "legendgroup": "VEN",
         "marker": {
          "color": "#B6E880",
          "symbol": "circle"
         },
         "mode": "markers",
         "name": "VEN",
         "orientation": "v",
         "showlegend": true,
         "type": "scatter",
         "x": [
          259.18643
         ],
         "xaxis": "x",
         "y": [
          -153.82489599999997
         ],
         "yaxis": "y"
        },
        {
         "hovertemplate": "<b>%{hovertext}</b><br><br>Country=VNM<br>Mortality in 2020=%{x}<br>Difference (1985 - 2020)=%{y}<extra></extra>",
         "hovertext": [
          "VNM"
         ],
         "legendgroup": "VNM",
         "marker": {
          "color": "#FF97FF",
          "symbol": "circle"
         },
         "mode": "markers",
         "name": "VNM",
         "orientation": "v",
         "showlegend": true,
         "type": "scatter",
         "x": [
          45.530025
         ],
         "xaxis": "x",
         "y": [
          97.69235499999999
         ],
         "yaxis": "y"
        },
        {
         "hovertemplate": "<b>%{hovertext}</b><br><br>Country=VUT<br>Mortality in 2020=%{x}<br>Difference (1985 - 2020)=%{y}<extra></extra>",
         "hovertext": [
          "VUT"
         ],
         "legendgroup": "VUT",
         "marker": {
          "color": "#FECB52",
          "symbol": "circle"
         },
         "mode": "markers",
         "name": "VUT",
         "orientation": "v",
         "showlegend": true,
         "type": "scatter",
         "x": [
          94.44282
         ],
         "xaxis": "x",
         "y": [
          66.68733999999999
         ],
         "yaxis": "y"
        },
        {
         "hovertemplate": "<b>%{hovertext}</b><br><br>Country=WSM<br>Mortality in 2020=%{x}<br>Difference (1985 - 2020)=%{y}<extra></extra>",
         "hovertext": [
          "WSM"
         ],
         "legendgroup": "WSM",
         "marker": {
          "color": "#636efa",
          "symbol": "circle"
         },
         "mode": "markers",
         "name": "WSM",
         "orientation": "v",
         "showlegend": true,
         "type": "scatter",
         "x": [
          59.079075
         ],
         "xaxis": "x",
         "y": [
          57.348704999999995
         ],
         "yaxis": "y"
        },
        {
         "hovertemplate": "<b>%{hovertext}</b><br><br>Country=World<br>Mortality in 2020=%{x}<br>Difference (1985 - 2020)=%{y}<extra></extra>",
         "hovertext": [
          "World"
         ],
         "legendgroup": "World",
         "marker": {
          "color": "#EF553B",
          "symbol": "circle"
         },
         "mode": "markers",
         "name": "World",
         "orientation": "v",
         "showlegend": true,
         "type": "scatter",
         "x": [
          212.23637
         ],
         "xaxis": "x",
         "y": [
          216.56082999999998
         ],
         "yaxis": "y"
        },
        {
         "hovertemplate": "<b>%{hovertext}</b><br><br>Country=YEM<br>Mortality in 2020=%{x}<br>Difference (1985 - 2020)=%{y}<extra></extra>",
         "hovertext": [
          "YEM"
         ],
         "legendgroup": "YEM",
         "marker": {
          "color": "#00cc96",
          "symbol": "circle"
         },
         "mode": "markers",
         "name": "YEM",
         "orientation": "v",
         "showlegend": true,
         "type": "scatter",
         "x": [
          183.39972
         ],
         "xaxis": "x",
         "y": [
          282.71193999999997
         ],
         "yaxis": "y"
        },
        {
         "hovertemplate": "<b>%{hovertext}</b><br><br>Country=ZAF<br>Mortality in 2020=%{x}<br>Difference (1985 - 2020)=%{y}<extra></extra>",
         "hovertext": [
          "ZAF"
         ],
         "legendgroup": "ZAF",
         "marker": {
          "color": "#ab63fa",
          "symbol": "circle"
         },
         "mode": "markers",
         "name": "ZAF",
         "orientation": "v",
         "showlegend": true,
         "type": "scatter",
         "x": [
          126.83269
         ],
         "xaxis": "x",
         "y": [
          41.19144999999999
         ],
         "yaxis": "y"
        },
        {
         "hovertemplate": "<b>%{hovertext}</b><br><br>Country=ZMB<br>Mortality in 2020=%{x}<br>Difference (1985 - 2020)=%{y}<extra></extra>",
         "hovertext": [
          "ZMB"
         ],
         "legendgroup": "ZMB",
         "marker": {
          "color": "#FFA15A",
          "symbol": "circle"
         },
         "mode": "markers",
         "name": "ZMB",
         "orientation": "v",
         "showlegend": true,
         "type": "scatter",
         "x": [
          134.66542
         ],
         "xaxis": "x",
         "y": [
          420.77757999999994
         ],
         "yaxis": "y"
        },
        {
         "hovertemplate": "<b>%{hovertext}</b><br><br>Country=ZWE<br>Mortality in 2020=%{x}<br>Difference (1985 - 2020)=%{y}<extra></extra>",
         "hovertext": [
          "ZWE"
         ],
         "legendgroup": "ZWE",
         "marker": {
          "color": "#19d3f3",
          "symbol": "circle"
         },
         "mode": "markers",
         "name": "ZWE",
         "orientation": "v",
         "showlegend": true,
         "type": "scatter",
         "x": [
          356.7589
         ],
         "xaxis": "x",
         "y": [
          74.78175000000005
         ],
         "yaxis": "y"
        }
       ],
       "layout": {
        "height": 500,
        "legend": {
         "title": {
          "text": "Country"
         },
         "tracegroupgap": 0
        },
        "template": {
         "data": {
          "bar": [
           {
            "error_x": {
             "color": "#2a3f5f"
            },
            "error_y": {
             "color": "#2a3f5f"
            },
            "marker": {
             "line": {
              "color": "#E5ECF6",
              "width": 0.5
             },
             "pattern": {
              "fillmode": "overlay",
              "size": 10,
              "solidity": 0.2
             }
            },
            "type": "bar"
           }
          ],
          "barpolar": [
           {
            "marker": {
             "line": {
              "color": "#E5ECF6",
              "width": 0.5
             },
             "pattern": {
              "fillmode": "overlay",
              "size": 10,
              "solidity": 0.2
             }
            },
            "type": "barpolar"
           }
          ],
          "carpet": [
           {
            "aaxis": {
             "endlinecolor": "#2a3f5f",
             "gridcolor": "white",
             "linecolor": "white",
             "minorgridcolor": "white",
             "startlinecolor": "#2a3f5f"
            },
            "baxis": {
             "endlinecolor": "#2a3f5f",
             "gridcolor": "white",
             "linecolor": "white",
             "minorgridcolor": "white",
             "startlinecolor": "#2a3f5f"
            },
            "type": "carpet"
           }
          ],
          "choropleth": [
           {
            "colorbar": {
             "outlinewidth": 0,
             "ticks": ""
            },
            "type": "choropleth"
           }
          ],
          "contour": [
           {
            "colorbar": {
             "outlinewidth": 0,
             "ticks": ""
            },
            "colorscale": [
             [
              0,
              "#0d0887"
             ],
             [
              0.1111111111111111,
              "#46039f"
             ],
             [
              0.2222222222222222,
              "#7201a8"
             ],
             [
              0.3333333333333333,
              "#9c179e"
             ],
             [
              0.4444444444444444,
              "#bd3786"
             ],
             [
              0.5555555555555556,
              "#d8576b"
             ],
             [
              0.6666666666666666,
              "#ed7953"
             ],
             [
              0.7777777777777778,
              "#fb9f3a"
             ],
             [
              0.8888888888888888,
              "#fdca26"
             ],
             [
              1,
              "#f0f921"
             ]
            ],
            "type": "contour"
           }
          ],
          "contourcarpet": [
           {
            "colorbar": {
             "outlinewidth": 0,
             "ticks": ""
            },
            "type": "contourcarpet"
           }
          ],
          "heatmap": [
           {
            "colorbar": {
             "outlinewidth": 0,
             "ticks": ""
            },
            "colorscale": [
             [
              0,
              "#0d0887"
             ],
             [
              0.1111111111111111,
              "#46039f"
             ],
             [
              0.2222222222222222,
              "#7201a8"
             ],
             [
              0.3333333333333333,
              "#9c179e"
             ],
             [
              0.4444444444444444,
              "#bd3786"
             ],
             [
              0.5555555555555556,
              "#d8576b"
             ],
             [
              0.6666666666666666,
              "#ed7953"
             ],
             [
              0.7777777777777778,
              "#fb9f3a"
             ],
             [
              0.8888888888888888,
              "#fdca26"
             ],
             [
              1,
              "#f0f921"
             ]
            ],
            "type": "heatmap"
           }
          ],
          "heatmapgl": [
           {
            "colorbar": {
             "outlinewidth": 0,
             "ticks": ""
            },
            "colorscale": [
             [
              0,
              "#0d0887"
             ],
             [
              0.1111111111111111,
              "#46039f"
             ],
             [
              0.2222222222222222,
              "#7201a8"
             ],
             [
              0.3333333333333333,
              "#9c179e"
             ],
             [
              0.4444444444444444,
              "#bd3786"
             ],
             [
              0.5555555555555556,
              "#d8576b"
             ],
             [
              0.6666666666666666,
              "#ed7953"
             ],
             [
              0.7777777777777778,
              "#fb9f3a"
             ],
             [
              0.8888888888888888,
              "#fdca26"
             ],
             [
              1,
              "#f0f921"
             ]
            ],
            "type": "heatmapgl"
           }
          ],
          "histogram": [
           {
            "marker": {
             "pattern": {
              "fillmode": "overlay",
              "size": 10,
              "solidity": 0.2
             }
            },
            "type": "histogram"
           }
          ],
          "histogram2d": [
           {
            "colorbar": {
             "outlinewidth": 0,
             "ticks": ""
            },
            "colorscale": [
             [
              0,
              "#0d0887"
             ],
             [
              0.1111111111111111,
              "#46039f"
             ],
             [
              0.2222222222222222,
              "#7201a8"
             ],
             [
              0.3333333333333333,
              "#9c179e"
             ],
             [
              0.4444444444444444,
              "#bd3786"
             ],
             [
              0.5555555555555556,
              "#d8576b"
             ],
             [
              0.6666666666666666,
              "#ed7953"
             ],
             [
              0.7777777777777778,
              "#fb9f3a"
             ],
             [
              0.8888888888888888,
              "#fdca26"
             ],
             [
              1,
              "#f0f921"
             ]
            ],
            "type": "histogram2d"
           }
          ],
          "histogram2dcontour": [
           {
            "colorbar": {
             "outlinewidth": 0,
             "ticks": ""
            },
            "colorscale": [
             [
              0,
              "#0d0887"
             ],
             [
              0.1111111111111111,
              "#46039f"
             ],
             [
              0.2222222222222222,
              "#7201a8"
             ],
             [
              0.3333333333333333,
              "#9c179e"
             ],
             [
              0.4444444444444444,
              "#bd3786"
             ],
             [
              0.5555555555555556,
              "#d8576b"
             ],
             [
              0.6666666666666666,
              "#ed7953"
             ],
             [
              0.7777777777777778,
              "#fb9f3a"
             ],
             [
              0.8888888888888888,
              "#fdca26"
             ],
             [
              1,
              "#f0f921"
             ]
            ],
            "type": "histogram2dcontour"
           }
          ],
          "mesh3d": [
           {
            "colorbar": {
             "outlinewidth": 0,
             "ticks": ""
            },
            "type": "mesh3d"
           }
          ],
          "parcoords": [
           {
            "line": {
             "colorbar": {
              "outlinewidth": 0,
              "ticks": ""
             }
            },
            "type": "parcoords"
           }
          ],
          "pie": [
           {
            "automargin": true,
            "type": "pie"
           }
          ],
          "scatter": [
           {
            "fillpattern": {
             "fillmode": "overlay",
             "size": 10,
             "solidity": 0.2
            },
            "type": "scatter"
           }
          ],
          "scatter3d": [
           {
            "line": {
             "colorbar": {
              "outlinewidth": 0,
              "ticks": ""
             }
            },
            "marker": {
             "colorbar": {
              "outlinewidth": 0,
              "ticks": ""
             }
            },
            "type": "scatter3d"
           }
          ],
          "scattercarpet": [
           {
            "marker": {
             "colorbar": {
              "outlinewidth": 0,
              "ticks": ""
             }
            },
            "type": "scattercarpet"
           }
          ],
          "scattergeo": [
           {
            "marker": {
             "colorbar": {
              "outlinewidth": 0,
              "ticks": ""
             }
            },
            "type": "scattergeo"
           }
          ],
          "scattergl": [
           {
            "marker": {
             "colorbar": {
              "outlinewidth": 0,
              "ticks": ""
             }
            },
            "type": "scattergl"
           }
          ],
          "scattermapbox": [
           {
            "marker": {
             "colorbar": {
              "outlinewidth": 0,
              "ticks": ""
             }
            },
            "type": "scattermapbox"
           }
          ],
          "scatterpolar": [
           {
            "marker": {
             "colorbar": {
              "outlinewidth": 0,
              "ticks": ""
             }
            },
            "type": "scatterpolar"
           }
          ],
          "scatterpolargl": [
           {
            "marker": {
             "colorbar": {
              "outlinewidth": 0,
              "ticks": ""
             }
            },
            "type": "scatterpolargl"
           }
          ],
          "scatterternary": [
           {
            "marker": {
             "colorbar": {
              "outlinewidth": 0,
              "ticks": ""
             }
            },
            "type": "scatterternary"
           }
          ],
          "surface": [
           {
            "colorbar": {
             "outlinewidth": 0,
             "ticks": ""
            },
            "colorscale": [
             [
              0,
              "#0d0887"
             ],
             [
              0.1111111111111111,
              "#46039f"
             ],
             [
              0.2222222222222222,
              "#7201a8"
             ],
             [
              0.3333333333333333,
              "#9c179e"
             ],
             [
              0.4444444444444444,
              "#bd3786"
             ],
             [
              0.5555555555555556,
              "#d8576b"
             ],
             [
              0.6666666666666666,
              "#ed7953"
             ],
             [
              0.7777777777777778,
              "#fb9f3a"
             ],
             [
              0.8888888888888888,
              "#fdca26"
             ],
             [
              1,
              "#f0f921"
             ]
            ],
            "type": "surface"
           }
          ],
          "table": [
           {
            "cells": {
             "fill": {
              "color": "#EBF0F8"
             },
             "line": {
              "color": "white"
             }
            },
            "header": {
             "fill": {
              "color": "#C8D4E3"
             },
             "line": {
              "color": "white"
             }
            },
            "type": "table"
           }
          ]
         },
         "layout": {
          "annotationdefaults": {
           "arrowcolor": "#2a3f5f",
           "arrowhead": 0,
           "arrowwidth": 1
          },
          "autotypenumbers": "strict",
          "coloraxis": {
           "colorbar": {
            "outlinewidth": 0,
            "ticks": ""
           }
          },
          "colorscale": {
           "diverging": [
            [
             0,
             "#8e0152"
            ],
            [
             0.1,
             "#c51b7d"
            ],
            [
             0.2,
             "#de77ae"
            ],
            [
             0.3,
             "#f1b6da"
            ],
            [
             0.4,
             "#fde0ef"
            ],
            [
             0.5,
             "#f7f7f7"
            ],
            [
             0.6,
             "#e6f5d0"
            ],
            [
             0.7,
             "#b8e186"
            ],
            [
             0.8,
             "#7fbc41"
            ],
            [
             0.9,
             "#4d9221"
            ],
            [
             1,
             "#276419"
            ]
           ],
           "sequential": [
            [
             0,
             "#0d0887"
            ],
            [
             0.1111111111111111,
             "#46039f"
            ],
            [
             0.2222222222222222,
             "#7201a8"
            ],
            [
             0.3333333333333333,
             "#9c179e"
            ],
            [
             0.4444444444444444,
             "#bd3786"
            ],
            [
             0.5555555555555556,
             "#d8576b"
            ],
            [
             0.6666666666666666,
             "#ed7953"
            ],
            [
             0.7777777777777778,
             "#fb9f3a"
            ],
            [
             0.8888888888888888,
             "#fdca26"
            ],
            [
             1,
             "#f0f921"
            ]
           ],
           "sequentialminus": [
            [
             0,
             "#0d0887"
            ],
            [
             0.1111111111111111,
             "#46039f"
            ],
            [
             0.2222222222222222,
             "#7201a8"
            ],
            [
             0.3333333333333333,
             "#9c179e"
            ],
            [
             0.4444444444444444,
             "#bd3786"
            ],
            [
             0.5555555555555556,
             "#d8576b"
            ],
            [
             0.6666666666666666,
             "#ed7953"
            ],
            [
             0.7777777777777778,
             "#fb9f3a"
            ],
            [
             0.8888888888888888,
             "#fdca26"
            ],
            [
             1,
             "#f0f921"
            ]
           ]
          },
          "colorway": [
           "#636efa",
           "#EF553B",
           "#00cc96",
           "#ab63fa",
           "#FFA15A",
           "#19d3f3",
           "#FF6692",
           "#B6E880",
           "#FF97FF",
           "#FECB52"
          ],
          "font": {
           "color": "#2a3f5f"
          },
          "geo": {
           "bgcolor": "white",
           "lakecolor": "white",
           "landcolor": "#E5ECF6",
           "showlakes": true,
           "showland": true,
           "subunitcolor": "white"
          },
          "hoverlabel": {
           "align": "left"
          },
          "hovermode": "closest",
          "mapbox": {
           "style": "light"
          },
          "paper_bgcolor": "white",
          "plot_bgcolor": "#E5ECF6",
          "polar": {
           "angularaxis": {
            "gridcolor": "white",
            "linecolor": "white",
            "ticks": ""
           },
           "bgcolor": "#E5ECF6",
           "radialaxis": {
            "gridcolor": "white",
            "linecolor": "white",
            "ticks": ""
           }
          },
          "scene": {
           "xaxis": {
            "backgroundcolor": "#E5ECF6",
            "gridcolor": "white",
            "gridwidth": 2,
            "linecolor": "white",
            "showbackground": true,
            "ticks": "",
            "zerolinecolor": "white"
           },
           "yaxis": {
            "backgroundcolor": "#E5ECF6",
            "gridcolor": "white",
            "gridwidth": 2,
            "linecolor": "white",
            "showbackground": true,
            "ticks": "",
            "zerolinecolor": "white"
           },
           "zaxis": {
            "backgroundcolor": "#E5ECF6",
            "gridcolor": "white",
            "gridwidth": 2,
            "linecolor": "white",
            "showbackground": true,
            "ticks": "",
            "zerolinecolor": "white"
           }
          },
          "shapedefaults": {
           "line": {
            "color": "#2a3f5f"
           }
          },
          "ternary": {
           "aaxis": {
            "gridcolor": "white",
            "linecolor": "white",
            "ticks": ""
           },
           "baxis": {
            "gridcolor": "white",
            "linecolor": "white",
            "ticks": ""
           },
           "bgcolor": "#E5ECF6",
           "caxis": {
            "gridcolor": "white",
            "linecolor": "white",
            "ticks": ""
           }
          },
          "title": {
           "x": 0.05
          },
          "xaxis": {
           "automargin": true,
           "gridcolor": "white",
           "linecolor": "white",
           "ticks": "",
           "title": {
            "standoff": 15
           },
           "zerolinecolor": "white",
           "zerolinewidth": 2
          },
          "yaxis": {
           "automargin": true,
           "gridcolor": "white",
           "linecolor": "white",
           "ticks": "",
           "title": {
            "standoff": 15
           },
           "zerolinecolor": "white",
           "zerolinewidth": 2
          }
         }
        },
        "title": {
         "text": "Difference vs Mortality in 2020"
        },
        "width": 700,
        "xaxis": {
         "anchor": "y",
         "domain": [
          0,
          1
         ],
         "title": {
          "text": "Mortality in 2020"
         }
        },
        "yaxis": {
         "anchor": "x",
         "domain": [
          0,
          1
         ],
         "title": {
          "text": "Difference (1985 - 2020)"
         }
        }
       }
      }
     },
     "metadata": {},
     "output_type": "display_data"
    }
   ],
   "source": [
    "import plotly.express as px\n",
    "\n",
    "# Compute the difference if not already present\n",
    "df_MortalityHistory[\"Difference\"] = df_MortalityHistory[\"1985\"] - df_MortalityHistory[\"2020\"]\n",
    "\n",
    "# Interactive scatter plot: Difference vs 1985\n",
    "fig1 = px.scatter(\n",
    "    df_MortalityHistory,\n",
    "    x=\"1985\",\n",
    "    y=\"Difference\",\n",
    "    color=\"Country\",  # or any other categorical or numerical column\n",
    "    hover_name=\"Country\",\n",
    "    title=\"Difference vs Mortality in 1985\",\n",
    "    labels={\"1985\": \"Mortality in 1985\", \"Difference\": \"Difference (1985 - 2020)\"},\n",
    "    width=700,\n",
    "    height=500\n",
    ")\n",
    "fig1.show()\n",
    "\n",
    "# Interactive scatter plot: Difference vs 2020\n",
    "fig2 = px.scatter(\n",
    "    df_MortalityHistory,\n",
    "    x=\"2020\",\n",
    "    y=\"Difference\",\n",
    "    color=\"Country\",  # Can change to region or income if available\n",
    "    hover_name=\"Country\",\n",
    "    title=\"Difference vs Mortality in 2020\",\n",
    "    labels={\"2020\": \"Mortality in 2020\", \"Difference\": \"Difference (1985 - 2020)\"},\n",
    "    width=700,\n",
    "    height=500\n",
    ")\n",
    "fig2.show()"
   ]
  },
  {
   "cell_type": "code",
   "execution_count": null,
   "metadata": {},
   "outputs": [],
   "source": []
  }
 ],
 "metadata": {
  "kernelspec": {
   "display_name": "erdos_spring_2025",
   "language": "python",
   "name": "python3"
  },
  "language_info": {
   "codemirror_mode": {
    "name": "ipython",
    "version": 3
   },
   "file_extension": ".py",
   "mimetype": "text/x-python",
   "name": "python",
   "nbconvert_exporter": "python",
   "pygments_lexer": "ipython3",
   "version": "3.12.9"
  }
 },
 "nbformat": 4,
 "nbformat_minor": 2
}
